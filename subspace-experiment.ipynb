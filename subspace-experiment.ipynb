{
 "cells": [
  {
   "cell_type": "markdown",
   "metadata": {},
   "source": [
    "## No noise\n",
    "\n",
    "First, we will just experiment with no noise to make sure we construct an accurate simulation of the original results"
   ]
  },
  {
   "cell_type": "code",
   "execution_count": 1,
   "metadata": {},
   "outputs": [
    {
     "name": "stdout",
     "output_type": "stream",
     "text": [
      "True space \n",
      " [[0.53681681 0.31955386]\n",
      " [0.90434765 0.92795992]\n",
      " [0.80238186 0.30370519]\n",
      " [0.04821501 0.96115855]\n",
      " [0.61738405 0.31999264]]\n"
     ]
    }
   ],
   "source": [
    "import numpy as np\n",
    "import matplotlib.pyplot as plt\n",
    "\n",
    "d = 5 #Number of columns \n",
    "r = 2 #Dimension of U*\n",
    "\n",
    "S = np.random.rand(d,r) #Random (true) subspace\n",
    "#S = np.array([[1,1],[1,2],[1,3],[1,4],[1,5]]) #Uncomment the left out for an example true space\n",
    "\n",
    "print(\"True space \\n\", S)"
   ]
  },
  {
   "cell_type": "code",
   "execution_count": 2,
   "metadata": {},
   "outputs": [
    {
     "name": "stdout",
     "output_type": "stream",
     "text": [
      "Binary matrix \n",
      " [[1 0 0]\n",
      " [1 1 0]\n",
      " [1 1 1]\n",
      " [0 1 1]\n",
      " [0 0 1]]\n"
     ]
    }
   ],
   "source": [
    "#Define the binary matrix W\n",
    "\n",
    "W = np.array([[1,0,0],[1,1,0],[1,1,1],[0,1,1],[0,0,1]])\n",
    "W_T = np.transpose(W)\n",
    "\n",
    "print(\"Binary matrix \\n\", W)"
   ]
  },
  {
   "cell_type": "code",
   "execution_count": 3,
   "metadata": {},
   "outputs": [
    {
     "name": "stdout",
     "output_type": "stream",
     "text": [
      "Matrix of projections of S onto lower dimensions \n",
      " [[0.53681681 0.31955386 0.90434765 0.92795992 0.80238186 0.30370519]\n",
      " [0.90434765 0.92795992 0.80238186 0.30370519 0.04821501 0.96115855]\n",
      " [0.80238186 0.30370519 0.04821501 0.96115855 0.61738405 0.31999264]]\n"
     ]
    }
   ],
   "source": [
    "#Computing the projections of S onto canonical coordinates\n",
    "\n",
    "\n",
    "S_0 = np.array([S[j,:] for j in range(np.shape(S)[0]) if W_T[0,j] == 1])    \n",
    "S_1 = np.array([S[j,:] for j in range(np.shape(S)[0]) if W_T[1,j] == 1])   \n",
    "S_2 = np.array([S[j,:] for j in range(np.shape(S)[0]) if W_T[2,j] == 1])\n",
    "\n",
    "S_proj = np.hstack((S_0,S_1,S_2))\n",
    "\n",
    "print(\"Matrix of projections of S onto lower dimensions \\n\", S_proj)"
   ]
  },
  {
   "cell_type": "code",
   "execution_count": 4,
   "metadata": {},
   "outputs": [
    {
     "name": "stdout",
     "output_type": "stream",
     "text": [
      "Matrix of basis vectors of the nullspace of projections \n",
      " [[-0.89890367 -0.62337566 -0.60546576]\n",
      " [ 0.17860536  0.67932726 -0.07254746]\n",
      " [ 0.40009038  0.38719149  0.79255793]]\n"
     ]
    }
   ],
   "source": [
    "#Computing the nullspaces of the projections\n",
    "\n",
    "from scipy.linalg import null_space\n",
    "\n",
    "A_0 = null_space(S_0.T)\n",
    "A_1 = null_space(S_1.T)\n",
    "A_2 = null_space(S_2.T)\n",
    "\n",
    "A_temp = np.hstack((A_0,A_1,A_2)) \n",
    "\n",
    "print(\"Matrix of basis vectors of the nullspace of projections \\n\", A_temp)"
   ]
  },
  {
   "cell_type": "code",
   "execution_count": 5,
   "metadata": {},
   "outputs": [
    {
     "name": "stdout",
     "output_type": "stream",
     "text": [
      "Matrix whose kernel will be our guess \n",
      " [[-0.89890367  0.          0.        ]\n",
      " [ 0.17860536 -0.62337566  0.        ]\n",
      " [ 0.40009038  0.67932726 -0.60546576]\n",
      " [ 0.          0.38719149 -0.07254746]\n",
      " [ 0.          0.          0.79255793]]\n"
     ]
    }
   ],
   "source": [
    "#Creating the matrix A whose null space will be the true subspace\n",
    "\n",
    "A = np.array(W, dtype = float)\n",
    "\n",
    "for j in range(A.shape[1]):\n",
    "    c = 0\n",
    "    for i in range(A.shape[0]):\n",
    "        if A[i,j] == 1:\n",
    "            A[i,j] = A_temp[c, j]\n",
    "            c+=1\n",
    "print(\"Matrix whose kernel will be our guess \\n\", A)"
   ]
  },
  {
   "cell_type": "code",
   "execution_count": 6,
   "metadata": {},
   "outputs": [
    {
     "name": "stdout",
     "output_type": "stream",
     "text": [
      "Basis of guessed space \n",
      " [[ 0.02157223  0.3712487 ]\n",
      " [ 0.4118576   0.54500085]\n",
      " [-0.13539094  0.59080837]\n",
      " [ 0.90063125 -0.15912531]\n",
      " [-0.02099035  0.43677578]]\n"
     ]
    }
   ],
   "source": [
    "#Finding kernel space of A\n",
    "\n",
    "S_test = null_space(A.T)\n",
    "\n",
    "print(\"Basis of guessed space \\n\", S_test)"
   ]
  },
  {
   "cell_type": "code",
   "execution_count": 7,
   "metadata": {},
   "outputs": [
    {
     "name": "stdout",
     "output_type": "stream",
     "text": [
      "True projection [[ 0.13829096  0.21121555  0.21641615 -0.03964644  0.16169963]\n",
      " [ 0.21121555  0.46665261  0.26622928  0.2842084   0.22939813]\n",
      " [ 0.21641615  0.26622928  0.36738524 -0.21594988  0.26089269]\n",
      " [-0.03964644  0.2842084  -0.21594988  0.83645752 -0.08840665]\n",
      " [ 0.16169963  0.22939813  0.26089269 -0.08840665  0.19121367]]\n",
      "Guessed projection [[ 0.13829096  0.21121555  0.21641615 -0.03964644  0.16169963]\n",
      " [ 0.21121555  0.46665261  0.26622928  0.2842084   0.22939813]\n",
      " [ 0.21641615  0.26622928  0.36738524 -0.21594988  0.26089269]\n",
      " [-0.03964644  0.2842084  -0.21594988  0.83645752 -0.08840665]\n",
      " [ 0.16169963  0.22939813  0.26089269 -0.08840665  0.19121367]]\n",
      "Error 4.936378087359142e-16\n"
     ]
    }
   ],
   "source": [
    "# Testing for whether the span of ker(A) is the same as column space of S - i.e. the true space\n",
    "# We test this by looking at the projection matrices \n",
    "# Error estimated with the ||P_true - P_test||_F, the frobenius norm of the difference in Projection matrices\n",
    "\n",
    "P_test = np.dot(S_test,np.dot(np.linalg.inv(np.dot(S_test.T,S_test)), S_test.T))\n",
    "\n",
    "P_true = np.dot(S,np.dot(np.linalg.inv(np.dot(S.T,S)), S.T))\n",
    "\n",
    "error = np.linalg.norm(P_true - P_test, 'fro') \n",
    "\n",
    "print (\"True projection\", P_true)\n",
    "print (\"Guessed projection\", P_test)\n",
    "\n",
    "print (\"Error\", error)"
   ]
  },
  {
   "cell_type": "markdown",
   "metadata": {},
   "source": [
    "## With noise \n",
    "\n",
    "Now we will perform the same experiment, but we will add noise into the mix and see how the noise translates through every step."
   ]
  },
  {
   "cell_type": "code",
   "execution_count": 8,
   "metadata": {},
   "outputs": [
    {
     "name": "stdout",
     "output_type": "stream",
     "text": [
      "True space \n",
      " [[0.047944   0.41131052]\n",
      " [0.5384001  0.43157746]\n",
      " [0.31181228 0.84221249]\n",
      " [0.65662577 0.84386963]\n",
      " [0.624796   0.03480811]]\n"
     ]
    }
   ],
   "source": [
    "d = 5 #Number of columns \n",
    "r = 2 #Dimension of U*\n",
    "\n",
    "\n",
    "S = np.random.rand(d,r) #Random (true) subspace\n",
    "#S = np.array([[1,1],[1,2],[1,3],[1,4],[1,5]]) #Uncomment the left out for an example true space\n",
    "\n",
    "print(\"True space \\n\", S)"
   ]
  },
  {
   "cell_type": "code",
   "execution_count": 9,
   "metadata": {},
   "outputs": [
    {
     "name": "stdout",
     "output_type": "stream",
     "text": [
      "Binary matrix \n",
      " [[1 0 0]\n",
      " [1 1 0]\n",
      " [1 1 1]\n",
      " [0 1 1]\n",
      " [0 0 1]]\n"
     ]
    }
   ],
   "source": [
    "#Define the binary matrix W\n",
    "\n",
    "W = np.array([[1,0,0],[1,1,0],[1,1,1],[0,1,1],[0,0,1]])\n",
    "W_T = np.transpose(W)\n",
    "\n",
    "print(\"Binary matrix \\n\", W)"
   ]
  },
  {
   "cell_type": "code",
   "execution_count": 10,
   "metadata": {},
   "outputs": [
    {
     "name": "stdout",
     "output_type": "stream",
     "text": [
      "Projections of S onto lower dimensions w/o noise \n",
      " [[0.047944   0.41131052 0.5384001  0.43157746 0.31181228 0.84221249]\n",
      " [0.5384001  0.43157746 0.31181228 0.84221249 0.65662577 0.84386963]\n",
      " [0.31181228 0.84221249 0.65662577 0.84386963 0.624796   0.03480811]]\n",
      "Projections of S onto lower dimensions w/ noise \n",
      " [[0.02969583 0.41619289 0.54829323 0.43833332 0.31734744 0.85669672]\n",
      " [0.53665    0.42123575 0.31880219 0.85308814 0.66801338 0.84022503]\n",
      " [0.32123914 0.84358295 0.66185053 0.85081651 0.62150013 0.03855376]]\n"
     ]
    }
   ],
   "source": [
    "# Computing the projections of S onto canonical coordinates\n",
    "\n",
    "# No noise Version\n",
    "\n",
    "S_0 = np.array([S[j,:] for j in range(np.shape(S)[0]) if W_T[0,j] == 1])  \n",
    "S_1 = np.array([S[j,:] for j in range(np.shape(S)[0]) if W_T[1,j] == 1])\n",
    "S_2 = np.array([S[j,:] for j in range(np.shape(S)[0]) if W_T[2,j] == 1])\n",
    "\n",
    "S_proj = np.hstack((S_0,S_1,S_2))\n",
    "\n",
    "# Creating the noisy versions\n",
    "\n",
    "mu = 0 # mean\n",
    "sigma = 1 # standard deviation\n",
    "lam = 1e-2 # noise level\n",
    "\n",
    "#Adding noise from a Gaussian distribution\n",
    "\n",
    "S_0_noise = S_0 + np.random.normal(mu, sigma, (d-r,r))*lam\n",
    "S_1_noise = S_1 + np.random.normal(mu, sigma, (d-r,r))*lam\n",
    "S_2_noise = S_2 + np.random.normal(mu, sigma, (d-r,r))*lam\n",
    "\n",
    "S_proj_noise = np.hstack((S_0_noise,S_1_noise,S_2_noise))\n",
    "\n",
    "\n",
    "print(\"Projections of S onto lower dimensions w/o noise \\n\", S_proj)\n",
    "print(\"Projections of S onto lower dimensions w/ noise \\n\", S_proj_noise)"
   ]
  },
  {
   "cell_type": "code",
   "execution_count": 11,
   "metadata": {},
   "outputs": [
    {
     "name": "stdout",
     "output_type": "stream",
     "text": [
      "Basis vectors of the nullspace of projections w/o noise \n",
      " [[-0.82413886 -0.62527411  0.64898462]\n",
      " [-0.22710779 -0.36873873 -0.66309546]\n",
      " [ 0.51886144  0.6877965   0.37299245]]\n",
      "Basis vectors of the nullspace of projections w/ noise \n",
      " [[-0.80103563 -0.6188111   0.63538069]\n",
      " [-0.27420328 -0.37204808 -0.66578587]\n",
      " [ 0.53212261  0.69184756  0.39117841]]\n"
     ]
    }
   ],
   "source": [
    "# Computing the nullspaces of the projections\n",
    "\n",
    "# No noise version\n",
    "\n",
    "A_0 = null_space(S_0.T)\n",
    "A_1 = null_space(S_1.T)\n",
    "A_2 = null_space(S_2.T)\n",
    "\n",
    "A_temp = np.hstack((A_0,A_1,A_2)) \n",
    "\n",
    "# Noisy version\n",
    "\n",
    "A_0_noise = null_space(S_0_noise.T)\n",
    "A_1_noise = null_space(S_1_noise.T)\n",
    "A_2_noise = null_space(S_2_noise.T)\n",
    "\n",
    "A_temp_noise = np.hstack((A_0_noise,A_1_noise,A_2_noise)) \n",
    "\n",
    "\n",
    "\n",
    "print(\"Basis vectors of the nullspace of projections w/o noise \\n\", A_temp)\n",
    "print(\"Basis vectors of the nullspace of projections w/ noise \\n\", A_temp_noise)"
   ]
  },
  {
   "cell_type": "code",
   "execution_count": 12,
   "metadata": {},
   "outputs": [
    {
     "data": {
      "text/plain": [
       "array([[-0.02310322, -0.00646301,  0.01360393],\n",
       "       [ 0.04709549,  0.00330934,  0.00269041],\n",
       "       [-0.01326117, -0.00405106, -0.01818596]])"
      ]
     },
     "execution_count": 12,
     "metadata": {},
     "output_type": "execute_result"
    }
   ],
   "source": [
    "A_temp-A_temp_noise"
   ]
  },
  {
   "cell_type": "code",
   "execution_count": 13,
   "metadata": {},
   "outputs": [
    {
     "name": "stdout",
     "output_type": "stream",
     "text": [
      "Matrix whose kernel will be our guess w/o noise \n",
      " [[-0.82413886  0.          0.        ]\n",
      " [-0.22710779 -0.62527411  0.        ]\n",
      " [ 0.51886144 -0.36873873  0.64898462]\n",
      " [ 0.          0.6877965  -0.66309546]\n",
      " [ 0.          0.          0.37299245]]\n",
      "Matrix whose kernel will be our guess w/ noise \n",
      " [[-0.80103563  0.          0.        ]\n",
      " [-0.27420328 -0.6188111   0.        ]\n",
      " [ 0.53212261 -0.37204808  0.63538069]\n",
      " [ 0.          0.69184756 -0.66578587]\n",
      " [ 0.          0.          0.39117841]]\n"
     ]
    }
   ],
   "source": [
    "#Creating the matrix A whose null space will be the true subspace\n",
    "\n",
    "# No noise version\n",
    "\n",
    "A = np.array(W, dtype = float) \n",
    "\n",
    "for j in range(A.shape[1]):\n",
    "    c = 0\n",
    "    for i in range(A.shape[0]):\n",
    "        if A[i,j] == 1:\n",
    "            A[i,j] = A_temp[c, j]\n",
    "            c+=1\n",
    "            \n",
    "# Noisy version\n",
    "            \n",
    "A_noise = np.array(W, dtype = float) \n",
    "\n",
    "for j in range(A_noise.shape[1]):\n",
    "    c = 0\n",
    "    for i in range(A_noise.shape[0]):\n",
    "        if A_noise[i,j] == 1:\n",
    "            A_noise[i,j] = A_temp_noise[c, j]\n",
    "            c+=1       \n",
    "\n",
    "            \n",
    "print(\"Matrix whose kernel will be our guess w/o noise \\n\", A)\n",
    "print(\"Matrix whose kernel will be our guess w/ noise \\n\", A_noise)"
   ]
  },
  {
   "cell_type": "code",
   "execution_count": 14,
   "metadata": {
    "scrolled": true
   },
   "outputs": [
    {
     "data": {
      "text/plain": [
       "array([[-0.02310322,  0.        ,  0.        ],\n",
       "       [ 0.04709549, -0.00646301,  0.        ],\n",
       "       [-0.01326117,  0.00330934,  0.01360393],\n",
       "       [ 0.        , -0.00405106,  0.00269041],\n",
       "       [ 0.        ,  0.        , -0.01818596]])"
      ]
     },
     "execution_count": 14,
     "metadata": {},
     "output_type": "execute_result"
    }
   ],
   "source": [
    "A - A_noise"
   ]
  },
  {
   "cell_type": "code",
   "execution_count": 15,
   "metadata": {},
   "outputs": [
    {
     "data": {
      "text/plain": [
       "0.059327653541703905"
      ]
     },
     "execution_count": 15,
     "metadata": {},
     "output_type": "execute_result"
    }
   ],
   "source": [
    "np.linalg.norm(A-A_noise, 'fro')"
   ]
  },
  {
   "cell_type": "code",
   "execution_count": 16,
   "metadata": {},
   "outputs": [
    {
     "name": "stdout",
     "output_type": "stream",
     "text": [
      "Basis of guessed space w/o noise \n",
      " [[ 0.24404097 -0.33556876]\n",
      " [ 0.39385198  0.29636477]\n",
      " [ 0.56001559 -0.40328398]\n",
      " [ 0.65828321  0.05321747]\n",
      " [ 0.19588359  0.7962986 ]]\n",
      "Basis of guessed space w/ noise \n",
      " [[ 0.23422233 -0.38095217]\n",
      " [ 0.3983665   0.30951634]\n",
      " [ 0.55786737 -0.41397576]\n",
      " [ 0.6563109   0.05422186]\n",
      " [ 0.21091238  0.76469546]]\n"
     ]
    }
   ],
   "source": [
    "#Finding kernel space of A\n",
    "\n",
    "S_test = null_space(A.T) # No noise\n",
    "S_test_noise = null_space(A_noise.T) # With noise\n",
    "\n",
    "print(\"Basis of guessed space w/o noise \\n\", S_test)\n",
    "print(\"Basis of guessed space w/ noise \\n\", S_test_noise)"
   ]
  },
  {
   "cell_type": "code",
   "execution_count": 17,
   "metadata": {
    "scrolled": true
   },
   "outputs": [
    {
     "data": {
      "text/plain": [
       "array([[ 0.00981863,  0.0453834 ],\n",
       "       [-0.00451452, -0.01315157],\n",
       "       [ 0.00214823,  0.01069178],\n",
       "       [ 0.00197231, -0.00100439],\n",
       "       [-0.01502879,  0.03160314]])"
      ]
     },
     "execution_count": 17,
     "metadata": {},
     "output_type": "execute_result"
    }
   ],
   "source": [
    "S_test - S_test_noise"
   ]
  },
  {
   "cell_type": "code",
   "execution_count": 18,
   "metadata": {},
   "outputs": [
    {
     "data": {
      "text/plain": [
       "0.060809985945069665"
      ]
     },
     "execution_count": 18,
     "metadata": {},
     "output_type": "execute_result"
    }
   ],
   "source": [
    "np.linalg.norm(S_test - S_test_noise, 'fro')"
   ]
  },
  {
   "cell_type": "code",
   "execution_count": 19,
   "metadata": {
    "scrolled": true
   },
   "outputs": [
    {
     "name": "stdout",
     "output_type": "stream",
     "text": [
      "True projection [[ 0.17216239 -0.00333474  0.27199625  0.14278995 -0.21940932]\n",
      " [-0.00333474  0.24295146  0.10104409  0.27503793  0.31314399]\n",
      " [ 0.27199625  0.10104409  0.47625544  0.34718711 -0.21143661]\n",
      " [ 0.14278995  0.27503793  0.34718711  0.43616888  0.17132387]\n",
      " [-0.21940932  0.31314399 -0.21143661  0.17132387  0.67246184]]\n",
      "Guessed projection w/o noise [[ 0.17216239 -0.00333474  0.27199625  0.14278995 -0.21940932]\n",
      " [-0.00333474  0.24295146  0.10104409  0.27503793  0.31314399]\n",
      " [ 0.27199625  0.10104409  0.47625544  0.34718711 -0.21143661]\n",
      " [ 0.14278995  0.27503793  0.34718711  0.43616888  0.17132387]\n",
      " [-0.21940932  0.31314399 -0.21143661  0.17132387  0.67246184]]\n",
      "Guessed projection w/ noise [[ 0.19998465 -0.02460459  0.28836996  0.13306674 -0.241912  ]\n",
      " [-0.02460459  0.25449623  0.09410341  0.27823483  0.32070616]\n",
      " [ 0.28836996  0.09410341  0.48259193  0.3436879  -0.19890425]\n",
      " [ 0.13306674  0.27823483  0.3436879   0.43368401  0.1798873 ]\n",
      " [-0.241912    0.32070616 -0.19890425  0.1798873   0.62924317]]\n",
      "Error w/o noise 7.795870509783372e-16\n",
      "Error w/ noise 0.078618092146373\n"
     ]
    }
   ],
   "source": [
    "# Testing for whether the span of ker(A) is the same as column space of S - i.e. the true space\n",
    "# We test this by looking at the projection matrices \n",
    "# Error estimated with the ||P_true - P_test||_F, the frobenius norm of the difference in Projection matrices\n",
    "\n",
    "P_test = np.dot(S_test,np.dot(np.linalg.inv(np.dot(S_test.T,S_test)), S_test.T))\n",
    "P_test_noise = np.dot(S_test_noise,np.dot(np.linalg.inv(np.dot(S_test_noise.T,S_test_noise)), S_test_noise.T))\n",
    "P_true = np.dot(S,np.dot(np.linalg.inv(np.dot(S.T,S)), S.T))\n",
    "\n",
    "error = np.linalg.norm(P_true - P_test, 'fro') \n",
    "error_noise = np.linalg.norm(P_true - P_test_noise, 'fro') \n",
    "\n",
    "print (\"True projection\", P_true)\n",
    "print (\"Guessed projection w/o noise\", P_test)\n",
    "print (\"Guessed projection w/ noise\", P_test_noise)\n",
    "\n",
    "print (\"Error w/o noise\", error)\n",
    "print (\"Error w/ noise\", error_noise)"
   ]
  },
  {
   "cell_type": "markdown",
   "metadata": {},
   "source": [
    "## Experiments"
   ]
  },
  {
   "cell_type": "code",
   "execution_count": 20,
   "metadata": {},
   "outputs": [],
   "source": [
    "def Errors(d_, r_, U_, W_, lam_):\n",
    "\n",
    "    # Computing the projections of S onto canonical coordinates\n",
    "\n",
    "    # No noise Version\n",
    "\n",
    "    U_0 = np.array([U_[j,:] for j in range(np.shape(U_)[0]) if W_.T[0,j] == 1])  \n",
    "    U_1 = np.array([U_[j,:] for j in range(np.shape(U_)[0]) if W_.T[1,j] == 1])\n",
    "    U_2 = np.array([U_[j,:] for j in range(np.shape(U_)[0]) if W_.T[2,j] == 1])\n",
    "\n",
    "    U_proj = np.hstack((U_0,U_1,U_2))\n",
    "\n",
    "    # Creating the noisy versions\n",
    "\n",
    "    mu = 0 # mean\n",
    "    sigma = 1 # standard deviation\n",
    "\n",
    "    #Adding noise from a Gaussian distribution\n",
    "\n",
    "    U_0_noise = U_0 + np.random.normal(mu, sigma, (d_-r_,r_))*lam_\n",
    "    U_1_noise = U_1 + np.random.normal(mu, sigma, (d_-r_,r_))*lam_\n",
    "    U_2_noise = U_2 + np.random.normal(mu, sigma, (d_-r_,r_))*lam_\n",
    "\n",
    "    U_proj_noise = np.hstack((U_0_noise,U_1_noise,U_2_noise))\n",
    "\n",
    "\n",
    "    # Computing the nullspaces of the projections\n",
    "\n",
    "    # No noise version\n",
    "\n",
    "    a_0 = null_space(U_0.T)\n",
    "    a_1 = null_space(U_1.T)\n",
    "    a_2 = null_space(U_2.T)\n",
    "\n",
    "    a_temp = np.hstack((a_0,a_1,a_2)) \n",
    "\n",
    "    # Noisy version\n",
    "\n",
    "    a_0_noise = null_space(U_0_noise.T)\n",
    "    a_1_noise = null_space(U_1_noise.T)\n",
    "    a_2_noise = null_space(U_2_noise.T)\n",
    "\n",
    "    a_temp_noise = np.hstack((a_0_noise,a_1_noise,a_2_noise)) \n",
    "    \n",
    "    #Creating the matrix A whose null space will be the true subspace\n",
    "\n",
    "    # No noise version\n",
    "\n",
    "    A_ = np.array(W_, dtype = float) \n",
    "\n",
    "    for j in range(A_.shape[1]):\n",
    "        c = 0\n",
    "        for i in range(A_.shape[0]):\n",
    "            if A_[i,j] == 1:\n",
    "                A_[i,j] = a_temp[c, j]\n",
    "                c+=1\n",
    "\n",
    "    # Noisy version\n",
    "\n",
    "    Anoise_ = np.array(W_, dtype = float) \n",
    "\n",
    "    for j in range(Anoise_.shape[1]):\n",
    "        c = 0\n",
    "        for i in range(Anoise_.shape[0]):\n",
    "            if Anoise_[i,j] == 1:\n",
    "                Anoise_[i,j] = a_temp_noise[c, j]\n",
    "                c+=1       \n",
    "\n",
    "    error_A = np.linalg.norm(A_-Anoise_, 'fro')\n",
    "    \n",
    "    #Finding kernel space of A\n",
    "\n",
    "    U_test = null_space(A_.T) # No noise\n",
    "    U_test_noise = null_space(Anoise_.T) # With noise\n",
    "\n",
    "    \n",
    "    error_U_test = np.linalg.norm(U_test - U_test_noise, 'fro')\n",
    "    \n",
    "    # Testing for whether the span of ker(A) is the same as column space of S - i.e. the true space\n",
    "    # We test this by looking at the projection matrices \n",
    "    # Error estimated with the ||Proj_true - Proj_test||_F, the frobenius norm of the difference in Projection matrices\n",
    "\n",
    "    Proj_test = np.dot(U_test,np.dot(np.linalg.inv(np.dot(U_test.T,U_test)), U_test.T))\n",
    "    Proj_test_noise = np.dot(U_test_noise,np.dot(np.linalg.inv(np.dot(U_test_noise.T,U_test_noise)), U_test_noise.T))\n",
    "    Proj_true = np.dot(U_,np.dot(np.linalg.inv(np.dot(U_.T,U_)), U_.T))\n",
    "\n",
    "    error_test = np.linalg.norm(Proj_true - Proj_test, 'fro') \n",
    "    error_noise_test = np.linalg.norm(Proj_true - Proj_test_noise, 'fro') \n",
    "\n",
    "    return error_A, error_U_test, error_test, error_noise_test"
   ]
  },
  {
   "cell_type": "code",
   "execution_count": 81,
   "metadata": {},
   "outputs": [],
   "source": [
    "d = 5 #Number of columns \n",
    "r = 2 #Dimension of U\n",
    "\n",
    "S = np.random.rand(d,r) #Random (true) subspace\n",
    "#S = np.array([[1,1],[1,2],[1,3],[1,4],[1,5]]) #Uncomment the left out for an example true space\n",
    "\n",
    "W = np.array([[1,0,1],[1,1,0],[1,1,0],[0,1,1],[0,0,1]])\n",
    "\n",
    "low_b = 1e-7 #Lower bound of noise\n",
    "upper_b = 1e1 #Upper bound of noise\n",
    "n = 5000 # Number of experiments"
   ]
  },
  {
   "cell_type": "code",
   "execution_count": 82,
   "metadata": {},
   "outputs": [],
   "source": [
    "lam_vec = np.random.uniform(low_b,upper_b,n)\n",
    "lam_vec = np.sort(lam_vec)"
   ]
  },
  {
   "cell_type": "code",
   "execution_count": 83,
   "metadata": {},
   "outputs": [
    {
     "data": {
      "text/plain": [
       "array([1.81852427e-03, 5.99937236e-03, 9.69302981e-03, ...,\n",
       "       9.99026159e+00, 9.99192517e+00, 9.99960386e+00])"
      ]
     },
     "execution_count": 83,
     "metadata": {},
     "output_type": "execute_result"
    }
   ],
   "source": [
    "lam_vec"
   ]
  },
  {
   "cell_type": "code",
   "execution_count": 84,
   "metadata": {},
   "outputs": [],
   "source": [
    "err_A = np.empty(n, dtype = float) #Stores error in kernel spaces for each experiment (no noise vs noise)\n",
    "err_U_test = np.empty(n, dtype = float) #Stores error in kernel spaces of A, i.e. errors in 'guesses' (no noise vs noise)\n",
    "err_test = np.empty(n, dtype = float) #Stores error in the difference between true projection and no noise guess\n",
    "err_noise_test = np.empty(n, dtype = float) # Stores error in difference between true projection and noise guess\n",
    "\n",
    "c = 0\n",
    "for lam in lam_vec:\n",
    "    err_A[c], err_U_test[c], err_test[c], err_noise_test[c] = Errors(d,r,S,W,lam)\n",
    "    c+=1\n"
   ]
  },
  {
   "cell_type": "code",
   "execution_count": 85,
   "metadata": {},
   "outputs": [
    {
     "data": {
      "text/plain": [
       "array([0.01939671, 0.04931681, 0.01688392, ..., 2.53614538, 1.16656389,\n",
       "       2.35461498])"
      ]
     },
     "execution_count": 85,
     "metadata": {},
     "output_type": "execute_result"
    }
   ],
   "source": [
    "err_A"
   ]
  },
  {
   "cell_type": "code",
   "execution_count": 86,
   "metadata": {},
   "outputs": [
    {
     "data": {
      "text/plain": [
       "array([0.01477597, 0.06681821, 0.02006226, ..., 1.77220638, 1.83550763,\n",
       "       2.10135901])"
      ]
     },
     "execution_count": 86,
     "metadata": {},
     "output_type": "execute_result"
    }
   ],
   "source": [
    "err_U_test"
   ]
  },
  {
   "cell_type": "code",
   "execution_count": 87,
   "metadata": {},
   "outputs": [
    {
     "data": {
      "text/plain": [
       "array([2.8037339e-15, 2.8037339e-15, 2.8037339e-15, ..., 2.8037339e-15,\n",
       "       2.8037339e-15, 2.8037339e-15])"
      ]
     },
     "execution_count": 87,
     "metadata": {},
     "output_type": "execute_result"
    }
   ],
   "source": [
    "err_test"
   ]
  },
  {
   "cell_type": "code",
   "execution_count": 88,
   "metadata": {},
   "outputs": [
    {
     "data": {
      "text/plain": [
       "array([0.0190098 , 0.06400415, 0.02225463, ..., 1.7689137 , 1.08704384,\n",
       "       1.76305793])"
      ]
     },
     "execution_count": 88,
     "metadata": {},
     "output_type": "execute_result"
    }
   ],
   "source": [
    "err_noise_test"
   ]
  },
  {
   "cell_type": "code",
   "execution_count": 89,
   "metadata": {},
   "outputs": [
    {
     "data": {
      "image/png": "[encoded data removed]",
      "text/plain": [
       "<Figure size 432x288 with 1 Axes>"
      ]
     },
     "metadata": {
      "needs_background": "light"
     },
     "output_type": "display_data"
    }
   ],
   "source": [
    "plt.scatter(lam_vec,err_A)\n",
    "plt.show()"
   ]
  },
  {
   "cell_type": "code",
   "execution_count": 90,
   "metadata": {},
   "outputs": [
    {
     "data": {
      "image/png": "[encoded data removed]",
      "text/plain": [
       "<Figure size 432x288 with 1 Axes>"
      ]
     },
     "metadata": {
      "needs_background": "light"
     },
     "output_type": "display_data"
    }
   ],
   "source": [
    "plt.scatter(lam_vec, err_U_test)\n",
    "plt.show()"
   ]
  },
  {
   "cell_type": "code",
   "execution_count": 91,
   "metadata": {},
   "outputs": [
    {
     "data": {
      "image/png": "[encoded data removed]",
      "text/plain": [
       "<Figure size 432x288 with 1 Axes>"
      ]
     },
     "metadata": {
      "needs_background": "light"
     },
     "output_type": "display_data"
    }
   ],
   "source": [
    "plt.scatter(lam_vec, err_test)\n",
    "plt.show()"
   ]
  },
  {
   "cell_type": "code",
   "execution_count": 92,
   "metadata": {},
   "outputs": [
    {
     "data": {
      "image/png": "[encoded data removed]",
      "text/plain": [
       "<Figure size 432x288 with 1 Axes>"
      ]
     },
     "metadata": {
      "needs_background": "light"
     },
     "output_type": "display_data"
    }
   ],
   "source": [
    "plt.scatter(lam_vec, err_noise_test)\n",
    "plt.show()"
   ]
  },
  {
   "cell_type": "code",
   "execution_count": null,
   "metadata": {},
   "outputs": [],
   "source": []
  }
 ],
 "metadata": {
  "kernelspec": {
   "display_name": "Python 3",
   "language": "python",
   "name": "python3"
  },
  "language_info": {
   "codemirror_mode": {
    "name": "ipython",
    "version": 3
   },
   "file_extension": ".py",
   "mimetype": "text/x-python",
   "name": "python",
   "nbconvert_exporter": "python",
   "pygments_lexer": "ipython3",
   "version": "3.8.5"
  }
 },
 "nbformat": 4,
 "nbformat_minor": 4
}
