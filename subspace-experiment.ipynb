{
 "cells": [
  {
   "cell_type": "markdown",
   "metadata": {},
   "source": [
    "## No noise\n",
    "\n",
    "First, we will just experiment with no noise to make sure we construct an accurate simulation of the original results"
   ]
  },
  {
   "cell_type": "code",
   "execution_count": 1,
   "metadata": {
    "scrolled": true
   },
   "outputs": [
    {
     "name": "stdout",
     "output_type": "stream",
     "text": [
      "True space \n",
      " [[ 0.7186015   1.96482917]\n",
      " [ 2.33841018 -0.53901473]\n",
      " [ 0.45188266  0.94488961]\n",
      " [-1.2010661   0.2038613 ]\n",
      " [ 1.49838616 -0.89541003]]\n"
     ]
    }
   ],
   "source": [
    "import numpy as np\n",
    "import matplotlib.pyplot as plt\n",
    "import math\n",
    "\n",
    "m = 5 #Number of columns \n",
    "r = 2 #Dimension of U*\n",
    "\n",
    "U = np.random.normal(0, 1, (m,r)) #Random (true) subspace\n",
    "\n",
    "\n",
    "#Uncomment the following out for an example true space\n",
    "#m = 5\n",
    "#r = 2\n",
    "#U = np.array([[1,1],[1,2],[1,3],[1,4],[1,5]]) \n",
    "\n",
    "\n",
    "print(\"True space \\n\", U)"
   ]
  },
  {
   "cell_type": "markdown",
   "metadata": {},
   "source": [
    "##### Note:\n",
    "\n",
    "In our experiments, we will take $W$ to be either of the form:\n",
    "\n",
    "$$\n",
    "\\begin{matrix}\n",
    "1 & 1 & ... & 1 \\\\\n",
    "1 & 1 & ... & 1 \\\\\n",
    "1 & 1 & ... & 1 \\\\\n",
    "... & ... & ... & ... \\\\\n",
    "1 & 1 & ... & 1 \\\\\n",
    "1 & 0 & ... & 0 \\\\\n",
    "0 & 1 & ... & 0 \\\\\n",
    "... & ... & ... & ... \\\\\n",
    "0 & 0 & ... & 1 \\\\\n",
    "\\end{matrix}\n",
    "$$\n",
    "\n",
    "with a block of r 1's in the first r rows and an identity matrix at the bottom, or\n",
    "\n",
    "$$\n",
    "\\begin{matrix}\n",
    "1 & 0 & ... & 0 \\\\\n",
    "1 & 1 & ... & 0 \\\\\n",
    "1 & 1 & ... & 0 \\\\\n",
    "... & ... & ... & ... \\\\\n",
    "0 & 0 & ... & 1 \\\\\n",
    "\\end{matrix}\n",
    "$$\n",
    "\n",
    "with each column having r+1 $1$s starting from the main diagonal. \n",
    "\n",
    "\n",
    "We could choose any $W$ satisfying our assumptions. This was taken because of ease of generalization in the code."
   ]
  },
  {
   "cell_type": "code",
   "execution_count": 2,
   "metadata": {
    "scrolled": false
   },
   "outputs": [
    {
     "name": "stdout",
     "output_type": "stream",
     "text": [
      "Binary matrix \n",
      " [[1. 1. 1.]\n",
      " [1. 1. 1.]\n",
      " [1. 0. 0.]\n",
      " [0. 1. 0.]\n",
      " [0. 0. 1.]]\n"
     ]
    }
   ],
   "source": [
    "#Define the binary matrix W\n",
    "\n",
    "W = np.zeros((m,m-r))\n",
    "\n",
    "#Uncomment for the first type of W matrix\n",
    "\n",
    "for i in range(W.shape[0]):\n",
    "    for j in range(W.shape[1]):\n",
    "        if i < r:\n",
    "            W[i][j] = 1\n",
    "        else:\n",
    "            if i-r == j:\n",
    "                W[i][j] = 1\n",
    "\"\"\"\n",
    "#Uncomment for the second type of W matrix\n",
    "\n",
    "\n",
    "for i in range(W.shape[1]):\n",
    "    temp = 0\n",
    "    while temp!=r+1:\n",
    "        W[temp+i][i] = 1\n",
    "        temp+=1\n",
    "\"\"\"\n",
    "\n",
    "        \n",
    "W_T = np.transpose(W)\n",
    "\n",
    "print(\"Binary matrix \\n\", W)"
   ]
  },
  {
   "cell_type": "code",
   "execution_count": 3,
   "metadata": {
    "scrolled": true
   },
   "outputs": [
    {
     "name": "stdout",
     "output_type": "stream",
     "text": [
      "Matrix of projections of S onto lower dimensions \n",
      " [[ 0.7186015   1.96482917  0.7186015   1.96482917  0.7186015   1.96482917]\n",
      " [ 2.33841018 -0.53901473  2.33841018 -0.53901473  2.33841018 -0.53901473]\n",
      " [ 0.45188266  0.94488961 -1.2010661   0.2038613   1.49838616 -0.89541003]]\n"
     ]
    }
   ],
   "source": [
    "#Computing the projections of S onto canonical coordinates\n",
    "\n",
    "U_proj = np.array(np.hstack(([[U[j,:] for j in range(np.shape(U)[0]) if W_T[i,j] == 1] for i in range(W_T.shape[0])])))\n",
    "\n",
    "print(\"Matrix of projections of S onto lower dimensions \\n\", U_proj)"
   ]
  },
  {
   "cell_type": "code",
   "execution_count": 4,
   "metadata": {
    "scrolled": true
   },
   "outputs": [
    {
     "name": "stdout",
     "output_type": "stream",
     "text": [
      "Matrix of basis vectors of the nullspace of projections \n",
      " [[-0.44144095  0.03059086  0.20505188]\n",
      " [-0.03758703  0.44921505 -0.57194541]\n",
      " [ 0.89650271  0.89289979  0.79424944]]\n"
     ]
    }
   ],
   "source": [
    "#Computing the nullspaces of the projections\n",
    "\n",
    "from scipy.linalg import null_space\n",
    "\n",
    "A_temp = np.array(np.hstack(([[null_space(U_proj.T[i:i+r, :])[j,:] for j in range(U_proj.T.shape[1])] for i in range(0, U_proj.T.shape[0], r)])))\n",
    "\n",
    "print(\"Matrix of basis vectors of the nullspace of projections \\n\", A_temp)\n"
   ]
  },
  {
   "cell_type": "code",
   "execution_count": 5,
   "metadata": {},
   "outputs": [
    {
     "name": "stdout",
     "output_type": "stream",
     "text": [
      "Matrix whose kernel will be our guess \n",
      " [[-0.44144095  0.03059086  0.20505188]\n",
      " [-0.03758703  0.44921505 -0.57194541]\n",
      " [ 0.89650271  0.          0.        ]\n",
      " [ 0.          0.89289979  0.        ]\n",
      " [ 0.          0.          0.79424944]]\n",
      "Singular values \n",
      " [1.11969329 1.00767053 0.85491932]\n"
     ]
    }
   ],
   "source": [
    "#Creating the matrix A whose null space will be the true subspace \n",
    "#And computing its singular values\n",
    "\n",
    "A = np.array(W, dtype = float)\n",
    "\n",
    "for j in range(A.shape[1]):\n",
    "    c = 0\n",
    "    for i in range(A.shape[0]):\n",
    "        if A[i,j] == 1:\n",
    "            A[i,j] = A_temp[c, j]\n",
    "            c+=1\n",
    "print(\"Matrix whose kernel will be our guess \\n\", A)\n",
    "\n",
    "Sig = np.linalg.svd(A)[1]\n",
    "\n",
    "print(\"Singular values \\n\", Sig)"
   ]
  },
  {
   "cell_type": "code",
   "execution_count": 6,
   "metadata": {},
   "outputs": [
    {
     "name": "stdout",
     "output_type": "stream",
     "text": [
      "Basis of guessed space \n",
      " [[-0.46753138 -0.74288062]\n",
      " [-0.67455982  0.33796372]\n",
      " [-0.25849581 -0.35162735]\n",
      " [ 0.35538658 -0.14457729]\n",
      " [-0.36505307  0.43516035]]\n"
     ]
    }
   ],
   "source": [
    "#Finding kernel space of A\n",
    "\n",
    "U_test = null_space(A.T)\n",
    "\n",
    "print(\"Basis of guessed space \\n\", U_test)"
   ]
  },
  {
   "cell_type": "code",
   "execution_count": 7,
   "metadata": {},
   "outputs": [
    {
     "name": "stdout",
     "output_type": "stream",
     "text": [
      "True projection [[ 0.7704572   0.06431119  0.38207205 -0.05875071 -0.15259842]\n",
      " [ 0.06431119  0.56925043  0.0555336  -0.28859139  0.39331855]\n",
      " [ 0.38207205  0.0555336   0.19046188 -0.04102861 -0.05864959]\n",
      " [-0.05875071 -0.28859139 -0.04102861  0.14720222 -0.19264927]\n",
      " [-0.15259842  0.39331855 -0.05864959 -0.19264927  0.32262828]]\n",
      "Guessed projection [[ 0.7704572   0.06431119  0.38207205 -0.05875071 -0.15259842]\n",
      " [ 0.06431119  0.56925043  0.0555336  -0.28859139  0.39331855]\n",
      " [ 0.38207205  0.0555336   0.19046188 -0.04102861 -0.05864959]\n",
      " [-0.05875071 -0.28859139 -0.04102861  0.14720222 -0.19264927]\n",
      " [-0.15259842  0.39331855 -0.05864959 -0.19264927  0.32262828]]\n",
      "Error 4.79838436196491e-16\n"
     ]
    }
   ],
   "source": [
    "# Testing for whether the span of ker(A) is the same as column space of U - i.e. the true space\n",
    "# We test this by looking at the projection matrices \n",
    "# Error estimated with the ||P_true - P_test||_F, the frobenius norm of the difference in Projection matrices\n",
    "\n",
    "P_test = np.dot(U_test,np.dot(np.linalg.inv(np.dot(U_test.T,U_test)), U_test.T))\n",
    "\n",
    "P_true = np.dot(U,np.dot(np.linalg.inv(np.dot(U.T,U)), U.T))\n",
    "\n",
    "error = (1/math.sqrt(2))*np.linalg.norm(P_true - P_test, 'fro') \n",
    "\n",
    "print (\"True projection\", P_true)\n",
    "print (\"Guessed projection\", P_test)\n",
    "\n",
    "print (\"Error\", error)"
   ]
  },
  {
   "cell_type": "markdown",
   "metadata": {},
   "source": [
    "## With noise \n",
    "\n",
    "Now we will perform the same experiment, but we will add noise into the mix and see how the noise translates through every step."
   ]
  },
  {
   "cell_type": "code",
   "execution_count": 8,
   "metadata": {},
   "outputs": [
    {
     "name": "stdout",
     "output_type": "stream",
     "text": [
      "True space \n",
      " [[ 0.37859181 -1.16507111  1.21084692]\n",
      " [ 1.23800229  1.29355713 -1.13314114]\n",
      " [-1.30275734  0.25749553  0.26265243]\n",
      " [ 1.85173453 -0.60882289  0.38206855]\n",
      " [-0.9165681  -0.03712215  1.5799425 ]\n",
      " [ 1.27712421  0.60021687 -0.73697279]\n",
      " [-1.44115597 -1.34984424 -0.60161179]]\n"
     ]
    }
   ],
   "source": [
    "m = 7 #Number of columns \n",
    "r = 3 #Dimension of U*\n",
    "\n",
    "\n",
    "U = np.random.normal(0, 1, (m,r)) #Random (true) subspace\n",
    "\n",
    "#Uncomment the following out for an example true space\n",
    "#m = 5\n",
    "#r = 2\n",
    "#U = np.array([[1,1],[1,2],[1,3],[1,4],[1,5]]) \n",
    "\n",
    "print(\"True space \\n\", U)"
   ]
  },
  {
   "cell_type": "code",
   "execution_count": 9,
   "metadata": {},
   "outputs": [
    {
     "name": "stdout",
     "output_type": "stream",
     "text": [
      "Binary matrix \n",
      " [[1. 1. 1. 1.]\n",
      " [1. 1. 1. 1.]\n",
      " [1. 1. 1. 1.]\n",
      " [1. 0. 0. 0.]\n",
      " [0. 1. 0. 0.]\n",
      " [0. 0. 1. 0.]\n",
      " [0. 0. 0. 1.]]\n"
     ]
    }
   ],
   "source": [
    "#Define the binary matrix W\n",
    "\n",
    "W = np.zeros((m,m-r))\n",
    "\n",
    "#Uncomment for the first type of W matrix\n",
    "\"\"\"\n",
    "for i in range(W.shape[1]):\n",
    "    temp = 0\n",
    "    while temp!=r+1:\n",
    "        W[temp+i][i] = 1\n",
    "        temp+=1\n",
    "\"\"\"\n",
    "\n",
    "#Uncomment for the second type of W matrix\n",
    "\n",
    "for i in range(W.shape[0]):\n",
    "    for j in range(W.shape[1]):\n",
    "        if i < r:\n",
    "            W[i][j] = 1\n",
    "        else:\n",
    "            if i-r == j:\n",
    "                W[i][j] = 1\n",
    "\n",
    "        \n",
    "W_T = np.transpose(W)\n",
    "\n",
    "print(\"Binary matrix \\n\", W)"
   ]
  },
  {
   "cell_type": "code",
   "execution_count": 10,
   "metadata": {},
   "outputs": [
    {
     "name": "stdout",
     "output_type": "stream",
     "text": [
      "Projections of U onto lower dimensions w/o noise \n",
      " [[ 0.37859181 -1.16507111  1.21084692  0.37859181 -1.16507111  1.21084692\n",
      "   0.37859181 -1.16507111  1.21084692  0.37859181 -1.16507111  1.21084692]\n",
      " [ 1.23800229  1.29355713 -1.13314114  1.23800229  1.29355713 -1.13314114\n",
      "   1.23800229  1.29355713 -1.13314114  1.23800229  1.29355713 -1.13314114]\n",
      " [-1.30275734  0.25749553  0.26265243 -1.30275734  0.25749553  0.26265243\n",
      "  -1.30275734  0.25749553  0.26265243 -1.30275734  0.25749553  0.26265243]\n",
      " [ 1.85173453 -0.60882289  0.38206855 -0.9165681  -0.03712215  1.5799425\n",
      "   1.27712421  0.60021687 -0.73697279 -1.44115597 -1.34984424 -0.60161179]]\n",
      "Projections of U onto lower dimensions w/ noise \n",
      " [[ 0.3786728  -1.16525101  1.21105343  0.37804409 -1.16516422  1.21176346\n",
      "   0.37837487 -1.16448206  1.21071622  0.37837503 -1.16486111  1.2123545 ]\n",
      " [ 1.23959054  1.29225143 -1.13257592  1.23874508  1.29445071 -1.13167386\n",
      "   1.23824863  1.29299528 -1.13194954  1.23839297  1.29378224 -1.132063  ]\n",
      " [-1.30437837  0.25641637  0.26363913 -1.30313628  0.25749439  0.26152839\n",
      "  -1.30326455  0.25753591  0.26250659 -1.30292214  0.25703556  0.26102208]\n",
      " [ 1.85290108 -0.60891797  0.37902748 -0.91465818 -0.03715978  1.58018551\n",
      "   1.27690978  0.60075257 -0.73697466 -1.4398133  -1.34808925 -0.60109683]]\n"
     ]
    }
   ],
   "source": [
    "# Computing the projections of S onto canonical coordinates\n",
    "\n",
    "# No noise Version\n",
    "\n",
    "U_proj = np.array(np.hstack(([[U[j,:] for j in range(U.shape[0]) if W_T[i,j] == 1] for i in range(W_T.shape[0])])))\n",
    "\n",
    "# Creating the noisy versions\n",
    "\n",
    "mu = 0 # mean\n",
    "sigma = 1e-3 # standard deviation\n",
    "\n",
    "#Adding noise from a Gaussian distribution\n",
    "\n",
    "Z_proj = np.random.normal(mu, sigma, (U_proj.shape[0], U_proj.shape[1]))\n",
    "V_proj = U_proj + Z_proj\n",
    "\n",
    "\n",
    "print(\"Projections of U onto lower dimensions w/o noise \\n\", U_proj)\n",
    "print(\"Projections of U onto lower dimensions w/ noise \\n\", V_proj)"
   ]
  },
  {
   "cell_type": "code",
   "execution_count": 11,
   "metadata": {},
   "outputs": [
    {
     "name": "stdout",
     "output_type": "stream",
     "text": [
      "epsilon 0.0036548804668457605\n"
     ]
    }
   ],
   "source": [
    "# Finding the spectral norm of the largest noise matrix to get epsilon\n",
    "\n",
    "epsilon = 0\n",
    "\n",
    "for j in range(0, Z_proj.shape[1], r):\n",
    "    lam = np.amax(np.linalg.svd(Z_proj[:, j:j+r])[1])\n",
    "    epsilon = np.amax([epsilon, lam])\n",
    "print(\"epsilon\", epsilon)"
   ]
  },
  {
   "cell_type": "code",
   "execution_count": 12,
   "metadata": {
    "scrolled": true
   },
   "outputs": [
    {
     "name": "stdout",
     "output_type": "stream",
     "text": [
      "Basis vectors of the nullspace of projections w/o noise \n",
      " [[-0.58084705 -0.55367453 -0.01261774  0.56013818]\n",
      " [-0.31328414 -0.35152006 -0.45969563  0.6118649 ]\n",
      " [ 0.41946434 -0.69772098  0.35668714  0.5205632 ]\n",
      " [ 0.62331325  0.28820756  0.81320047  0.20218932]]\n",
      "Basis vectors of the nullspace of projections w/ noise \n",
      " [[-0.57868028 -0.55395083 -0.01209857  0.55998155]\n",
      " [-0.31155229 -0.35162209 -0.45975826  0.61203375]\n",
      " [ 0.42252068 -0.69737247  0.35648209  0.52032798]\n",
      " [ 0.62413186  0.2883956   0.81326286  0.20271689]]\n"
     ]
    }
   ],
   "source": [
    "# Computing the nullspaces of the projections\n",
    "\n",
    "# No noise version\n",
    "\n",
    "A_temp = np.array(np.hstack(([[null_space(U_proj.T[i:i+r, :])[j,:] for j in range(U_proj.T.shape[1])] for i in range(0, U_proj.T.shape[0], r)])))\n",
    "\n",
    "\n",
    "# Noisy version\n",
    "\n",
    "B_temp = np.array(np.hstack(([[null_space(V_proj.T[i:i+r, :])[j,:] for j in range(V_proj.T.shape[1])] for i in range(0, V_proj.T.shape[0], r)])))\n",
    "\n",
    "\n",
    "\n",
    "\n",
    "print(\"Basis vectors of the nullspace of projections w/o noise \\n\", A_temp)\n",
    "print(\"Basis vectors of the nullspace of projections w/ noise \\n\", B_temp)"
   ]
  },
  {
   "cell_type": "code",
   "execution_count": 13,
   "metadata": {},
   "outputs": [
    {
     "name": "stdout",
     "output_type": "stream",
     "text": [
      "Matrix whose kernel will be our guess w/o noise \n",
      " [[-0.58084705 -0.55367453 -0.01261774  0.56013818]\n",
      " [-0.31328414 -0.35152006 -0.45969563  0.6118649 ]\n",
      " [ 0.41946434 -0.69772098  0.35668714  0.5205632 ]\n",
      " [ 0.62331325  0.          0.          0.        ]\n",
      " [ 0.          0.28820756  0.          0.        ]\n",
      " [ 0.          0.          0.81320047  0.        ]\n",
      " [ 0.          0.          0.          0.20218932]]\n",
      "Matrix whose kernel will be our guess w/ noise \n",
      " [[-0.57868028 -0.55395083 -0.01209857  0.55998155]\n",
      " [-0.31155229 -0.35162209 -0.45975826  0.61203375]\n",
      " [ 0.42252068 -0.69737247  0.35648209  0.52032798]\n",
      " [ 0.62413186  0.          0.          0.        ]\n",
      " [ 0.          0.2883956   0.          0.        ]\n",
      " [ 0.          0.          0.81326286  0.        ]\n",
      " [ 0.          0.          0.          0.20271689]]\n"
     ]
    }
   ],
   "source": [
    "#Creating the matrix A whose null space will be the true subspace\n",
    "\n",
    "# No noise version\n",
    "\n",
    "A = np.array(W, dtype = float) \n",
    "\n",
    "for j in range(A.shape[1]): \n",
    "    c = 0\n",
    "    for i in range(A.shape[0]):\n",
    "        if A[i,j] == 1:\n",
    "            A[i,j] = A_temp[c, j]\n",
    "            c+=1\n",
    "            \n",
    "# Noisy version\n",
    "            \n",
    "B = np.array(W, dtype = float) \n",
    "\n",
    "for j in range(B.shape[1]):\n",
    "    c = 0\n",
    "    for i in range(B.shape[0]):\n",
    "        if B[i,j] == 1:\n",
    "            B[i,j] = B_temp[c, j]\n",
    "            c+=1       \n",
    "\n",
    "            \n",
    "print(\"Matrix whose kernel will be our guess w/o noise \\n\", A)\n",
    "print(\"Matrix whose kernel will be our guess w/ noise \\n\", B)"
   ]
  },
  {
   "cell_type": "code",
   "execution_count": 14,
   "metadata": {
    "scrolled": true
   },
   "outputs": [
    {
     "name": "stdout",
     "output_type": "stream",
     "text": [
      "Min Kernel Matrix Singular Value 0.2947989881448046\n",
      "Sum of Data Singular Values 0.31668576460709524\n"
     ]
    }
   ],
   "source": [
    "#Computing the singular values of the projected S matrix, noisy projected S matrix, and noisy A matrix.\n",
    "\n",
    "Sig_V_proj = np.array(np.hstack(([np.amin(np.linalg.svd(V_proj.T[i:i+r, :])[1]) for i in range(0, V_proj.T.shape[0], r)])))\n",
    "Sig_B = np.amin(np.linalg.svd(B)[1])\n",
    "\n",
    "delta = np.amin(Sig_V_proj)\n",
    "\n",
    "print(\"Min Kernel Matrix Singular Value\", Sig_B)\n",
    "print(\"Sum of Data Singular Values\", delta)"
   ]
  },
  {
   "cell_type": "code",
   "execution_count": 15,
   "metadata": {},
   "outputs": [
    {
     "name": "stdout",
     "output_type": "stream",
     "text": [
      "Basis of guessed space w/o noise \n",
      " [[-0.33790661 -0.48423599 -0.27124164]\n",
      " [ 0.05242906  0.60149245 -0.12892603]\n",
      " [ 0.43363197 -0.10274755  0.14515798]\n",
      " [-0.58035028 -0.07978343 -0.41524704]\n",
      " [ 0.46457388 -0.44537899 -0.32691684]\n",
      " [-0.16580556  0.3775726  -0.14075887]\n",
      " [-0.33897907 -0.21418769  0.7678655 ]]\n",
      "Basis of guessed space w/ noise \n",
      " [[-0.33714126 -0.48457282 -0.27190288]\n",
      " [ 0.05210953  0.60142581 -0.12928866]\n",
      " [ 0.43378031 -0.10234083  0.14581499]\n",
      " [-0.58023525 -0.07978446 -0.41535271]\n",
      " [ 0.464881   -0.44496032 -0.32730811]\n",
      " [-0.16569803  0.37765222 -0.14105107]\n",
      " [-0.33942876 -0.21453691  0.76716842]]\n"
     ]
    }
   ],
   "source": [
    "#Finding kernel space of A\n",
    "\n",
    "U_test = null_space(A.T) # No noise\n",
    "V_test = null_space(B.T) # With noise\n",
    "\n",
    "print(\"Basis of guessed space w/o noise \\n\", U_test)\n",
    "print(\"Basis of guessed space w/ noise \\n\", V_test)"
   ]
  },
  {
   "cell_type": "code",
   "execution_count": 16,
   "metadata": {
    "scrolled": true
   },
   "outputs": [
    {
     "name": "stdout",
     "output_type": "stream",
     "text": [
      "Error w/o noise 5.131439886769294e-16\n",
      "Error w/ noise 0.001295761349512937\n",
      "Estimated bound 0.19178925336124047\n"
     ]
    }
   ],
   "source": [
    "# Testing for whether the span of ker(A) is the same as column space of S - i.e. the true space\n",
    "# We test this by looking at the projection matrices \n",
    "# Error estimated with the ||P_true - P_test||_F, the frobenius norm of the difference in Projection matrices\n",
    "\n",
    "P_test = np.dot(U_test,np.dot(np.linalg.inv(np.dot(U_test.T,U_test)), U_test.T))\n",
    "P_test_noise = np.dot(V_test,np.dot(np.linalg.inv(np.dot(V_test.T,V_test)), V_test.T))\n",
    "P_true = np.dot(U,np.dot(np.linalg.inv(np.dot(U.T,U)), U.T))\n",
    "\n",
    "error = (1/math.sqrt(2))*np.linalg.norm(P_true - P_test, 'fro') \n",
    "error_noise = (1/math.sqrt(2))*np.linalg.norm(P_true - P_test_noise, 'fro') \n",
    "\n",
    "bound = epsilon*math.sqrt(2*r*(m-r))/(Sig_B*delta)\n",
    "\n",
    "#print (\"True projection\", P_true)\n",
    "#print (\"Guessed projection w/o noise\", P_test)\n",
    "#print (\"Guessed projection w/ noise\", P_test_noise)\n",
    "\n",
    "print (\"Error w/o noise\", error)\n",
    "print (\"Error w/ noise\", error_noise)\n",
    "print (\"Estimated bound\", bound)"
   ]
  },
  {
   "cell_type": "markdown",
   "metadata": {},
   "source": [
    "## Experiments"
   ]
  },
  {
   "cell_type": "code",
   "execution_count": 17,
   "metadata": {},
   "outputs": [],
   "source": [
    "def Errors(m_, r_, U_, W_, sigma_):\n",
    "    \n",
    "    ##############################################################################################\n",
    "\n",
    "    # Step 0.0: Computing the projections of S onto canonical coordinates and adding noise\n",
    "\n",
    "    # No noise Version\n",
    "\n",
    "    U_proj = np.array(np.hstack(([[U_[j,:] for j in range(U_.shape[0]) if W_.T[i,j] == 1] for i in range(W_.T.shape[0])])))\n",
    "\n",
    "\n",
    "    # Creating the noisy versions\n",
    "    \n",
    "    rows_proj = U_proj.shape[0]\n",
    "    cols_proj = U_proj.shape[1]\n",
    "\n",
    "    #Adding noise from a Gaussian distribution to projection (Option 1)\n",
    "    \n",
    "    Z_proj = np.random.normal(0, sigma_, (rows_proj,cols_proj))\n",
    "    V_proj = U_proj + Z_proj\n",
    "    \n",
    "    ##############################################################################################\n",
    "    \n",
    "    # Step 0.1: computing epsilon by computing the largest spectral norm of all the noise matrices\n",
    "    \n",
    "    \n",
    "    # Finding the spectral norm of the largest noise matrix to get epsilon\n",
    "\n",
    "    epsilon = 0\n",
    "\n",
    "    for j in range(0, Z_proj.shape[1], r):\n",
    "        lam = np.amax(np.linalg.svd(Z_proj[:, j:j+r])[1])\n",
    "        epsilon = np.amax([epsilon, lam])\n",
    "        \n",
    "    \n",
    "    ##############################################################################################\n",
    "\n",
    "\n",
    "    # Step 1: Computing the nullspaces of the projections\n",
    "\n",
    "    # No noise version\n",
    "\n",
    "    A_temp = np.array(np.hstack(([[null_space(U_proj.T[i:i+r_, :])[j,:] for j in range(U_proj.T.shape[1])] for i in range(0, U_proj.T.shape[0], r_)])))\n",
    "\n",
    "\n",
    "    # Noisy version\n",
    "\n",
    "    B_temp = np.array(np.hstack(([[null_space(V_proj.T[i:i+r_, :])[j,:] for j in range(V_proj.T.shape[1])] for i in range(0, V_proj.T.shape[0], r_)])))\n",
    "\n",
    "    \n",
    "    #We could also add noise from a Gaussian distribution to these nullspaces instead of the projected \n",
    "    #coordinates (Option 2)\n",
    "    #Uncomment the following line for that: \n",
    "    \n",
    "    #A_temp_noise = A_temp + np.random.normal(0, sigma, (A_temp.shape[0],A_temp.shape[1]))*lam_\n",
    "    \n",
    "    ##############################################################################################\n",
    "     \n",
    "    \n",
    "    #Step 2: Creating the matrix A whose null space will be the true subspace\n",
    "\n",
    "    # No noise version\n",
    "\n",
    "    A_ = np.array(W_, dtype = float) \n",
    "\n",
    "    for j in range(A_.shape[1]):\n",
    "        c = 0\n",
    "        for i in range(A_.shape[0]):\n",
    "            if A_[i,j] == 1:\n",
    "                A_[i,j] = A_temp[c, j]\n",
    "                c+=1\n",
    "\n",
    "    # Noisy version\n",
    "\n",
    "    B_ = np.array(W_, dtype = float) \n",
    "\n",
    "    for j in range(B_.shape[1]):\n",
    "        c = 0\n",
    "        for i in range(B_.shape[0]):\n",
    "            if B_[i,j] == 1:\n",
    "                B_[i,j] = B_temp[c, j]\n",
    "                c+=1       \n",
    "\n",
    "    error_A = np.linalg.norm(A_-B_, 'fro')\n",
    "    \n",
    "    ##############################################################################################\n",
    "    \n",
    "    \n",
    "    #Step 3: Finding kernel space of A\n",
    "\n",
    "    U_test = null_space(A_.T) # No noise\n",
    "    V_test = null_space(B_.T) # With noise\n",
    "\n",
    "    \n",
    "    error_U_test = np.linalg.norm(U_test - V_test, 'fro')\n",
    "    \n",
    "    ##############################################################################################\n",
    "    \n",
    "    #Final Step: Testing for whether the span of ker(A) is the same as column space of S - i.e. the true space\n",
    "    # We test this by looking at the projection matrices \n",
    "    # Error estimated with the ||Proj_true - Proj_test||_F, the frobenius norm of the difference in Projection matrices\n",
    "\n",
    "    Proj_test = np.dot(U_test,np.dot(np.linalg.inv(np.dot(U_test.T,U_test)), U_test.T))\n",
    "    Proj_test_noise = np.dot(V_test,np.dot(np.linalg.inv(np.dot(V_test.T,V_test)), V_test.T))\n",
    "    Proj_true = np.dot(U_,np.dot(np.linalg.inv(np.dot(U_.T,U_)), U_.T))\n",
    "\n",
    "    error_noiseless_test = (1/math.sqrt(2))*np.linalg.norm(Proj_true - Proj_test, 'fro') \n",
    "    error_noisy_test = (1/math.sqrt(2))*np.linalg.norm(Proj_true - Proj_test_noise, 'fro') \n",
    "    \n",
    "    \n",
    "    ##############################################################################################\n",
    "    \n",
    "    #Computing the singular values of the projected U matrix, noisy projected U matrix, and noisy A matrix.\n",
    "\n",
    "    Sig_V_proj = np.array(np.hstack(([np.amin(np.linalg.svd(V_proj.T[i:i+r, :])[1]) for i in range(0, V_proj.T.shape[0], r)])))\n",
    "    Sig_B = np.amin(np.linalg.svd(B_)[1])\n",
    "\n",
    "    delta = np.amin(Sig_V_proj)\n",
    "    \n",
    "    bound = epsilon*math.sqrt(2*r*(m-r))/(Sig_B*delta)\n",
    "    \n",
    "    return error_A, error_U_test, error_noiseless_test, error_noisy_test, bound, delta, Sig_B\n",
    "             \n"
   ]
  },
  {
   "cell_type": "markdown",
   "metadata": {},
   "source": [
    "## Effect of Noise: Increasing noise level, keeping dimensions constant"
   ]
  },
  {
   "cell_type": "code",
   "execution_count": 47,
   "metadata": {},
   "outputs": [
    {
     "name": "stdout",
     "output_type": "stream",
     "text": [
      "Binary matrix \n",
      " [[1. 0. 0.]\n",
      " [1. 1. 0.]\n",
      " [1. 1. 1.]\n",
      " [1. 1. 1.]\n",
      " [1. 1. 1.]\n",
      " [1. 1. 1.]\n",
      " [1. 1. 1.]\n",
      " [1. 1. 1.]\n",
      " [0. 1. 1.]\n",
      " [0. 0. 1.]]\n"
     ]
    }
   ],
   "source": [
    "m = 10 #Number of columns \n",
    "r = 7 #Dimension of U\n",
    "\n",
    "#U = np.random.rand(m,r) #Random (true) subspace\n",
    "U = np.random.normal(0, 1, (m,r))\n",
    "#U = np.array([[1,1],[1,2],[1,3],[1,4],[1,5]]) #Uncomment the left out for an example true space\n",
    "\n",
    "W = np.zeros((m,m-r))\n",
    "\n",
    "#Uncomment for the first type of W matrix\n",
    "\"\"\"\n",
    "for i in range(W.shape[0]):\n",
    "    for j in range(W.shape[1]):\n",
    "        if i < r:\n",
    "            W[i][j] = 1\n",
    "        else:\n",
    "            if i-r == j:\n",
    "                W[i][j] = 1\n",
    "\"\"\"\n",
    "#Uncomment for the second type of W matrix\n",
    "\n",
    "\n",
    "for i in range(W.shape[1]):\n",
    "    temp = 0\n",
    "    while temp!=r+1:\n",
    "        W[temp+i][i] = 1\n",
    "        temp+=1\n",
    "\n",
    "\n",
    "print(\"Binary matrix \\n\", W)\n",
    "\n",
    "low_b = 1e-8 #Lower bound of noise\n",
    "upper_b = 1e-2 #Upper bound of noise\n",
    "num = 1000 # Number of experiments\n",
    "\n",
    "sigma_vec = np.logspace(-8,-2,num)"
   ]
  },
  {
   "cell_type": "code",
   "execution_count": 48,
   "metadata": {},
   "outputs": [],
   "source": [
    "err_A = np.empty(num, dtype = float) #Stores error in kernel spaces for each experiment (no noise vs noise)\n",
    "err_U_test = np.empty(num, dtype = float) #Stores error in kernel spaces of A, i.e. errors in 'guesses' (no noise vs noise)\n",
    "err_noiseless_test = np.empty(num, dtype = float) #Stores error in the difference between true projection and no noise guess\n",
    "err_noisy_test = np.empty(num, dtype = float) # Stores error in difference between true projection and noise guess\n",
    "bounds = np.empty(num, dtype = float) #Stores the error bounds for each experiment\n",
    "delta_vec = np.empty(num, dtype = float) #Stores the values of delta (i.e. sum of (singular values)^{-2})\n",
    "Sig_B_vec = np.empty(num, dtype = float) #Stores the singular values of B for each experiment\n",
    "\n",
    "c = 0\n",
    "\n",
    "for sigma in sigma_vec:\n",
    "    err_A[c], err_U_test[c], err_noiseless_test[c], err_noisy_test[c], bounds[c], delta_vec[c], Sig_B_vec[c] = Errors(m,r,U,W,sigma)\n",
    "    c+=1\n"
   ]
  },
  {
   "cell_type": "code",
   "execution_count": 49,
   "metadata": {},
   "outputs": [
    {
     "data": {
      "image/png": "[encoded data removed]",
      "text/plain": [
       "<Figure size 432x288 with 1 Axes>"
      ]
     },
     "metadata": {
      "needs_background": "light"
     },
     "output_type": "display_data"
    }
   ],
   "source": [
    "plt.scatter(sigma_vec,err_A)\n",
    "plt.title(\"Difference between noiseless matrices A and B\")\n",
    "plt.xlabel(\"Noise level\")\n",
    "plt.ylabel(\"Noise in A matrix\")\n",
    "plt.xscale('log')\n",
    "plt.yscale('log')\n",
    "plt.show()"
   ]
  },
  {
   "cell_type": "code",
   "execution_count": 50,
   "metadata": {},
   "outputs": [
    {
     "data": {
      "image/png": "[encoded data removed]",
      "text/plain": [
       "<Figure size 432x288 with 1 Axes>"
      ]
     },
     "metadata": {
      "needs_background": "light"
     },
     "output_type": "display_data"
    }
   ],
   "source": [
    "plt.scatter(sigma_vec, err_U_test)\n",
    "plt.title(\"Difference between kernel space of A and B\")\n",
    "plt.xlabel(\"Noise level\")\n",
    "plt.ylabel(\"Noise in kernel space\")\n",
    "plt.xscale('log')\n",
    "plt.yscale('log')\n",
    "plt.show()"
   ]
  },
  {
   "cell_type": "code",
   "execution_count": 51,
   "metadata": {},
   "outputs": [
    {
     "data": {
      "image/png": "[encoded data removed]",
      "text/plain": [
       "<Figure size 432x288 with 1 Axes>"
      ]
     },
     "metadata": {
      "needs_background": "light"
     },
     "output_type": "display_data"
    }
   ],
   "source": [
    "plt.scatter(sigma_vec, err_noiseless_test)\n",
    "plt.title(\"Difference between true subspace (U) and noiseless guess (ker A)\")\n",
    "plt.xlabel(\"Noise level\")\n",
    "plt.ylabel(\"Error\")\n",
    "plt.xscale('log')\n",
    "plt.yscale('log')\n",
    "plt.show()"
   ]
  },
  {
   "cell_type": "code",
   "execution_count": 52,
   "metadata": {
    "scrolled": false
   },
   "outputs": [
    {
     "data": {
      "image/png": "[encoded data removed]",
      "text/plain": [
       "<Figure size 432x288 with 1 Axes>"
      ]
     },
     "metadata": {
      "needs_background": "dark"
     },
     "output_type": "display_data"
    }
   ],
   "source": [
    "fig = plt.figure()\n",
    "\n",
    "ax = fig.add_subplot()\n",
    "\n",
    "# Creating Title\n",
    "\n",
    "plt.title(\"Difference between True Space (U) and Noisy Guess (Ker B)\")\n",
    "\n",
    "# Adjusting ticks\n",
    "\n",
    "ax.tick_params(direction=\"in\")\n",
    "plt.yticks(rotation=90)\n",
    "ax.tick_params(axis='x',direction=\"in\", colors='gray')    #setting up X-axis tick color to red\n",
    "ax.tick_params(axis='y',direction=\"in\", colors='gray')\n",
    "\n",
    "# Plotting Data\n",
    "\n",
    "plt.scatter(sigma_vec, err_noisy_test, label = r'Exact Error $d_G\\{U, \\hat{U}\\}$')\n",
    "plt.plot(sigma_vec,bounds,color = 'red', label = 'Bound (See (3))')\n",
    "plt.plot(sigma_vec,Sig_B_vec, color = 'green', label = r'$\\sigma(B)$')\n",
    "plt.plot(sigma_vec,np.full((num,),np.sqrt(r),dtype = float), color = 'grey', label = r'Trivial Bound $\\sqrt{r}$')\n",
    "\n",
    "# Labeling and Scaling Axes\n",
    "\n",
    "plt.xlabel(r'Noise level $\\varsigma$')\n",
    "plt.ylabel(\"Error\")\n",
    "plt.xscale('log')\n",
    "plt.yscale('log')\n",
    "\n",
    "\n",
    "# Making Legend\n",
    "\n",
    "# reordering the labels\n",
    "handles, labels = plt.gca().get_legend_handles_labels()\n",
    "# specify order\n",
    "order = [3, 0, 2, 1]\n",
    "  \n",
    "# pass handle & labels lists along with order as below\n",
    "plt.legend([handles[i] for i in order], [labels[i] for i in order], frameon = False)\n",
    "\n",
    "#Adjusting Boarders\n",
    "\n",
    "plt.rcParams[\"axes.edgecolor\"] = \"lightgray\"  #Border color\n",
    "plt.rcParams[\"axes.linewidth\"] = 0.50      #Border Width\n",
    "\n",
    "# Saving Figure\n",
    "#plt.savefig('Noise_Sampling2_Low_Dim.eps', format='eps')\n",
    "\n",
    "\n",
    "\n",
    "plt.show()"
   ]
  },
  {
   "cell_type": "markdown",
   "metadata": {},
   "source": [
    "## Experiment 2: Increasing ambient dimension m, keeping noise level and subspace dimension constant"
   ]
  },
  {
   "cell_type": "code",
   "execution_count": 24,
   "metadata": {},
   "outputs": [],
   "source": [
    "lower_dim = 10\n",
    "upper_dim = 200\n",
    "num_tests = 100 #Number of tests per dimension\n",
    "increment = 10 #Increment of dimension (Make sure it divides upper_dim - nower_dim)\n",
    "num = np.int((upper_dim-lower_dim)/increment)*num_tests\n",
    "\n",
    "r = 7 #Dimension of U\n",
    "sigma = 1e-5 #Noise level / standard deviation of noise\n",
    "\n",
    "m_vec = np.empty(num, dtype = 'int')\n",
    "c=0\n",
    "for i in range(lower_dim,upper_dim,increment):\n",
    "    for j in range(0,num_tests):\n",
    "        m_vec[c] = i\n",
    "        c+=1"
   ]
  },
  {
   "cell_type": "code",
   "execution_count": 25,
   "metadata": {},
   "outputs": [],
   "source": [
    "err_A = np.empty(num, dtype = float) #Stores error in kernel spaces for each experiment (no noise vs noise)\n",
    "err_U_test = np.empty(num, dtype = float) #Stores error in kernel spaces of A, i.e. errors in 'guesses' (no noise vs noise)\n",
    "err_noiseless_test = np.empty(num, dtype = float) #Stores error in the difference between true projection and no noise guess\n",
    "err_noisy_test = np.empty(num, dtype = float) # Stores error in difference between true projection and noise guess\n",
    "bounds = np.empty(num, dtype = float) #Stores the error bounds for each experiment (Old)\n",
    "delta_vec = np.empty(num, dtype = float) #Stores the values of delta (i.e. min singular value of projection)\n",
    "Sig_B_vec = np.empty(num, dtype = float) #Stores the singular values of B for each experiment\n",
    "\n",
    "c = 0\n",
    "\n",
    "for m_ in m_vec:\n",
    "    \n",
    "    U = np.random.normal(0, 1, (m_,r))\n",
    "    \n",
    "    W = np.zeros((m_,m_-r))\n",
    "\n",
    "    #Uncomment for the first type of W matrix\n",
    "    \"\"\"\n",
    "    for i in range(W.shape[0]):\n",
    "        for j in range(W.shape[1]):\n",
    "            if i < r:\n",
    "                W[i][j] = 1\n",
    "            else:\n",
    "                if i-r == j:\n",
    "                    W[i][j] = 1\n",
    "    \"\"\"\n",
    "    #Uncomment for the second type of W matrix\n",
    "    \n",
    "    for i in range(W.shape[1]):\n",
    "        temp = 0\n",
    "        while temp!=r+1:\n",
    "            W[temp+i][i] = 1\n",
    "            temp+=1\n",
    "    \n",
    "    \n",
    "\n",
    "    \n",
    "    err_A[c], err_U_test[c], err_noiseless_test[c], err_noisy_test[c], bounds[c], delta_vec[c], Sig_B_vec[c] = Errors(m_,r,U,W,sigma)\n",
    "    \n",
    "    c+=1"
   ]
  },
  {
   "cell_type": "code",
   "execution_count": 26,
   "metadata": {},
   "outputs": [
    {
     "data": {
      "image/png": "[encoded data removed]",
      "text/plain": [
       "<Figure size 432x288 with 1 Axes>"
      ]
     },
     "metadata": {
      "needs_background": "light"
     },
     "output_type": "display_data"
    }
   ],
   "source": [
    "plt.scatter(m_vec,err_A)\n",
    "plt.title(\"Difference between noiseless matrices A and B\")\n",
    "plt.xlabel(\"Ambient dimension\")\n",
    "plt.ylabel(\"Noise in A matrix\")\n",
    "plt.yscale('log')\n",
    "plt.show()"
   ]
  },
  {
   "cell_type": "code",
   "execution_count": 27,
   "metadata": {},
   "outputs": [
    {
     "data": {
      "image/png": "[encoded data removed]",
      "text/plain": [
       "<Figure size 432x288 with 1 Axes>"
      ]
     },
     "metadata": {
      "needs_background": "light"
     },
     "output_type": "display_data"
    }
   ],
   "source": [
    "plt.scatter(m_vec, err_U_test)\n",
    "plt.title(\"Difference between kernel space of A and B\")\n",
    "plt.xlabel(\"Ambient Dimension\")\n",
    "plt.ylabel(\"Noise in kernel space\")\n",
    "plt.yscale('log')\n",
    "plt.show()"
   ]
  },
  {
   "cell_type": "code",
   "execution_count": 28,
   "metadata": {},
   "outputs": [
    {
     "data": {
      "image/png": "[encoded data removed]",
      "text/plain": [
       "<Figure size 432x288 with 1 Axes>"
      ]
     },
     "metadata": {
      "needs_background": "light"
     },
     "output_type": "display_data"
    }
   ],
   "source": [
    "plt.scatter(m_vec, err_noiseless_test)\n",
    "plt.title(\"Difference between true subspace (U) and noiseless guess (ker A)\")\n",
    "plt.xlabel(\"Ambient Dimension\")\n",
    "plt.ylabel(\"Error\")\n",
    "plt.yscale('log')\n",
    "plt.show()"
   ]
  },
  {
   "cell_type": "code",
   "execution_count": 29,
   "metadata": {},
   "outputs": [],
   "source": [
    "# Averaging results of each trial\n",
    "\n",
    "avg_bounds = np.empty(np.int((upper_dim-lower_dim)/increment), dtype = 'float') #Stores average of results of each test\n",
    "avg_error = np.empty(np.int((upper_dim-lower_dim)/increment), dtype = 'float') #Stores average of results of each test\n",
    "avg_sigma = np.empty(np.int((upper_dim-lower_dim)/increment), dtype = 'float') #Stores average of results of each test\n",
    "m_vec_distinct = np.empty(np.int((upper_dim-lower_dim)/increment), dtype = 'float') #Stores the distinct values of m\n",
    "\n",
    "c=0\n",
    "\n",
    "for i in range(np.int((upper_dim-lower_dim)/increment)):\n",
    "    sum_bounds = 0\n",
    "    sum_error = 0\n",
    "    sum_sigma = 0\n",
    "\n",
    "    for j in range(0,num_tests):\n",
    "        sum_bounds = sum_bounds + bounds[(i*num_tests)+j]\n",
    "        sum_error = sum_error + err_noisy_test[(i*num_tests)+j]\n",
    "        sum_sigma = sum_sigma + Sig_B_vec[(i*num_tests)+j]\n",
    "        \n",
    "    avg_bounds[c] = sum_bounds/num_tests\n",
    "    avg_error[c] = sum_error/num_tests\n",
    "    avg_sigma[c] = sum_sigma/num_tests\n",
    "    c+=1\n",
    "    \n",
    "c = 0\n",
    "for i in range(lower_dim, upper_dim, increment):\n",
    "    m_vec_distinct[c] = i\n",
    "    c+=1"
   ]
  },
  {
   "cell_type": "code",
   "execution_count": 30,
   "metadata": {
    "scrolled": true
   },
   "outputs": [
    {
     "data": {
      "image/png": "[encoded data removed]",
      "text/plain": [
       "<Figure size 432x288 with 1 Axes>"
      ]
     },
     "metadata": {
      "needs_background": "dark"
     },
     "output_type": "display_data"
    }
   ],
   "source": [
    "fig = plt.figure()\n",
    "\n",
    "ax = fig.add_subplot()\n",
    "\n",
    "# Creating Title\n",
    "\n",
    "plt.title(\"Difference between True Space (U) and Noisy Guess (Ker B)\")\n",
    "\n",
    "# Adjusting Ticks\n",
    "\n",
    "ax.tick_params(direction=\"in\")\n",
    "plt.yticks(rotation=90)\n",
    "ax.tick_params(axis='x',direction=\"in\", colors='gray')    #setting up X-axis tick color to red\n",
    "ax.tick_params(axis='y',direction=\"in\", colors='gray')\n",
    "\n",
    "#Plotting Data\n",
    "\n",
    "plt.plot(m_vec_distinct, avg_error, label = r'Exact Error $d_G\\{U, \\hat{U}\\}$')\n",
    "plt.plot(m_vec_distinct,avg_bounds,color = 'red', label = 'Bound (See (3))')\n",
    "plt.plot(m_vec_distinct,avg_sigma, color = 'green', label = r'$\\varsigma(B)$')\n",
    "plt.plot(m_vec_distinct,np.full((np.int(num/num_tests),),np.sqrt(r),dtype = float), color = 'grey', label = r'Trivial Bound $\\sqrt{r}$')\n",
    "\n",
    "# Labeling and Scaling Axes\n",
    "\n",
    "plt.xlabel(r'Ambient Dimension')\n",
    "plt.ylabel(\"Error\")\n",
    "plt.yscale('log')\n",
    "\n",
    "#Making Legend\n",
    "\n",
    "# reordering the labels\n",
    "handles, labels = plt.gca().get_legend_handles_labels()\n",
    "\n",
    "    \n",
    "# specify order\n",
    "order = [3, 0, 2, 1]\n",
    "  \n",
    "# pass handle & labels lists along with order as below\n",
    "plt.legend([handles[i] for i in order], [labels[i] for i in order], frameon = False)\n",
    "\n",
    "# Adjusting Borders\n",
    "\n",
    "plt.rcParams[\"axes.edgecolor\"] = \"lightgray\"  #Border color\n",
    "plt.rcParams[\"axes.linewidth\"] = 0.50      #Border Width\n",
    "\n",
    "# Saving Figure\n",
    "#plt.savefig('Ambient_Dim_Sampling_2.eps', format='eps')\n",
    "\n",
    "plt.show()\n",
    "\n"
   ]
  },
  {
   "cell_type": "markdown",
   "metadata": {},
   "source": [
    "## Experiment 3: Increasing subspace dimension r, keeping noise level and ambient dimension constant"
   ]
  },
  {
   "cell_type": "code",
   "execution_count": 38,
   "metadata": {},
   "outputs": [],
   "source": [
    "lower_dim = 5\n",
    "upper_dim = 50\n",
    "num_tests = 100 #Number of tests per dimension\n",
    "increment = 5 #Increment of dimension (Make sure it divides upper_dim - nower_dim)\n",
    "num = np.int((upper_dim-lower_dim)/increment)*num_tests\n",
    "\n",
    "m = 50 # Ambient Dimension\n",
    "sigma = 1e-5 #Noise level / standard deviation of noise\n",
    "\n",
    "\n",
    "r_vec = np.empty(num, dtype = 'int')\n",
    "c=0\n",
    "for i in range(lower_dim,upper_dim,increment):\n",
    "    for j in range(0,num_tests):\n",
    "        r_vec[c] = i\n",
    "        c+=1"
   ]
  },
  {
   "cell_type": "code",
   "execution_count": 39,
   "metadata": {},
   "outputs": [],
   "source": [
    "err_A = np.empty(num, dtype = float) #Stores error in kernel spaces for each experiment (no noise vs noise)\n",
    "err_U_test = np.empty(num, dtype = float) #Stores error in kernel spaces of A, i.e. errors in 'guesses' (no noise vs noise)\n",
    "err_noiseless_test = np.empty(num, dtype = float) #Stores error in the difference between true projection and no noise guess\n",
    "err_noisy_test = np.empty(num, dtype = float) # Stores error in difference between true projection and noise guess\n",
    "bounds = np.empty(num, dtype = float) #Stores the error bounds for each experiment (Old)\n",
    "delta_vec = np.empty(num, dtype = float) #Stores the values of delta (i.e. min singular value of projection)\n",
    "Sig_B_vec = np.empty(num, dtype = float) #Stores the singular values of B for each experiment\n",
    "\n",
    "c = 0\n",
    "\n",
    "for r_ in r_vec:\n",
    "    U = np.random.normal(0, 1, (m,r_))\n",
    "    \n",
    "    W = np.zeros((m,m-r_))\n",
    "\n",
    "    #Uncomment for the first type of W matrix\n",
    "    \n",
    "    for i in range(W.shape[0]):\n",
    "        for j in range(W.shape[1]):\n",
    "            if i < r_:\n",
    "                W[i][j] = 1\n",
    "            else:\n",
    "                if i-r_ == j:\n",
    "                    W[i][j] = 1\n",
    "    \"\"\"\n",
    "    #Uncomment for the second type of W matrix\n",
    "    \n",
    "    for i in range(W.shape[1]):\n",
    "        temp = 0\n",
    "        while temp!=r_+1:\n",
    "            W[temp+i][i] = 1\n",
    "            temp+=1\n",
    "    \"\"\"\n",
    "   \n",
    "    err_A[c], err_U_test[c], err_noiseless_test[c], err_noisy_test[c], bounds[c], delta_vec[c], Sig_B_vec[c] = Errors(m,r_,U,W,sigma)\n",
    "    c+=1"
   ]
  },
  {
   "cell_type": "code",
   "execution_count": 40,
   "metadata": {},
   "outputs": [
    {
     "data": {
      "image/png": "[encoded data removed]",
      "text/plain": [
       "<Figure size 432x288 with 1 Axes>"
      ]
     },
     "metadata": {
      "needs_background": "light"
     },
     "output_type": "display_data"
    }
   ],
   "source": [
    "plt.scatter(r_vec,err_A)\n",
    "plt.title(\"Difference between A and B\")\n",
    "plt.xlabel(\"Subspace dimension\")\n",
    "plt.ylabel(\"Noise in A matrix\")\n",
    "plt.yscale('log')\n",
    "plt.show()"
   ]
  },
  {
   "cell_type": "code",
   "execution_count": 41,
   "metadata": {},
   "outputs": [
    {
     "data": {
      "image/png": "[encoded data removed]",
      "text/plain": [
       "<Figure size 432x288 with 1 Axes>"
      ]
     },
     "metadata": {
      "needs_background": "light"
     },
     "output_type": "display_data"
    }
   ],
   "source": [
    "plt.scatter(r_vec, err_U_test)\n",
    "plt.title(\"Difference in kernel space of A and B\")\n",
    "plt.xlabel(\"Subspace Dimension\")\n",
    "plt.ylabel(\"Noise in kernel space\")\n",
    "plt.yscale('log')\n",
    "plt.show()"
   ]
  },
  {
   "cell_type": "code",
   "execution_count": 42,
   "metadata": {},
   "outputs": [
    {
     "data": {
      "image/png": "[encoded data removed]",
      "text/plain": [
       "<Figure size 432x288 with 1 Axes>"
      ]
     },
     "metadata": {
      "needs_background": "light"
     },
     "output_type": "display_data"
    }
   ],
   "source": [
    "plt.scatter(r_vec, err_noiseless_test)\n",
    "plt.title(\"Difference between true subspace (U) and noiseless guess (ker A)\")\n",
    "plt.xlabel(\"Subspace Dimension\")\n",
    "plt.ylabel(\"Error\")\n",
    "plt.yscale('log')\n",
    "plt.show()"
   ]
  },
  {
   "cell_type": "code",
   "execution_count": 43,
   "metadata": {},
   "outputs": [],
   "source": [
    "# Averaging results of each trial\n",
    "\n",
    "avg_bounds = np.empty(np.int((upper_dim-lower_dim)/increment), dtype = 'float') #Stores average of results of each test\n",
    "avg_error = np.empty(np.int((upper_dim-lower_dim)/increment), dtype = 'float') #Stores average of results of each test\n",
    "avg_sigma = np.empty(np.int((upper_dim-lower_dim)/increment), dtype = 'float') #Stores average of results of each test\n",
    "r_vec_distinct = np.empty(np.int((upper_dim-lower_dim)/increment), dtype = 'float') #Stores the distinct values of r\n",
    "\n",
    "c=0\n",
    "\n",
    "for i in range(np.int((upper_dim-lower_dim)/increment)):\n",
    "    sum_bounds = 0\n",
    "    sum_error = 0\n",
    "    sum_sigma = 0\n",
    "\n",
    "    for j in range(0,num_tests):\n",
    "        sum_bounds = sum_bounds + bounds[(i*num_tests)+j]\n",
    "        sum_error = sum_error + err_noisy_test[(i*num_tests)+j]\n",
    "        sum_sigma = sum_sigma + Sig_B_vec[(i*num_tests)+j]\n",
    "        \n",
    "    avg_bounds[c] = sum_bounds/num_tests\n",
    "    avg_error[c] = sum_error/num_tests\n",
    "    avg_sigma[c] = sum_sigma/num_tests\n",
    "    c+=1\n",
    "    \n",
    "c = 0\n",
    "for i in range(lower_dim, upper_dim, increment):\n",
    "    r_vec_distinct[c] = i\n",
    "    c+=1"
   ]
  },
  {
   "cell_type": "code",
   "execution_count": 44,
   "metadata": {},
   "outputs": [],
   "source": [
    "root_r_vec = np.empty(np.int((upper_dim-lower_dim)/increment), dtype = 'float')\n",
    "\n",
    "for i in range(np.int((upper_dim-lower_dim)/increment)):\n",
    "    root_r_vec[i] = math.sqrt(r_vec_distinct[i])"
   ]
  },
  {
   "cell_type": "code",
   "execution_count": 45,
   "metadata": {},
   "outputs": [
    {
     "data": {
      "image/png": "[encoded data removed]",
      "text/plain": [
       "<Figure size 432x288 with 1 Axes>"
      ]
     },
     "metadata": {
      "needs_background": "dark"
     },
     "output_type": "display_data"
    }
   ],
   "source": [
    "fig = plt.figure()\n",
    "\n",
    "ax = fig.add_subplot()\n",
    "\n",
    "# Creating Title\n",
    "\n",
    "plt.title(\"Difference between True Space (U) and Noisy Guess (Ker B)\")\n",
    "\n",
    "# Adjusting Ticks\n",
    "\n",
    "ax.tick_params(direction=\"in\")\n",
    "plt.yticks(rotation=90)\n",
    "ax.tick_params(axis='x',direction=\"in\", colors='gray')    #setting up X-axis tick color to red\n",
    "ax.tick_params(axis='y',direction=\"in\", colors='gray')\n",
    "\n",
    "#Plotting Data\n",
    "\n",
    "plt.plot(r_vec_distinct, avg_error, label = r'Exact Error $d_G\\{U, \\hat{U}\\}$')\n",
    "plt.plot(r_vec_distinct,avg_bounds,color = 'red', label = 'Bound (See (3))')\n",
    "plt.plot(r_vec_distinct,avg_sigma, color = 'green', label = r'$\\varsigma(B)$')\n",
    "plt.plot(r_vec_distinct,root_r_vec, color = 'grey', label = r'Trivial Bound $\\sqrt{r}$')\n",
    "\n",
    "# Labeling and Scaling Axes\n",
    "plt.xlabel(r'Subspace Dimension')\n",
    "plt.ylabel(\"Error\")\n",
    "plt.yscale('log')\n",
    "\n",
    "# Making Legend\n",
    "\n",
    "# reordering the labels\n",
    "handles, labels = plt.gca().get_legend_handles_labels()\n",
    "\n",
    "    \n",
    "# specify order\n",
    "order = [3, 0, 2, 1]\n",
    "  \n",
    "# pass handle & labels lists along with order as below\n",
    "plt.legend([handles[i] for i in order], [labels[i] for i in order], frameon = False)\n",
    "\n",
    "# Adjusting Borders\n",
    "\n",
    "plt.rcParams[\"axes.edgecolor\"] = \"lightgray\"  #Border color\n",
    "plt.rcParams[\"axes.linewidth\"] = 0.50      #Border Width\n",
    "\n",
    "# Saving Figure\n",
    "#plt.savefig('Subspace_Dim_Sampling_2.eps', format='eps')\n",
    "\n",
    "plt.show()\n",
    "\n"
   ]
  },
  {
   "cell_type": "markdown",
   "metadata": {},
   "source": [
    "## Some extra analysis"
   ]
  },
  {
   "cell_type": "markdown",
   "metadata": {},
   "source": [
    "### PCA for Effect of Noise Experiment"
   ]
  },
  {
   "cell_type": "code",
   "execution_count": 53,
   "metadata": {},
   "outputs": [
    {
     "data": {
      "text/plain": [
       "PCA(n_components=2)"
      ]
     },
     "execution_count": 53,
     "metadata": {},
     "output_type": "execute_result"
    }
   ],
   "source": [
    "from sklearn.decomposition import PCA\n",
    "pca = PCA(n_components=2)\n",
    "pca.fit(np.vstack((sigma_vec, err_noisy_test)).T)"
   ]
  },
  {
   "cell_type": "code",
   "execution_count": 54,
   "metadata": {
    "scrolled": true
   },
   "outputs": [
    {
     "data": {
      "text/plain": [
       "array([[ 0.17069498,  0.98532392],\n",
       "       [ 0.98532392, -0.17069498]])"
      ]
     },
     "execution_count": 54,
     "metadata": {},
     "output_type": "execute_result"
    }
   ],
   "source": [
    "pca.components_"
   ]
  },
  {
   "cell_type": "code",
   "execution_count": 55,
   "metadata": {},
   "outputs": [
    {
     "data": {
      "text/plain": [
       "array([9.87188034e-05, 2.70251658e-07])"
      ]
     },
     "execution_count": 55,
     "metadata": {},
     "output_type": "execute_result"
    }
   ],
   "source": [
    "pca.explained_variance_"
   ]
  },
  {
   "cell_type": "code",
   "execution_count": 58,
   "metadata": {},
   "outputs": [
    {
     "data": {
      "image/png": "[encoded data removed]",
      "text/plain": [
       "<Figure size 432x288 with 1 Axes>"
      ]
     },
     "metadata": {
      "needs_background": "light"
     },
     "output_type": "display_data"
    }
   ],
   "source": [
    "def draw_vector(v0, v1, ax=None):\n",
    "    ax = ax or plt.gca()\n",
    "    arrowprops=dict(arrowstyle='->',\n",
    "                    linewidth=2,\n",
    "                    shrinkA=0, shrinkB=0)\n",
    "    ax.annotate('', v1, v0, arrowprops=arrowprops)\n",
    "\n",
    "# plot data\n",
    "plt.scatter(sigma_vec, err_noisy_test)\n",
    "for length, vector in zip(pca.explained_variance_, pca.components_):\n",
    "    v = vector * 3 * np.sqrt(length)\n",
    "    draw_vector(pca.mean_, pca.mean_ + v)\n",
    "plt.xscale('log')\n",
    "plt.yscale('log')\n",
    "plt.axis('equal');"
   ]
  },
  {
   "cell_type": "code",
   "execution_count": null,
   "metadata": {},
   "outputs": [],
   "source": []
  }
 ],
 "metadata": {
  "kernelspec": {
   "display_name": "Python 3",
   "language": "python",
   "name": "python3"
  },
  "language_info": {
   "codemirror_mode": {
    "name": "ipython",
    "version": 3
   },
   "file_extension": ".py",
   "mimetype": "text/x-python",
   "name": "python",
   "nbconvert_exporter": "python",
   "pygments_lexer": "ipython3",
   "version": "3.8.5"
  }
 },
 "nbformat": 4,
 "nbformat_minor": 4
}
