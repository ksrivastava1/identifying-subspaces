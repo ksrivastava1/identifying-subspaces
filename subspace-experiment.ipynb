{
 "cells": [
  {
   "cell_type": "markdown",
   "metadata": {},
   "source": [
    "## No noise\n",
    "\n",
    "First, we will just experiment with no noise to make sure we construct an accurate simulation of the original results"
   ]
  },
  {
   "cell_type": "code",
   "execution_count": 1,
   "metadata": {
    "scrolled": true
   },
   "outputs": [
    {
     "name": "stdout",
     "output_type": "stream",
     "text": [
      "True space \n",
      " [[0.04488451 0.11479788]\n",
      " [0.81112633 0.85832003]\n",
      " [0.75787701 0.5791911 ]\n",
      " [0.93068682 0.78137609]\n",
      " [0.59737938 0.46923249]]\n"
     ]
    }
   ],
   "source": [
    "import numpy as np\n",
    "import matplotlib.pyplot as plt\n",
    "import math\n",
    "\n",
    "m = 5 #Number of columns \n",
    "r = 2 #Dimension of U*\n",
    "\n",
    "U = np.random.rand(m,r) #Random (true) subspace\n",
    "#U = np.array([[1,1],[1,2],[1,3],[1,4],[1,5]]) #Example true space\n",
    "\n",
    "print(\"True space \\n\", U)"
   ]
  },
  {
   "cell_type": "markdown",
   "metadata": {},
   "source": [
    "##### Note:\n",
    "\n",
    "In our experiments, we will take $W$ to be either of the form:\n",
    "\n",
    "$$\n",
    "\\begin{matrix}\n",
    "1 & 1 & ... & 1 \\\\\n",
    "1 & 1 & ... & 1 \\\\\n",
    "1 & 1 & ... & 1 \\\\\n",
    "... & ... & ... & ... \\\\\n",
    "1 & 1 & ... & 1 \\\\\n",
    "1 & 0 & ... & 0 \\\\\n",
    "0 & 1 & ... & 0 \\\\\n",
    "... & ... & ... & ... \\\\\n",
    "0 & 0 & ... & 1 \\\\\n",
    "\\end{matrix}\n",
    "$$\n",
    "\n",
    "with a block of r 1's in the first r rows and an identity matrix at the bottom, or\n",
    "\n",
    "$$\n",
    "\\begin{matrix}\n",
    "1 & 0 & ... & 0 \\\\\n",
    "1 & 1 & ... & 0 \\\\\n",
    "1 & 1 & ... & 0 \\\\\n",
    "... & ... & ... & ... \\\\\n",
    "0 & 0 & ... & 1 \\\\\n",
    "\\end{matrix}\n",
    "$$\n",
    "\n",
    "with each column having r+1 $1$s starting from the main diagonal. \n",
    "\n",
    "\n",
    "We could choose any $W$ satisfying our assumptions. This was taken because of ease of generalization in the code."
   ]
  },
  {
   "cell_type": "code",
   "execution_count": 2,
   "metadata": {
    "scrolled": false
   },
   "outputs": [
    {
     "name": "stdout",
     "output_type": "stream",
     "text": [
      "Binary matrix \n",
      " [[1. 1. 1.]\n",
      " [1. 1. 1.]\n",
      " [1. 0. 0.]\n",
      " [0. 1. 0.]\n",
      " [0. 0. 1.]]\n"
     ]
    }
   ],
   "source": [
    "#Define the binary matrix W\n",
    "\n",
    "W = np.zeros((m,m-r))\n",
    "\n",
    "#Uncomment for the first type of W matrix\n",
    "\n",
    "for i in range(W.shape[0]):\n",
    "    for j in range(W.shape[1]):\n",
    "        if i < r:\n",
    "            W[i][j] = 1\n",
    "        else:\n",
    "            if i-r == j:\n",
    "                W[i][j] = 1\n",
    "\"\"\"\n",
    "#Uncomment for the second type of W matrix\n",
    "\n",
    "\n",
    "for i in range(W.shape[1]):\n",
    "    temp = 0\n",
    "    while temp!=r+1:\n",
    "        W[temp+i][i] = 1\n",
    "        temp+=1\n",
    "\"\"\"\n",
    "\n",
    "        \n",
    "W_T = np.transpose(W)\n",
    "\n",
    "print(\"Binary matrix \\n\", W)"
   ]
  },
  {
   "cell_type": "code",
   "execution_count": 3,
   "metadata": {
    "scrolled": true
   },
   "outputs": [
    {
     "name": "stdout",
     "output_type": "stream",
     "text": [
      "Matrix of projections of S onto lower dimensions \n",
      " [[0.04488451 0.11479788 0.04488451 0.11479788 0.04488451 0.11479788]\n",
      " [0.81112633 0.85832003 0.81112633 0.85832003 0.81112633 0.85832003]\n",
      " [0.75787701 0.5791911  0.93068682 0.78137609 0.59737938 0.46923249]]\n"
     ]
    }
   ],
   "source": [
    "#Computing the projections of S onto canonical coordinates\n",
    "\n",
    "U_proj = np.array(np.hstack(([[U[j,:] for j in range(np.shape(U)[0]) if W_T[i,j] == 1] for i in range(W_T.shape[0])])))\n",
    "\n",
    "print(\"Matrix of projections of S onto lower dimensions \\n\", U_proj)"
   ]
  },
  {
   "cell_type": "code",
   "execution_count": 4,
   "metadata": {
    "scrolled": true
   },
   "outputs": [
    {
     "name": "stdout",
     "output_type": "stream",
     "text": [
      "Matrix of basis vectors of the nullspace of projections \n",
      " [[-0.91088494 -0.87755126 -0.87705868]\n",
      " [ 0.3075165   0.38162895  0.31539404]\n",
      " [-0.27517672 -0.29028114 -0.36234607]]\n"
     ]
    }
   ],
   "source": [
    "#Computing the nullspaces of the projections\n",
    "\n",
    "from scipy.linalg import null_space\n",
    "\n",
    "A_temp = np.array(np.hstack(([[null_space(U_proj.T[i:i+r, :])[j,:] for j in range(U_proj.T.shape[1])] for i in range(0, U_proj.T.shape[0], r)])))\n",
    "\n",
    "print(\"Matrix of basis vectors of the nullspace of projections \\n\", A_temp)\n"
   ]
  },
  {
   "cell_type": "code",
   "execution_count": 5,
   "metadata": {},
   "outputs": [
    {
     "name": "stdout",
     "output_type": "stream",
     "text": [
      "Matrix whose kernel will be our guess \n",
      " [[-0.91088494 -0.87755126 -0.87705868]\n",
      " [ 0.3075165   0.38162895  0.31539404]\n",
      " [-0.27517672  0.          0.        ]\n",
      " [ 0.         -0.29028114  0.        ]\n",
      " [ 0.          0.         -0.36234607]]\n",
      "Singular values \n",
      " [1.6738567  0.33951646 0.28797974]\n"
     ]
    }
   ],
   "source": [
    "#Creating the matrix A whose null space will be the true subspace \n",
    "#And computing its singular values\n",
    "\n",
    "A = np.array(W, dtype = float)\n",
    "\n",
    "for j in range(A.shape[1]):\n",
    "    c = 0\n",
    "    for i in range(A.shape[0]):\n",
    "        if A[i,j] == 1:\n",
    "            A[i,j] = A_temp[c, j]\n",
    "            c+=1\n",
    "print(\"Matrix whose kernel will be our guess \\n\", A)\n",
    "\n",
    "Sig = np.linalg.svd(A)[1]\n",
    "\n",
    "print(\"Singular values \\n\", Sig)"
   ]
  },
  {
   "cell_type": "code",
   "execution_count": 6,
   "metadata": {},
   "outputs": [
    {
     "name": "stdout",
     "output_type": "stream",
     "text": [
      "Basis of guessed space \n",
      " [[ 0.22191782 -0.3143981 ]\n",
      " [ 0.83385196 -0.38441362]\n",
      " [ 0.19726098  0.61112352]\n",
      " [ 0.42537307  0.4450757 ]\n",
      " [ 0.18865112  0.42639848]]\n"
     ]
    }
   ],
   "source": [
    "#Finding kernel space of A\n",
    "\n",
    "U_test = null_space(A.T)\n",
    "\n",
    "print(\"Basis of guessed space \\n\", U_test)"
   ]
  },
  {
   "cell_type": "code",
   "execution_count": 7,
   "metadata": {},
   "outputs": [
    {
     "name": "stdout",
     "output_type": "stream",
     "text": [
      "True projection [[ 0.14809368  0.30590552 -0.14836035 -0.04553309 -0.09219383]\n",
      " [ 0.30590552  0.84308292 -0.07043775  0.18360501 -0.00660628]\n",
      " [-0.14836035 -0.07043775  0.41238386  0.35590574  0.29779565]\n",
      " [-0.04553309  0.18360501  0.35590574  0.37903463  0.27002671]\n",
      " [-0.09219383 -0.00660628  0.29779565  0.27002671  0.21740491]]\n",
      "Guessed projection [[ 0.14809368  0.30590552 -0.14836035 -0.04553309 -0.09219383]\n",
      " [ 0.30590552  0.84308292 -0.07043775  0.18360501 -0.00660628]\n",
      " [-0.14836035 -0.07043775  0.41238386  0.35590574  0.29779565]\n",
      " [-0.04553309  0.18360501  0.35590574  0.37903463  0.27002671]\n",
      " [-0.09219383 -0.00660628  0.29779565  0.27002671  0.21740491]]\n",
      "Error 7.294746843856998e-15\n"
     ]
    }
   ],
   "source": [
    "# Testing for whether the span of ker(A) is the same as column space of U - i.e. the true space\n",
    "# We test this by looking at the projection matrices \n",
    "# Error estimated with the ||P_true - P_test||_F, the frobenius norm of the difference in Projection matrices\n",
    "\n",
    "P_test = np.dot(U_test,np.dot(np.linalg.inv(np.dot(U_test.T,U_test)), U_test.T))\n",
    "\n",
    "P_true = np.dot(U,np.dot(np.linalg.inv(np.dot(U.T,U)), U.T))\n",
    "\n",
    "error = (1/math.sqrt(2))*np.linalg.norm(P_true - P_test, 'fro') \n",
    "\n",
    "print (\"True projection\", P_true)\n",
    "print (\"Guessed projection\", P_test)\n",
    "\n",
    "print (\"Error\", error)"
   ]
  },
  {
   "cell_type": "markdown",
   "metadata": {},
   "source": [
    "## With noise \n",
    "\n",
    "Now we will perform the same experiment, but we will add noise into the mix and see how the noise translates through every step."
   ]
  },
  {
   "cell_type": "code",
   "execution_count": 8,
   "metadata": {},
   "outputs": [
    {
     "name": "stdout",
     "output_type": "stream",
     "text": [
      "True space \n",
      " [[0.07731885 0.03294845 0.98446238]\n",
      " [0.41862581 0.93708427 0.1279112 ]\n",
      " [0.40331899 0.11862029 0.29385146]\n",
      " [0.76763529 0.46998844 0.97591206]\n",
      " [0.3271376  0.574063   0.64888746]\n",
      " [0.48287083 0.8738295  0.94147049]\n",
      " [0.58906333 0.71611635 0.44440426]]\n"
     ]
    }
   ],
   "source": [
    "m = 7 #Number of columns \n",
    "r = 3 #Dimension of U*\n",
    "\n",
    "\n",
    "U = np.random.rand(m,r) #Random (true) subspace\n",
    "\n",
    "#Uncomment the following out for an example true space\n",
    "#m = 5\n",
    "#r = 2\n",
    "#U = np.array([[1,1],[1,2],[1,3],[1,4],[1,5]]) \n",
    "\n",
    "print(\"True space \\n\", U)"
   ]
  },
  {
   "cell_type": "code",
   "execution_count": 9,
   "metadata": {},
   "outputs": [
    {
     "name": "stdout",
     "output_type": "stream",
     "text": [
      "Binary matrix \n",
      " [[1. 1. 1. 1.]\n",
      " [1. 1. 1. 1.]\n",
      " [1. 1. 1. 1.]\n",
      " [1. 0. 0. 0.]\n",
      " [0. 1. 0. 0.]\n",
      " [0. 0. 1. 0.]\n",
      " [0. 0. 0. 1.]]\n"
     ]
    }
   ],
   "source": [
    "#Define the binary matrix W\n",
    "\n",
    "W = np.zeros((m,m-r))\n",
    "\n",
    "#Uncomment for the first type of W matrix\n",
    "\"\"\"\n",
    "for i in range(W.shape[1]):\n",
    "    temp = 0\n",
    "    while temp!=r+1:\n",
    "        W[temp+i][i] = 1\n",
    "        temp+=1\n",
    "\"\"\"\n",
    "\n",
    "#Uncomment for the second type of W matrix\n",
    "\n",
    "for i in range(W.shape[0]):\n",
    "    for j in range(W.shape[1]):\n",
    "        if i < r:\n",
    "            W[i][j] = 1\n",
    "        else:\n",
    "            if i-r == j:\n",
    "                W[i][j] = 1\n",
    "\n",
    "        \n",
    "W_T = np.transpose(W)\n",
    "\n",
    "print(\"Binary matrix \\n\", W)"
   ]
  },
  {
   "cell_type": "code",
   "execution_count": 10,
   "metadata": {},
   "outputs": [
    {
     "name": "stdout",
     "output_type": "stream",
     "text": [
      "Projections of U onto lower dimensions w/o noise \n",
      " [[0.07731885 0.03294845 0.98446238 0.07731885 0.03294845 0.98446238\n",
      "  0.07731885 0.03294845 0.98446238 0.07731885 0.03294845 0.98446238]\n",
      " [0.41862581 0.93708427 0.1279112  0.41862581 0.93708427 0.1279112\n",
      "  0.41862581 0.93708427 0.1279112  0.41862581 0.93708427 0.1279112 ]\n",
      " [0.40331899 0.11862029 0.29385146 0.40331899 0.11862029 0.29385146\n",
      "  0.40331899 0.11862029 0.29385146 0.40331899 0.11862029 0.29385146]\n",
      " [0.76763529 0.46998844 0.97591206 0.3271376  0.574063   0.64888746\n",
      "  0.48287083 0.8738295  0.94147049 0.58906333 0.71611635 0.44440426]]\n",
      "Projections of U onto lower dimensions w/ noise \n",
      " [[0.07806624 0.03484058 0.9840881  0.07692762 0.03118544 0.98587636\n",
      "  0.07739593 0.03303768 0.98303194 0.07809561 0.03179295 0.98354086]\n",
      " [0.41925755 0.93692536 0.12792441 0.4196714  0.93677915 0.12841517\n",
      "  0.41880475 0.93598556 0.12585975 0.41820085 0.94064664 0.12791863]\n",
      " [0.40206459 0.11971771 0.2943034  0.40263644 0.11951597 0.29389036\n",
      "  0.40426743 0.11798114 0.29478288 0.40262963 0.11907031 0.29377443]\n",
      " [0.76708438 0.46943863 0.97834103 0.32738762 0.57264132 0.64774879\n",
      "  0.48148204 0.87585398 0.94394972 0.58735513 0.71730155 0.44517086]]\n"
     ]
    }
   ],
   "source": [
    "# Computing the projections of S onto canonical coordinates\n",
    "\n",
    "# No noise Version\n",
    "\n",
    "U_proj = np.array(np.hstack(([[U[j,:] for j in range(U.shape[0]) if W_T[i,j] == 1] for i in range(W_T.shape[0])])))\n",
    "\n",
    "# Creating the noisy versions\n",
    "\n",
    "mu = 0 # mean\n",
    "sigma = 1e-3 # standard deviation\n",
    "\n",
    "#Adding noise from a Gaussian distribution\n",
    "\n",
    "Z_proj = np.random.normal(mu, sigma, (U_proj.shape[0], U_proj.shape[1]))\n",
    "V_proj = U_proj + Z_proj\n",
    "\n",
    "\n",
    "print(\"Projections of U onto lower dimensions w/o noise \\n\", U_proj)\n",
    "print(\"Projections of U onto lower dimensions w/ noise \\n\", V_proj)"
   ]
  },
  {
   "cell_type": "code",
   "execution_count": 11,
   "metadata": {},
   "outputs": [
    {
     "name": "stdout",
     "output_type": "stream",
     "text": [
      "epsilon 0.004282379233067055\n"
     ]
    }
   ],
   "source": [
    "# Finding the spectral norm of the largest noise matrix to get epsilon\n",
    "\n",
    "epsilon = 0\n",
    "\n",
    "for j in range(0, Z_proj.shape[1], r):\n",
    "    lam = np.amax(np.linalg.svd(Z_proj[:, j:j+r])[1])\n",
    "    epsilon = np.amax([epsilon, lam])\n",
    "print(\"epsilon\", epsilon)"
   ]
  },
  {
   "cell_type": "code",
   "execution_count": 12,
   "metadata": {
    "scrolled": true
   },
   "outputs": [
    {
     "name": "stdout",
     "output_type": "stream",
     "text": [
      "Basis vectors of the nullspace of projections w/o noise \n",
      " [[-0.26626281 -0.43013938 -0.51397912 -0.10097314]\n",
      " [-0.15487871 -0.45122218 -0.56763899 -0.46863069]\n",
      " [-0.79185985 -0.08007369 -0.07675932 -0.52325405]\n",
      " [ 0.52732786  0.77779616  0.63852913  0.70455297]]\n",
      "Basis vectors of the nullspace of projections w/ noise \n",
      " [[-0.26601184 -0.42865365 -0.51715254 -0.10217823]\n",
      " [-0.15235687 -0.45132021 -0.56824506 -0.4681203 ]\n",
      " [-0.79323769 -0.08068899 -0.07002419 -0.52265105]\n",
      " [ 0.52611696  0.7784956   0.63619763  0.70516585]]\n"
     ]
    }
   ],
   "source": [
    "# Computing the nullspaces of the projections\n",
    "\n",
    "# No noise version\n",
    "\n",
    "A_temp = np.array(np.hstack(([[null_space(U_proj.T[i:i+r, :])[j,:] for j in range(U_proj.T.shape[1])] for i in range(0, U_proj.T.shape[0], r)])))\n",
    "\n",
    "\n",
    "# Noisy version\n",
    "\n",
    "B_temp = np.array(np.hstack(([[null_space(V_proj.T[i:i+r, :])[j,:] for j in range(V_proj.T.shape[1])] for i in range(0, V_proj.T.shape[0], r)])))\n",
    "\n",
    "\n",
    "\n",
    "\n",
    "print(\"Basis vectors of the nullspace of projections w/o noise \\n\", A_temp)\n",
    "print(\"Basis vectors of the nullspace of projections w/ noise \\n\", B_temp)"
   ]
  },
  {
   "cell_type": "code",
   "execution_count": 13,
   "metadata": {},
   "outputs": [
    {
     "name": "stdout",
     "output_type": "stream",
     "text": [
      "Matrix whose kernel will be our guess w/o noise \n",
      " [[-0.26626281 -0.43013938 -0.51397912 -0.10097314]\n",
      " [-0.15487871 -0.45122218 -0.56763899 -0.46863069]\n",
      " [-0.79185985 -0.08007369 -0.07675932 -0.52325405]\n",
      " [ 0.52732786  0.          0.          0.        ]\n",
      " [ 0.          0.77779616  0.          0.        ]\n",
      " [ 0.          0.          0.63852913  0.        ]\n",
      " [ 0.          0.          0.          0.70455297]]\n",
      "Matrix whose kernel will be our guess w/ noise \n",
      " [[-0.26601184 -0.42865365 -0.51715254 -0.10217823]\n",
      " [-0.15235687 -0.45132021 -0.56824506 -0.4681203 ]\n",
      " [-0.79323769 -0.08068899 -0.07002419 -0.52265105]\n",
      " [ 0.52611696  0.          0.          0.        ]\n",
      " [ 0.          0.7784956   0.          0.        ]\n",
      " [ 0.          0.          0.63619763  0.        ]\n",
      " [ 0.          0.          0.          0.70516585]]\n"
     ]
    }
   ],
   "source": [
    "#Creating the matrix A whose null space will be the true subspace\n",
    "\n",
    "# No noise version\n",
    "\n",
    "A = np.array(W, dtype = float) \n",
    "\n",
    "for j in range(A.shape[1]): \n",
    "    c = 0\n",
    "    for i in range(A.shape[0]):\n",
    "        if A[i,j] == 1:\n",
    "            A[i,j] = A_temp[c, j]\n",
    "            c+=1\n",
    "            \n",
    "# Noisy version\n",
    "            \n",
    "B = np.array(W, dtype = float) \n",
    "\n",
    "for j in range(B.shape[1]):\n",
    "    c = 0\n",
    "    for i in range(B.shape[0]):\n",
    "        if B[i,j] == 1:\n",
    "            B[i,j] = B_temp[c, j]\n",
    "            c+=1       \n",
    "\n",
    "            \n",
    "print(\"Matrix whose kernel will be our guess w/o noise \\n\", A)\n",
    "print(\"Matrix whose kernel will be our guess w/ noise \\n\", B)"
   ]
  },
  {
   "cell_type": "code",
   "execution_count": 14,
   "metadata": {
    "scrolled": true
   },
   "outputs": [
    {
     "name": "stdout",
     "output_type": "stream",
     "text": [
      "Min Kernel Matrix Singular Value 0.6892370056572207\n",
      "Sum of Data Singular Values 0.28557339455700514\n"
     ]
    }
   ],
   "source": [
    "#Computing the singular values of the projected S matrix, noisy projected S matrix, and noisy A matrix.\n",
    "\n",
    "Sig_V_proj = np.array(np.hstack(([np.amin(np.linalg.svd(V_proj.T[i:i+r, :])[1]) for i in range(0, V_proj.T.shape[0], r)])))\n",
    "Sig_B = np.amin(np.linalg.svd(B)[1])\n",
    "\n",
    "delta = np.amin(Sig_V_proj)\n",
    "\n",
    "print(\"Min Kernel Matrix Singular Value\", Sig_B)\n",
    "print(\"Sum of Data Singular Values\", delta)"
   ]
  },
  {
   "cell_type": "code",
   "execution_count": 15,
   "metadata": {},
   "outputs": [
    {
     "name": "stdout",
     "output_type": "stream",
     "text": [
      "Basis of guessed space w/o noise \n",
      " [[-0.456394    0.65465431  0.10814463]\n",
      " [ 0.73103093  0.08507762  0.03859215]\n",
      " [-0.10446302 -0.29223913  0.46210997]\n",
      " [-0.17260551 -0.08329851  0.75986566]\n",
      " [ 0.1609414   0.38130921  0.12976889]\n",
      " [ 0.26994252  0.56746032  0.17690929]\n",
      " [ 0.34325211 -0.06662781  0.38436582]]\n",
      "Basis of guessed space w/ noise \n",
      " [[-0.45833011  0.65174347  0.10916349]\n",
      " [ 0.73055581  0.08482322  0.03946381]\n",
      " [-0.10139459 -0.29134677  0.46073841]\n",
      " [-0.17305287 -0.08517565  0.76128782]\n",
      " [ 0.16065383  0.37783923  0.13074019]\n",
      " [ 0.2687971   0.57348508  0.17469748]\n",
      " [ 0.34341235 -0.06519209  0.3835032 ]]\n"
     ]
    }
   ],
   "source": [
    "#Finding kernel space of A\n",
    "\n",
    "U_test = null_space(A.T) # No noise\n",
    "V_test = null_space(B.T) # With noise\n",
    "\n",
    "print(\"Basis of guessed space w/o noise \\n\", U_test)\n",
    "print(\"Basis of guessed space w/ noise \\n\", V_test)"
   ]
  },
  {
   "cell_type": "code",
   "execution_count": 16,
   "metadata": {
    "scrolled": true
   },
   "outputs": [
    {
     "name": "stdout",
     "output_type": "stream",
     "text": [
      "Error w/o noise 8.732812317511098e-16\n",
      "Error w/ noise 0.008505613387758487\n",
      "Estimated bound 0.10658704307329502\n"
     ]
    }
   ],
   "source": [
    "# Testing for whether the span of ker(A) is the same as column space of S - i.e. the true space\n",
    "# We test this by looking at the projection matrices \n",
    "# Error estimated with the ||P_true - P_test||_F, the frobenius norm of the difference in Projection matrices\n",
    "\n",
    "P_test = np.dot(U_test,np.dot(np.linalg.inv(np.dot(U_test.T,U_test)), U_test.T))\n",
    "P_test_noise = np.dot(V_test,np.dot(np.linalg.inv(np.dot(V_test.T,V_test)), V_test.T))\n",
    "P_true = np.dot(U,np.dot(np.linalg.inv(np.dot(U.T,U)), U.T))\n",
    "\n",
    "error = (1/math.sqrt(2))*np.linalg.norm(P_true - P_test, 'fro') \n",
    "error_noise = (1/math.sqrt(2))*np.linalg.norm(P_true - P_test_noise, 'fro') \n",
    "\n",
    "bound = epsilon*math.sqrt(2*r*(m-r))/(Sig_B*delta)\n",
    "\n",
    "#print (\"True projection\", P_true)\n",
    "#print (\"Guessed projection w/o noise\", P_test)\n",
    "#print (\"Guessed projection w/ noise\", P_test_noise)\n",
    "\n",
    "print (\"Error w/o noise\", error)\n",
    "print (\"Error w/ noise\", error_noise)\n",
    "print (\"Estimated bound\", bound)"
   ]
  },
  {
   "cell_type": "markdown",
   "metadata": {},
   "source": [
    "## Experiments"
   ]
  },
  {
   "cell_type": "code",
   "execution_count": 485,
   "metadata": {},
   "outputs": [],
   "source": [
    "def Errors(m_, r_, U_, W_, sigma_):\n",
    "    \n",
    "    ##############################################################################################\n",
    "\n",
    "    # Step 0.0: Computing the projections of S onto canonical coordinates and adding noise\n",
    "\n",
    "    # No noise Version\n",
    "\n",
    "    U_proj = np.array(np.hstack(([[U_[j,:] for j in range(U_.shape[0]) if W_.T[i,j] == 1] for i in range(W_.T.shape[0])])))\n",
    "\n",
    "\n",
    "    # Creating the noisy versions\n",
    "    \n",
    "    rows_proj = U_proj.shape[0]\n",
    "    cols_proj = U_proj.shape[1]\n",
    "\n",
    "    #Adding noise from a Gaussian distribution to projection (Option 1)\n",
    "    \n",
    "    Z_proj = np.random.normal(0, sigma_, (rows_proj,cols_proj))\n",
    "    V_proj = U_proj + Z_proj\n",
    "    \n",
    "    ##############################################################################################\n",
    "    \n",
    "    # Step 0.1: computing epsilon by computing the largest spectral norm of all the noise matrices\n",
    "    \n",
    "    \n",
    "    # Finding the spectral norm of the largest noise matrix to get epsilon\n",
    "\n",
    "    epsilon = 0\n",
    "\n",
    "    for j in range(0, Z_proj.shape[1], r):\n",
    "        lam = np.amax(np.linalg.svd(Z_proj[:, j:j+r])[1])\n",
    "        epsilon = np.amax([epsilon, lam])\n",
    "        \n",
    "    \n",
    "    ##############################################################################################\n",
    "\n",
    "\n",
    "    # Step 1: Computing the nullspaces of the projections\n",
    "\n",
    "    # No noise version\n",
    "\n",
    "    A_temp = np.array(np.hstack(([[null_space(U_proj.T[i:i+r_, :])[j,:] for j in range(U_proj.T.shape[1])] for i in range(0, U_proj.T.shape[0], r_)])))\n",
    "\n",
    "\n",
    "    # Noisy version\n",
    "\n",
    "    B_temp = np.array(np.hstack(([[null_space(V_proj.T[i:i+r_, :])[j,:] for j in range(V_proj.T.shape[1])] for i in range(0, V_proj.T.shape[0], r_)])))\n",
    "\n",
    "    \n",
    "    #We could also add noise from a Gaussian distribution to these nullspaces instead of the projected \n",
    "    #coordinates (Option 2)\n",
    "    #Uncomment the following line for that: \n",
    "    \n",
    "    #A_temp_noise = A_temp + np.random.normal(0, sigma, (A_temp.shape[0],A_temp.shape[1]))*lam_\n",
    "    \n",
    "    ##############################################################################################\n",
    "     \n",
    "    \n",
    "    #Step 2: Creating the matrix A whose null space will be the true subspace\n",
    "\n",
    "    # No noise version\n",
    "\n",
    "    A_ = np.array(W_, dtype = float) \n",
    "\n",
    "    for j in range(A_.shape[1]):\n",
    "        c = 0\n",
    "        for i in range(A_.shape[0]):\n",
    "            if A_[i,j] == 1:\n",
    "                A_[i,j] = A_temp[c, j]\n",
    "                c+=1\n",
    "\n",
    "    # Noisy version\n",
    "\n",
    "    B_ = np.array(W_, dtype = float) \n",
    "\n",
    "    for j in range(B_.shape[1]):\n",
    "        c = 0\n",
    "        for i in range(B_.shape[0]):\n",
    "            if B_[i,j] == 1:\n",
    "                B_[i,j] = B_temp[c, j]\n",
    "                c+=1       \n",
    "\n",
    "    error_A = np.linalg.norm(A_-B_, 'fro')\n",
    "    \n",
    "    ##############################################################################################\n",
    "    \n",
    "    \n",
    "    #Step 3: Finding kernel space of A\n",
    "\n",
    "    U_test = null_space(A_.T) # No noise\n",
    "    V_test = null_space(B_.T) # With noise\n",
    "\n",
    "    \n",
    "    error_U_test = np.linalg.norm(U_test - V_test, 'fro')\n",
    "    \n",
    "    ##############################################################################################\n",
    "    \n",
    "    #Final Step: Testing for whether the span of ker(A) is the same as column space of S - i.e. the true space\n",
    "    # We test this by looking at the projection matrices \n",
    "    # Error estimated with the ||Proj_true - Proj_test||_F, the frobenius norm of the difference in Projection matrices\n",
    "\n",
    "    Proj_test = np.dot(U_test,np.dot(np.linalg.inv(np.dot(U_test.T,U_test)), U_test.T))\n",
    "    Proj_test_noise = np.dot(V_test,np.dot(np.linalg.inv(np.dot(V_test.T,V_test)), V_test.T))\n",
    "    Proj_true = np.dot(U_,np.dot(np.linalg.inv(np.dot(U_.T,U_)), U_.T))\n",
    "\n",
    "    error_noiseless_test = (1/math.sqrt(2))*np.linalg.norm(Proj_true - Proj_test, 'fro') \n",
    "    error_noisy_test = (1/math.sqrt(2))*np.linalg.norm(Proj_true - Proj_test_noise, 'fro') \n",
    "    \n",
    "    \n",
    "    ##############################################################################################\n",
    "    \n",
    "    #Computing the singular values of the projected U matrix, noisy projected U matrix, and noisy A matrix.\n",
    "\n",
    "    Sig_V_proj = np.array(np.hstack(([np.amin(np.linalg.svd(V_proj.T[i:i+r, :])[1]) for i in range(0, V_proj.T.shape[0], r)])))\n",
    "    Sig_B = np.amin(np.linalg.svd(B_)[1])\n",
    "\n",
    "    delta = np.amin(Sig_V_proj)\n",
    "    \n",
    "    bound = epsilon*math.sqrt(2*r*(m-r))/(Sig_B*delta)\n",
    "    \n",
    "    return error_A, error_U_test, error_noiseless_test, error_noisy_test, bound, delta, Sig_B\n",
    "             \n"
   ]
  },
  {
   "cell_type": "markdown",
   "metadata": {},
   "source": [
    "## Effect of Noise: Increasing noise level, keeping dimensions constant"
   ]
  },
  {
   "cell_type": "code",
   "execution_count": 486,
   "metadata": {},
   "outputs": [
    {
     "name": "stdout",
     "output_type": "stream",
     "text": [
      "Binary matrix \n",
      " [[1. 0. 0.]\n",
      " [1. 1. 0.]\n",
      " [1. 1. 1.]\n",
      " [1. 1. 1.]\n",
      " [1. 1. 1.]\n",
      " [1. 1. 1.]\n",
      " [1. 1. 1.]\n",
      " [1. 1. 1.]\n",
      " [0. 1. 1.]\n",
      " [0. 0. 1.]]\n"
     ]
    }
   ],
   "source": [
    "m = 10 #Number of columns \n",
    "r = 7 #Dimension of U\n",
    "\n",
    "#U = np.random.rand(m,r) #Random (true) subspace\n",
    "U = np.random.normal(0, 1, (m,r))\n",
    "#U = np.array([[1,1],[1,2],[1,3],[1,4],[1,5]]) #Uncomment the left out for an example true space\n",
    "\n",
    "W = np.zeros((m,m-r))\n",
    "\n",
    "#Uncomment for the first type of W matrix\n",
    "\"\"\"\n",
    "for i in range(W.shape[0]):\n",
    "    for j in range(W.shape[1]):\n",
    "        if i < r:\n",
    "            W[i][j] = 1\n",
    "        else:\n",
    "            if i-r == j:\n",
    "                W[i][j] = 1\n",
    "\"\"\"\n",
    "#Uncomment for the second type of W matrix\n",
    "\n",
    "\n",
    "for i in range(W.shape[1]):\n",
    "    temp = 0\n",
    "    while temp!=r+1:\n",
    "        W[temp+i][i] = 1\n",
    "        temp+=1\n",
    "\n",
    "\n",
    "print(\"Binary matrix \\n\", W)\n",
    "\n",
    "low_b = 1e-8 #Lower bound of noise\n",
    "upper_b = 1e-2 #Upper bound of noise\n",
    "num = 1000 # Number of experiments\n",
    "\n",
    "sigma_vec = np.logspace(-8,-2,num)"
   ]
  },
  {
   "cell_type": "code",
   "execution_count": 487,
   "metadata": {},
   "outputs": [],
   "source": [
    "err_A = np.empty(num, dtype = float) #Stores error in kernel spaces for each experiment (no noise vs noise)\n",
    "err_U_test = np.empty(num, dtype = float) #Stores error in kernel spaces of A, i.e. errors in 'guesses' (no noise vs noise)\n",
    "err_noiseless_test = np.empty(num, dtype = float) #Stores error in the difference between true projection and no noise guess\n",
    "err_noisy_test = np.empty(num, dtype = float) # Stores error in difference between true projection and noise guess\n",
    "bounds = np.empty(num, dtype = float) #Stores the error bounds for each experiment\n",
    "delta_vec = np.empty(num, dtype = float) #Stores the values of delta (i.e. sum of (singular values)^{-2})\n",
    "Sig_B_vec = np.empty(num, dtype = float) #Stores the singular values of B for each experiment\n",
    "\n",
    "c = 0\n",
    "\n",
    "for sigma in sigma_vec:\n",
    "    err_A[c], err_U_test[c], err_noiseless_test[c], err_noisy_test[c], bounds[c], delta_vec[c], Sig_B_vec[c] = Errors(m,r,U,W,sigma)\n",
    "    c+=1\n"
   ]
  },
  {
   "cell_type": "code",
   "execution_count": 488,
   "metadata": {},
   "outputs": [
    {
     "data": {
      "image/png": "[encoded data removed]",
      "text/plain": [
       "<Figure size 432x288 with 1 Axes>"
      ]
     },
     "metadata": {
      "needs_background": "light"
     },
     "output_type": "display_data"
    }
   ],
   "source": [
    "plt.scatter(sigma_vec,err_A)\n",
    "plt.title(\"Difference in noiseless A matrix and noisy A matrix\")\n",
    "plt.xlabel(\"Noise level\")\n",
    "plt.ylabel(\"Noise in A matrix\")\n",
    "plt.xscale('log')\n",
    "plt.yscale('log')\n",
    "plt.show()"
   ]
  },
  {
   "cell_type": "code",
   "execution_count": 489,
   "metadata": {},
   "outputs": [
    {
     "data": {
      "image/png": "[encoded data removed]",
      "text/plain": [
       "<Figure size 432x288 with 1 Axes>"
      ]
     },
     "metadata": {
      "needs_background": "light"
     },
     "output_type": "display_data"
    }
   ],
   "source": [
    "plt.scatter(sigma_vec, err_U_test)\n",
    "plt.title(\"Difference in kernel space of noiseless A and noisy A\")\n",
    "plt.xlabel(\"Noise level\")\n",
    "plt.ylabel(\"Noise in kernel space\")\n",
    "plt.xscale('log')\n",
    "plt.yscale('log')\n",
    "plt.show()"
   ]
  },
  {
   "cell_type": "code",
   "execution_count": 490,
   "metadata": {},
   "outputs": [
    {
     "data": {
      "image/png": "[encoded data removed]",
      "text/plain": [
       "<Figure size 432x288 with 1 Axes>"
      ]
     },
     "metadata": {
      "needs_background": "light"
     },
     "output_type": "display_data"
    }
   ],
   "source": [
    "plt.scatter(sigma_vec, err_noiseless_test)\n",
    "plt.title(\"Difference between true subspace and noiseless guess\")\n",
    "plt.xlabel(\"Noise level\")\n",
    "plt.ylabel(\"Error\")\n",
    "plt.xscale('log')\n",
    "plt.yscale('log')\n",
    "plt.show()"
   ]
  },
  {
   "cell_type": "code",
   "execution_count": 491,
   "metadata": {
    "scrolled": false
   },
   "outputs": [
    {
     "data": {
      "image/png": "[encoded data removed]",
      "text/plain": [
       "<Figure size 432x288 with 1 Axes>"
      ]
     },
     "metadata": {
      "needs_background": "dark"
     },
     "output_type": "display_data"
    }
   ],
   "source": [
    "fig = plt.figure()\n",
    "\n",
    "ax = fig.add_subplot()\n",
    "\n",
    "ax.tick_params(direction=\"in\")\n",
    "plt.yticks(rotation=90)\n",
    "ax.tick_params(axis='x',direction=\"in\", colors='gray')    #setting up X-axis tick color to red\n",
    "ax.tick_params(axis='y',direction=\"in\", colors='gray')\n",
    "\n",
    "plt.scatter(sigma_vec, err_noisy_test, label = r'Exact Error $d_G\\{U, \\hat{U}\\}$')\n",
    "plt.xlabel(r'Noise level $\\varsigma$')\n",
    "plt.ylabel(\"Error\")\n",
    "plt.xscale('log')\n",
    "plt.yscale('log')\n",
    "\n",
    "plt.plot(sigma_vec,bounds,color = 'red', label = 'Bound (See (3))')\n",
    "plt.plot(sigma_vec,Sig_B_vec, color = 'green', label = r'$\\sigma(B)$')\n",
    "plt.plot(sigma_vec,np.full((num,),np.sqrt(r),dtype = float), color = 'grey', label = r'Trivial Bound $\\sqrt{r}$')\n",
    "\n",
    "# reordering the labels\n",
    "handles, labels = plt.gca().get_legend_handles_labels()\n",
    "\n",
    "    \n",
    "# specify order\n",
    "order = [3, 0, 2, 1]\n",
    "  \n",
    "# pass handle & labels lists along with order as below\n",
    "plt.legend([handles[i] for i in order], [labels[i] for i in order], frameon = False)\n",
    "\n",
    "\n",
    "plt.rcParams[\"axes.edgecolor\"] = \"lightgray\"  #Border color\n",
    "plt.rcParams[\"axes.linewidth\"] = 0.50      #Border Width\n",
    "\n",
    "plt.savefig('Noise_Sampling2_Low_Dim.eps', format='eps')\n",
    "\n",
    "\n",
    "\n",
    "plt.show()"
   ]
  },
  {
   "cell_type": "markdown",
   "metadata": {},
   "source": [
    "## Experiment 2: Increasing ambient dimension m, keeping noise level and subspace dimension constant"
   ]
  },
  {
   "cell_type": "code",
   "execution_count": 476,
   "metadata": {},
   "outputs": [],
   "source": [
    "lower_dim = 20\n",
    "upper_dim = 200\n",
    "num_tests = 100 #Number of tests per dimension\n",
    "increment = 10 #Increment of dimension (Make sure it divides upper_dim - nower_dim)\n",
    "num = np.int((upper_dim-lower_dim)/increment)*num_tests\n",
    "\n",
    "r = 7 #Dimension of U\n",
    "sigma = 1e-7 #Noise level / standard deviation of noise\n",
    "\n",
    "m_vec = np.empty(num, dtype = 'int')\n",
    "c=0\n",
    "for i in range(lower_dim,upper_dim,increment):\n",
    "    for j in range(0,num_tests):\n",
    "        m_vec[c] = i\n",
    "        c+=1"
   ]
  },
  {
   "cell_type": "code",
   "execution_count": 477,
   "metadata": {},
   "outputs": [],
   "source": [
    "err_A = np.empty(num, dtype = float) #Stores error in kernel spaces for each experiment (no noise vs noise)\n",
    "err_U_test = np.empty(num, dtype = float) #Stores error in kernel spaces of A, i.e. errors in 'guesses' (no noise vs noise)\n",
    "err_noiseless_test = np.empty(num, dtype = float) #Stores error in the difference between true projection and no noise guess\n",
    "err_noisy_test = np.empty(num, dtype = float) # Stores error in difference between true projection and noise guess\n",
    "bounds = np.empty(num, dtype = float) #Stores the error bounds for each experiment (Old)\n",
    "delta_vec = np.empty(num, dtype = float) #Stores the values of delta (i.e. min singular value of projection)\n",
    "Sig_B_vec = np.empty(num, dtype = float) #Stores the singular values of B for each experiment\n",
    "\n",
    "c = 0\n",
    "\n",
    "for m_ in m_vec:\n",
    "    \n",
    "    U = np.random.normal(0, 1, (m_,r))\n",
    "    \n",
    "    W = np.zeros((m_,m_-r))\n",
    "\n",
    "    #Uncomment for the first type of W matrix\n",
    "    \"\"\"\n",
    "    for i in range(W.shape[0]):\n",
    "        for j in range(W.shape[1]):\n",
    "            if i < r:\n",
    "                W[i][j] = 1\n",
    "            else:\n",
    "                if i-r == j:\n",
    "                    W[i][j] = 1\n",
    "    \"\"\"\n",
    "    #Uncomment for the second type of W matrix\n",
    "    \n",
    "    for i in range(W.shape[1]):\n",
    "        temp = 0\n",
    "        while temp!=r+1:\n",
    "            W[temp+i][i] = 1\n",
    "            temp+=1\n",
    "    \n",
    "    \n",
    "\n",
    "    \n",
    "    err_A[c], err_U_test[c], err_noiseless_test[c], err_noisy_test[c], bounds[c], delta_vec[c], Sig_B_vec[c] = Errors(m_,r,U,W,sigma)\n",
    "    \n",
    "    c+=1"
   ]
  },
  {
   "cell_type": "code",
   "execution_count": 478,
   "metadata": {},
   "outputs": [
    {
     "data": {
      "image/png": "[encoded data removed]",
      "text/plain": [
       "<Figure size 432x288 with 1 Axes>"
      ]
     },
     "metadata": {
      "needs_background": "light"
     },
     "output_type": "display_data"
    }
   ],
   "source": [
    "plt.scatter(m_vec,err_A)\n",
    "plt.title(\"Difference in noiseless A matrix and noisy A matrix\")\n",
    "plt.xlabel(\"Ambient dimension\")\n",
    "plt.ylabel(\"Noise in A matrix\")\n",
    "plt.yscale('log')\n",
    "plt.show()"
   ]
  },
  {
   "cell_type": "code",
   "execution_count": 479,
   "metadata": {},
   "outputs": [
    {
     "data": {
      "image/png": "[encoded data removed]",
      "text/plain": [
       "<Figure size 432x288 with 1 Axes>"
      ]
     },
     "metadata": {
      "needs_background": "light"
     },
     "output_type": "display_data"
    }
   ],
   "source": [
    "plt.scatter(m_vec, err_U_test)\n",
    "plt.title(\"Difference in kernel space of noiseless A and noisy A\")\n",
    "plt.xlabel(\"Ambient Dimension\")\n",
    "plt.ylabel(\"Noise in kernel space\")\n",
    "plt.yscale('log')\n",
    "plt.show()"
   ]
  },
  {
   "cell_type": "code",
   "execution_count": 480,
   "metadata": {},
   "outputs": [
    {
     "data": {
      "image/png": "[encoded data removed]",
      "text/plain": [
       "<Figure size 432x288 with 1 Axes>"
      ]
     },
     "metadata": {
      "needs_background": "light"
     },
     "output_type": "display_data"
    }
   ],
   "source": [
    "plt.scatter(m_vec, err_noiseless_test)\n",
    "plt.title(\"Difference between true subspace and noiseless guess\")\n",
    "plt.xlabel(\"Ambient Dimension\")\n",
    "plt.ylabel(\"Error\")\n",
    "plt.yscale('log')\n",
    "plt.show()"
   ]
  },
  {
   "cell_type": "code",
   "execution_count": 481,
   "metadata": {},
   "outputs": [],
   "source": [
    "# Averaging results of each trial\n",
    "\n",
    "avg_bounds = np.empty(np.int((upper_dim-lower_dim)/increment), dtype = 'float') #Stores average of results of each test\n",
    "avg_error = np.empty(np.int((upper_dim-lower_dim)/increment), dtype = 'float') #Stores average of results of each test\n",
    "avg_sigma = np.empty(np.int((upper_dim-lower_dim)/increment), dtype = 'float') #Stores average of results of each test\n",
    "m_vec_distinct = np.empty(np.int((upper_dim-lower_dim)/increment), dtype = 'float') #Stores the distinct values of m\n",
    "\n",
    "c=0\n",
    "\n",
    "for i in range(np.int((upper_dim-lower_dim)/increment)):\n",
    "    sum_bounds = 0\n",
    "    sum_error = 0\n",
    "    sum_sigma = 0\n",
    "\n",
    "    for j in range(0,num_tests):\n",
    "        sum_bounds = sum_bounds + bounds[(i*num_tests)+j]\n",
    "        sum_error = sum_error + err_noisy_test[(i*num_tests)+j]\n",
    "        sum_sigma = sum_sigma + Sig_B_vec[(i*num_tests)+j]\n",
    "        \n",
    "    avg_bounds[c] = sum_bounds/num_tests\n",
    "    avg_error[c] = sum_error/num_tests\n",
    "    avg_sigma[c] = sum_sigma/num_tests\n",
    "    c+=1\n",
    "    \n",
    "c = 0\n",
    "for i in range(lower_dim, upper_dim, increment):\n",
    "    m_vec_distinct[c] = i\n",
    "    c+=1"
   ]
  },
  {
   "cell_type": "code",
   "execution_count": 482,
   "metadata": {
    "scrolled": true
   },
   "outputs": [
    {
     "data": {
      "image/png": "[encoded data removed]",
      "text/plain": [
       "<Figure size 432x288 with 1 Axes>"
      ]
     },
     "metadata": {
      "needs_background": "dark"
     },
     "output_type": "display_data"
    }
   ],
   "source": [
    "fig = plt.figure()\n",
    "\n",
    "ax = fig.add_subplot()\n",
    "\n",
    "ax.tick_params(direction=\"in\")\n",
    "plt.yticks(rotation=90)\n",
    "ax.tick_params(axis='x',direction=\"in\", colors='gray')    #setting up X-axis tick color to red\n",
    "ax.tick_params(axis='y',direction=\"in\", colors='gray')\n",
    "\n",
    "\n",
    "\n",
    "\n",
    "\n",
    "plt.plot(m_vec_distinct, avg_error, label = r'Exact Error $d_G\\{U, \\hat{U}\\}$')\n",
    "plt.xlabel(r'Ambient Dimension')\n",
    "plt.ylabel(\"Error\")\n",
    "plt.yscale('log')\n",
    "\n",
    "plt.plot(m_vec_distinct,avg_bounds,color = 'red', label = 'Bound (See (3))')\n",
    "plt.plot(m_vec_distinct,avg_sigma, color = 'green', label = r'$\\varsigma(B)$')\n",
    "plt.plot(m_vec_distinct,np.full((np.int(num/num_tests),),np.sqrt(r),dtype = float), color = 'grey', label = r'Trivial Bound $\\sqrt{r}$')\n",
    "\n",
    "# reordering the labels\n",
    "handles, labels = plt.gca().get_legend_handles_labels()\n",
    "\n",
    "    \n",
    "# specify order\n",
    "order = [3, 0, 2, 1]\n",
    "  \n",
    "# pass handle & labels lists along with order as below\n",
    "plt.legend([handles[i] for i in order], [labels[i] for i in order], frameon = False)\n",
    "\n",
    "\n",
    "plt.rcParams[\"axes.edgecolor\"] = \"lightgray\"  #Border color\n",
    "plt.rcParams[\"axes.linewidth\"] = 0.50      #Border Width\n",
    "plt.savefig('Ambient_Dim_Sampling_2.eps', format='eps')\n",
    "\n",
    "plt.show()\n",
    "\n"
   ]
  },
  {
   "cell_type": "markdown",
   "metadata": {},
   "source": [
    "## Experiment 3: Increasing subspace dimension r, keeping noise level and ambient dimension constant"
   ]
  },
  {
   "cell_type": "code",
   "execution_count": 457,
   "metadata": {},
   "outputs": [],
   "source": [
    "lower_dim = 5\n",
    "upper_dim = 50\n",
    "num_tests = 100 #Number of tests per dimension\n",
    "increment = 5 #Increment of dimension (Make sure it divides upper_dim - nower_dim)\n",
    "num = np.int((upper_dim-lower_dim)/increment)*num_tests\n",
    "\n",
    "r = 7 #Dimension of U\n",
    "sigma = 1e-5 #Noise level / standard deviation of noise\n",
    "\n",
    "\n",
    "r_vec = np.empty(num, dtype = 'int')\n",
    "c=0\n",
    "for i in range(lower_dim,upper_dim,increment):\n",
    "    for j in range(0,num_tests):\n",
    "        r_vec[c] = i\n",
    "        c+=1"
   ]
  },
  {
   "cell_type": "code",
   "execution_count": 458,
   "metadata": {},
   "outputs": [],
   "source": [
    "err_A = np.empty(num, dtype = float) #Stores error in kernel spaces for each experiment (no noise vs noise)\n",
    "err_U_test = np.empty(num, dtype = float) #Stores error in kernel spaces of A, i.e. errors in 'guesses' (no noise vs noise)\n",
    "err_noiseless_test = np.empty(num, dtype = float) #Stores error in the difference between true projection and no noise guess\n",
    "err_noisy_test = np.empty(num, dtype = float) # Stores error in difference between true projection and noise guess\n",
    "bounds = np.empty(num, dtype = float) #Stores the error bounds for each experiment (Old)\n",
    "delta_vec = np.empty(num, dtype = float) #Stores the values of delta (i.e. min singular value of projection)\n",
    "Sig_B_vec = np.empty(num, dtype = float) #Stores the singular values of B for each experiment\n",
    "\n",
    "c = 0\n",
    "\n",
    "for r_ in r_vec:\n",
    "    U = np.random.normal(0, 1, (m,r_))\n",
    "    \n",
    "    W = np.zeros((m,m-r_))\n",
    "\n",
    "    #Uncomment for the first type of W matrix\n",
    "    \"\"\"\n",
    "    for i in range(W.shape[0]):\n",
    "        for j in range(W.shape[1]):\n",
    "            if i < r_:\n",
    "                W[i][j] = 1\n",
    "            else:\n",
    "                if i-r_ == j:\n",
    "                    W[i][j] = 1\n",
    "    \"\"\"\n",
    "    #Uncomment for the second type of W matrix\n",
    "    \n",
    "    for i in range(W.shape[1]):\n",
    "        temp = 0\n",
    "        while temp!=r_+1:\n",
    "            W[temp+i][i] = 1\n",
    "            temp+=1\n",
    "    \n",
    "   \n",
    "    err_A[c], err_U_test[c], err_noiseless_test[c], err_noisy_test[c], bounds[c], delta_vec[c], Sig_B_vec[c] = Errors(m,r_,U,W,sigma)\n",
    "    c+=1"
   ]
  },
  {
   "cell_type": "code",
   "execution_count": 459,
   "metadata": {},
   "outputs": [
    {
     "data": {
      "image/png": "[encoded data removed]",
      "text/plain": [
       "<Figure size 432x288 with 1 Axes>"
      ]
     },
     "metadata": {
      "needs_background": "light"
     },
     "output_type": "display_data"
    }
   ],
   "source": [
    "plt.scatter(r_vec,err_A)\n",
    "plt.title(\"Difference in noiseless A matrix and noisy A matrix\")\n",
    "plt.xlabel(\"Subspace dimension\")\n",
    "plt.ylabel(\"Noise in A matrix\")\n",
    "plt.yscale('log')\n",
    "plt.show()"
   ]
  },
  {
   "cell_type": "code",
   "execution_count": 460,
   "metadata": {},
   "outputs": [
    {
     "data": {
      "image/png": "[encoded data removed]",
      "text/plain": [
       "<Figure size 432x288 with 1 Axes>"
      ]
     },
     "metadata": {
      "needs_background": "light"
     },
     "output_type": "display_data"
    }
   ],
   "source": [
    "plt.scatter(r_vec, err_U_test)\n",
    "plt.title(\"Difference in kernel space of noiseless A and noisy A\")\n",
    "plt.xlabel(\"Subspace Dimension\")\n",
    "plt.ylabel(\"Noise in kernel space\")\n",
    "plt.yscale('log')\n",
    "plt.show()"
   ]
  },
  {
   "cell_type": "code",
   "execution_count": 461,
   "metadata": {},
   "outputs": [
    {
     "data": {
      "image/png": "[encoded data removed]",
      "text/plain": [
       "<Figure size 432x288 with 1 Axes>"
      ]
     },
     "metadata": {
      "needs_background": "light"
     },
     "output_type": "display_data"
    }
   ],
   "source": [
    "plt.scatter(r_vec, err_noiseless_test)\n",
    "plt.title(\"Difference between true subspace and noiseless guess\")\n",
    "plt.xlabel(\"Subspace Dimension\")\n",
    "plt.ylabel(\"Error\")\n",
    "plt.yscale('log')\n",
    "plt.show()"
   ]
  },
  {
   "cell_type": "code",
   "execution_count": 462,
   "metadata": {},
   "outputs": [],
   "source": [
    "# Averaging results of each trial\n",
    "\n",
    "avg_bounds = np.empty(np.int((upper_dim-lower_dim)/increment), dtype = 'float') #Stores average of results of each test\n",
    "avg_error = np.empty(np.int((upper_dim-lower_dim)/increment), dtype = 'float') #Stores average of results of each test\n",
    "avg_sigma = np.empty(np.int((upper_dim-lower_dim)/increment), dtype = 'float') #Stores average of results of each test\n",
    "r_vec_distinct = np.empty(np.int((upper_dim-lower_dim)/increment), dtype = 'float') #Stores the distinct values of r\n",
    "\n",
    "c=0\n",
    "\n",
    "for i in range(np.int((upper_dim-lower_dim)/increment)):\n",
    "    sum_bounds = 0\n",
    "    sum_error = 0\n",
    "    sum_sigma = 0\n",
    "\n",
    "    for j in range(0,num_tests):\n",
    "        sum_bounds = sum_bounds + bounds[(i*num_tests)+j]\n",
    "        sum_error = sum_error + err_noisy_test[(i*num_tests)+j]\n",
    "        sum_sigma = sum_sigma + Sig_B_vec[(i*num_tests)+j]\n",
    "        \n",
    "    avg_bounds[c] = sum_bounds/num_tests\n",
    "    avg_error[c] = sum_error/num_tests\n",
    "    avg_sigma[c] = sum_sigma/num_tests\n",
    "    c+=1\n",
    "    \n",
    "c = 0\n",
    "for i in range(lower_dim, upper_dim, increment):\n",
    "    r_vec_distinct[c] = i\n",
    "    c+=1"
   ]
  },
  {
   "cell_type": "code",
   "execution_count": 463,
   "metadata": {},
   "outputs": [],
   "source": [
    "root_r_vec = np.empty(np.int((upper_dim-lower_dim)/increment), dtype = 'float')\n",
    "\n",
    "for i in range(np.int((upper_dim-lower_dim)/increment)):\n",
    "    root_r_vec[i] = math.sqrt(r_vec_distinct[i])"
   ]
  },
  {
   "cell_type": "code",
   "execution_count": 467,
   "metadata": {},
   "outputs": [
    {
     "data": {
      "image/png": "[encoded data removed]",
      "text/plain": [
       "<Figure size 432x288 with 1 Axes>"
      ]
     },
     "metadata": {
      "needs_background": "dark"
     },
     "output_type": "display_data"
    }
   ],
   "source": [
    "fig = plt.figure()\n",
    "\n",
    "ax = fig.add_subplot()\n",
    "\n",
    "ax.tick_params(direction=\"in\")\n",
    "plt.yticks(rotation=90)\n",
    "ax.tick_params(axis='x',direction=\"in\", colors='gray')    #setting up X-axis tick color to red\n",
    "ax.tick_params(axis='y',direction=\"in\", colors='gray')\n",
    "\n",
    "plt.plot(r_vec_distinct, avg_error, label = r'Exact Error $d_G\\{U, \\hat{U}\\}$')\n",
    "\n",
    "plt.xlabel(r'Subspace Dimension')\n",
    "plt.ylabel(\"Error\")\n",
    "\n",
    "plt.yscale('log')\n",
    "\n",
    "plt.plot(r_vec_distinct,avg_bounds,color = 'red', label = 'Bound (See (3))')\n",
    "plt.plot(r_vec_distinct,avg_sigma, color = 'green', label = r'$\\varsigma(B)$')\n",
    "plt.plot(r_vec_distinct,root_r_vec, color = 'grey', label = r'Trivial Bound $\\sqrt{r}$')\n",
    "\n",
    "# reordering the labels\n",
    "handles, labels = plt.gca().get_legend_handles_labels()\n",
    "\n",
    "    \n",
    "# specify order\n",
    "order = [3, 0, 2, 1]\n",
    "  \n",
    "# pass handle & labels lists along with order as below\n",
    "plt.legend([handles[i] for i in order], [labels[i] for i in order], frameon = False)\n",
    "\n",
    "\n",
    "plt.rcParams[\"axes.edgecolor\"] = \"lightgray\"  #Border color\n",
    "plt.rcParams[\"axes.linewidth\"] = 0.50      #Border Width\n",
    "plt.savefig('Subspace_Dim_Sampling_2.eps', format='eps')\n",
    "\n",
    "plt.show()\n",
    "\n"
   ]
  },
  {
   "cell_type": "markdown",
   "metadata": {},
   "source": [
    "## Statistical analysis"
   ]
  },
  {
   "cell_type": "markdown",
   "metadata": {},
   "source": [
    "### Linear regression"
   ]
  },
  {
   "cell_type": "code",
   "execution_count": 492,
   "metadata": {},
   "outputs": [],
   "source": [
    "from sklearn.linear_model import LinearRegression\n",
    "\n",
    "sigma_vec_reshape = sigma_vec.reshape(-1,1)\n",
    "\n",
    "reg = LinearRegression().fit(sigma_vec_reshape,err_noisy_test)\n",
    "\n",
    "sigma_vec_test = np.random.uniform(low_b,upper_b,num) # Vector that stores different noise values to test\n",
    "sigma_vec_test = np.sort(sigma_vec_test)\n",
    "sigma_vec_test = sigma_vec_test.reshape(-1,1)\n",
    "\n",
    "pred_err = reg.predict(sigma_vec_test)"
   ]
  },
  {
   "cell_type": "code",
   "execution_count": 494,
   "metadata": {},
   "outputs": [
    {
     "data": {
      "image/png": "[encoded data removed]",
      "text/plain": [
       "<Figure size 432x288 with 1 Axes>"
      ]
     },
     "metadata": {
      "needs_background": "light"
     },
     "output_type": "display_data"
    }
   ],
   "source": [
    "plt.scatter(sigma_vec, err_noisy_test)\n",
    "plt.plot(sigma_vec, pred_err, '-', color = 'red')\n",
    "plt.title(\"Difference in true subspace and noisy guess\")\n",
    "plt.xlabel(\"Noise level\")\n",
    "plt.ylabel(\"Error\")\n",
    "plt.xscale('log')\n",
    "plt.yscale('log')\n",
    "\n",
    "plt.show()"
   ]
  },
  {
   "cell_type": "markdown",
   "metadata": {},
   "source": [
    "### PCA"
   ]
  },
  {
   "cell_type": "code",
   "execution_count": 496,
   "metadata": {},
   "outputs": [
    {
     "data": {
      "text/plain": [
       "PCA(n_components=2)"
      ]
     },
     "execution_count": 496,
     "metadata": {},
     "output_type": "execute_result"
    }
   ],
   "source": [
    "from sklearn.decomposition import PCA\n",
    "pca = PCA(n_components=2)\n",
    "pca.fit(np.vstack((sigma_vec, err_noisy_test)).T)"
   ]
  },
  {
   "cell_type": "code",
   "execution_count": 497,
   "metadata": {
    "scrolled": true
   },
   "outputs": [
    {
     "data": {
      "text/plain": [
       "array([[ 0.04480538,  0.99899573],\n",
       "       [ 0.99899573, -0.04480538]])"
      ]
     },
     "execution_count": 497,
     "metadata": {},
     "output_type": "execute_result"
    }
   ],
   "source": [
    "pca.components_"
   ]
  },
  {
   "cell_type": "code",
   "execution_count": 498,
   "metadata": {},
   "outputs": [
    {
     "data": {
      "text/plain": [
       "array([1.32025854e-03, 4.89258807e-07])"
      ]
     },
     "execution_count": 498,
     "metadata": {},
     "output_type": "execute_result"
    }
   ],
   "source": [
    "pca.explained_variance_"
   ]
  },
  {
   "cell_type": "code",
   "execution_count": 501,
   "metadata": {},
   "outputs": [
    {
     "data": {
      "image/png": "[encoded data removed]",
      "text/plain": [
       "<Figure size 432x288 with 1 Axes>"
      ]
     },
     "metadata": {
      "needs_background": "light"
     },
     "output_type": "display_data"
    }
   ],
   "source": [
    "def draw_vector(v0, v1, ax=None):\n",
    "    ax = ax or plt.gca()\n",
    "    arrowprops=dict(arrowstyle='->',\n",
    "                    linewidth=2,\n",
    "                    shrinkA=0, shrinkB=0)\n",
    "    ax.annotate('', v1, v0, arrowprops=arrowprops)\n",
    "\n",
    "# plot data\n",
    "plt.scatter(sigma_vec, err_noisy_test)\n",
    "for length, vector in zip(pca.explained_variance_, pca.components_):\n",
    "    v = vector * 3 * np.sqrt(length)\n",
    "    draw_vector(pca.mean_, pca.mean_ + v)\n",
    "plt.xscale('log')\n",
    "plt.yscale('log')\n",
    "plt.plot(x,y, color = 'red')\n",
    "plt.axis('equal');"
   ]
  },
  {
   "cell_type": "code",
   "execution_count": null,
   "metadata": {},
   "outputs": [],
   "source": []
  }
 ],
 "metadata": {
  "kernelspec": {
   "display_name": "Python 3",
   "language": "python",
   "name": "python3"
  },
  "language_info": {
   "codemirror_mode": {
    "name": "ipython",
    "version": 3
   },
   "file_extension": ".py",
   "mimetype": "text/x-python",
   "name": "python",
   "nbconvert_exporter": "python",
   "pygments_lexer": "ipython3",
   "version": "3.8.5"
  }
 },
 "nbformat": 4,
 "nbformat_minor": 4
}
