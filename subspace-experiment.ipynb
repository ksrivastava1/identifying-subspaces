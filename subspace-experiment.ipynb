{
 "cells": [
  {
   "cell_type": "markdown",
   "metadata": {},
   "source": [
    "## No noise\n",
    "\n",
    "First, we will just experiment with no noise to make sure we construct an accurate simulation of the original results"
   ]
  },
  {
   "cell_type": "code",
   "execution_count": 47,
   "metadata": {
    "scrolled": true
   },
   "outputs": [
    {
     "name": "stdout",
     "output_type": "stream",
     "text": [
      "True space \n",
      " [[0.96810016 0.61070711]\n",
      " [0.14947501 0.0776449 ]\n",
      " [0.27139367 0.03817237]\n",
      " [0.19900981 0.4878122 ]\n",
      " [0.06785263 0.35751246]]\n"
     ]
    }
   ],
   "source": [
    "import numpy as np\n",
    "import matplotlib.pyplot as plt\n",
    "import math\n",
    "\n",
    "m = 5 #Number of columns \n",
    "r = 2 #Dimension of U*\n",
    "\n",
    "U = np.random.rand(m,r) #Random (true) subspace\n",
    "#U = np.array([[1,1],[1,2],[1,3],[1,4],[1,5]]) #Example true space\n",
    "\n",
    "print(\"True space \\n\", U)"
   ]
  },
  {
   "cell_type": "markdown",
   "metadata": {},
   "source": [
    "##### Note:\n",
    "\n",
    "In our experiments, we will take $W$ to be either of the form:\n",
    "\n",
    "$$\n",
    "\\begin{matrix}\n",
    "1 & 0 & ... & 0 \\\\\n",
    "1 & 1 & ... & 0 \\\\\n",
    "1 & 1 & ... & 0 \\\\\n",
    "... & ... & ... & ... \\\\\n",
    "0 & 0 & ... & 1 \\\\\n",
    "\\end{matrix}\n",
    "$$\n",
    "\n",
    "with each column having r+1 $1$s starting from the main diagonal, or \n",
    "\n",
    "$$\n",
    "\\begin{matrix}\n",
    "1 & 1 & ... & 1 \\\\\n",
    "1 & 1 & ... & 1 \\\\\n",
    "1 & 1 & ... & 1 \\\\\n",
    "... & ... & ... & ... \\\\\n",
    "1 & 1 & ... & 1 \\\\\n",
    "1 & 0 & ... & 0 \\\\\n",
    "0 & 1 & ... & 0 \\\\\n",
    "... & ... & ... & ... \\\\\n",
    "0 & 0 & ... & 1 \\\\\n",
    "\\end{matrix}\n",
    "$$\n",
    "\n",
    "with a block of r 1's in the first r rows and an identity matrix at the bottom.\n",
    "\n",
    "We could choose any $W$ satisfying our assumptions. This was taken because of ease of generalization in the code."
   ]
  },
  {
   "cell_type": "code",
   "execution_count": 2,
   "metadata": {
    "scrolled": false
   },
   "outputs": [
    {
     "name": "stdout",
     "output_type": "stream",
     "text": [
      "Binary matrix \n",
      " [[1. 1. 1.]\n",
      " [1. 1. 1.]\n",
      " [1. 0. 0.]\n",
      " [0. 1. 0.]\n",
      " [0. 0. 1.]]\n"
     ]
    }
   ],
   "source": [
    "#Define the binary matrix W\n",
    "\n",
    "W = np.zeros((m,m-r))\n",
    "\n",
    "#Uncomment for the first type of W matrix\n",
    "\"\"\"\n",
    "for i in range(W.shape[1]):\n",
    "    temp = 0\n",
    "    while temp!=r+1:\n",
    "        W[temp+i][i] = 1\n",
    "        temp+=1\n",
    "\"\"\"\n",
    "\n",
    "#Uncomment for the second type of W matrix\n",
    "\n",
    "for i in range(W.shape[0]):\n",
    "    for j in range(W.shape[1]):\n",
    "        if i < r:\n",
    "            W[i][j] = 1\n",
    "        else:\n",
    "            if i-r == j:\n",
    "                W[i][j] = 1\n",
    "\n",
    "        \n",
    "W_T = np.transpose(W)\n",
    "\n",
    "print(\"Binary matrix \\n\", W)"
   ]
  },
  {
   "cell_type": "code",
   "execution_count": 3,
   "metadata": {
    "scrolled": true
   },
   "outputs": [
    {
     "name": "stdout",
     "output_type": "stream",
     "text": [
      "Matrix of projections of S onto lower dimensions \n",
      " [[0.56758765 0.30121422 0.56758765 0.30121422 0.56758765 0.30121422]\n",
      " [0.41655079 0.54940787 0.41655079 0.54940787 0.41655079 0.54940787]\n",
      " [0.37182751 0.11526982 0.39130949 0.02155973 0.45986104 0.42495246]]\n"
     ]
    }
   ],
   "source": [
    "#Computing the projections of S onto canonical coordinates\n",
    "\n",
    "U_proj = np.array(np.hstack(([[U[j,:] for j in range(np.shape(U)[0]) if W_T[i,j] == 1] for i in range(W_T.shape[0])])))\n",
    "\n",
    "print(\"Matrix of projections of S onto lower dimensions \\n\", U_proj)"
   ]
  },
  {
   "cell_type": "code",
   "execution_count": 4,
   "metadata": {
    "scrolled": true
   },
   "outputs": [
    {
     "name": "stdout",
     "output_type": "stream",
     "text": [
      "Matrix of basis vectors of the nullspace of projections \n",
      " [[-0.63105462 -0.69315591 -0.33493711]\n",
      " [ 0.18807759  0.35541721 -0.45469428]\n",
      " [ 0.75259344  0.62706738  0.8252698 ]]\n"
     ]
    }
   ],
   "source": [
    "#Computing the nullspaces of the projections\n",
    "\n",
    "from scipy.linalg import null_space\n",
    "\n",
    "A_temp = np.array(np.hstack(([[null_space(U_proj.T[i:i+r, :])[j,:] for j in range(U_proj.T.shape[1])] for i in range(0, U_proj.T.shape[0], r)])))\n",
    "\n",
    "print(\"Matrix of basis vectors of the nullspace of projections \\n\", A_temp)\n"
   ]
  },
  {
   "cell_type": "code",
   "execution_count": 5,
   "metadata": {},
   "outputs": [
    {
     "name": "stdout",
     "output_type": "stream",
     "text": [
      "Matrix whose kernel will be our guess \n",
      " [[-0.63105462 -0.69315591 -0.33493711]\n",
      " [ 0.18807759  0.35541721 -0.45469428]\n",
      " [ 0.75259344  0.          0.        ]\n",
      " [ 0.          0.62706738  0.        ]\n",
      " [ 0.          0.          0.8252698 ]]\n",
      "Singular values \n",
      " [1.24099729 0.9835247  0.70185818]\n"
     ]
    }
   ],
   "source": [
    "#Creating the matrix A whose null space will be the true subspace \n",
    "#And computing its singular values\n",
    "\n",
    "A = np.array(W, dtype = float)\n",
    "\n",
    "for j in range(A.shape[1]):\n",
    "    c = 0\n",
    "    for i in range(A.shape[0]):\n",
    "        if A[i,j] == 1:\n",
    "            A[i,j] = A_temp[c, j]\n",
    "            c+=1\n",
    "print(\"Matrix whose kernel will be our guess \\n\", A)\n",
    "\n",
    "Sig = np.linalg.svd(A)[1]\n",
    "\n",
    "print(\"Singular values \\n\", Sig)"
   ]
  },
  {
   "cell_type": "code",
   "execution_count": 6,
   "metadata": {},
   "outputs": [
    {
     "name": "stdout",
     "output_type": "stream",
     "text": [
      "Basis of guessed space \n",
      " [[ 0.31762712  0.49785865]\n",
      " [-0.53372149  0.59478389]\n",
      " [ 0.39971265  0.26881776]\n",
      " [ 0.65361225  0.21321032]\n",
      " [-0.16515205  0.52976151]]\n"
     ]
    }
   ],
   "source": [
    "#Finding kernel space of A\n",
    "\n",
    "U_test = null_space(A.T)\n",
    "\n",
    "print(\"Basis of guessed space \\n\", U_test)"
   ]
  },
  {
   "cell_type": "code",
   "execution_count": 7,
   "metadata": {},
   "outputs": [
    {
     "name": "stdout",
     "output_type": "stream",
     "text": [
      "True projection [[ 0.34875023  0.12659389  0.26079282  0.31375358  0.21128958]\n",
      " [ 0.12659389  0.63862651 -0.05344676 -0.22203285  0.40323881]\n",
      " [ 0.26079282 -0.05344676  0.23203319  0.3185718   0.07639594]\n",
      " [ 0.31375358 -0.22203285  0.3185718   0.47266762  0.00500522]\n",
      " [ 0.21128958  0.40323881  0.07639594  0.00500522  0.30792245]]\n",
      "Guessed projection [[ 0.34875023  0.12659389  0.26079282  0.31375358  0.21128958]\n",
      " [ 0.12659389  0.63862651 -0.05344676 -0.22203285  0.40323881]\n",
      " [ 0.26079282 -0.05344676  0.23203319  0.3185718   0.07639594]\n",
      " [ 0.31375358 -0.22203285  0.3185718   0.47266762  0.00500522]\n",
      " [ 0.21128958  0.40323881  0.07639594  0.00500522  0.30792245]]\n",
      "Error 6.029162398354541e-16\n"
     ]
    }
   ],
   "source": [
    "# Testing for whether the span of ker(A) is the same as column space of U - i.e. the true space\n",
    "# We test this by looking at the projection matrices \n",
    "# Error estimated with the ||P_true - P_test||_F, the frobenius norm of the difference in Projection matrices\n",
    "\n",
    "P_test = np.dot(U_test,np.dot(np.linalg.inv(np.dot(U_test.T,U_test)), U_test.T))\n",
    "\n",
    "P_true = np.dot(U,np.dot(np.linalg.inv(np.dot(U.T,U)), U.T))\n",
    "\n",
    "error = (1/math.sqrt(2))*np.linalg.norm(P_true - P_test, 'fro') \n",
    "\n",
    "print (\"True projection\", P_true)\n",
    "print (\"Guessed projection\", P_test)\n",
    "\n",
    "print (\"Error\", error)"
   ]
  },
  {
   "cell_type": "markdown",
   "metadata": {},
   "source": [
    "## With noise \n",
    "\n",
    "Now we will perform the same experiment, but we will add noise into the mix and see how the noise translates through every step."
   ]
  },
  {
   "cell_type": "code",
   "execution_count": 165,
   "metadata": {},
   "outputs": [
    {
     "name": "stdout",
     "output_type": "stream",
     "text": [
      "True space \n",
      " [[0.94764319 0.5746368  0.95241396]\n",
      " [0.06051182 0.40855429 0.3486234 ]\n",
      " [0.37908835 0.09466664 0.47364235]\n",
      " [0.11485109 0.13376866 0.57138045]\n",
      " [0.39693393 0.77073168 0.1184008 ]\n",
      " [0.78233693 0.20947833 0.17314089]\n",
      " [0.90004329 0.10846506 0.24671222]]\n"
     ]
    }
   ],
   "source": [
    "m = 7 #Number of columns \n",
    "r = 3 #Dimension of U*\n",
    "\n",
    "\n",
    "U = np.random.rand(m,r) #Random (true) subspace\n",
    "\n",
    "#Uncomment the left out for an example true space\n",
    "#m = 5\n",
    "#r = 2\n",
    "#U = np.array([[1,1],[1,2],[1,3],[1,4],[1,5]]) \n",
    "\n",
    "print(\"True space \\n\", U)"
   ]
  },
  {
   "cell_type": "code",
   "execution_count": 166,
   "metadata": {},
   "outputs": [
    {
     "name": "stdout",
     "output_type": "stream",
     "text": [
      "Binary matrix \n",
      " [[1. 1. 1. 1.]\n",
      " [1. 1. 1. 1.]\n",
      " [1. 1. 1. 1.]\n",
      " [1. 0. 0. 0.]\n",
      " [0. 1. 0. 0.]\n",
      " [0. 0. 1. 0.]\n",
      " [0. 0. 0. 1.]]\n"
     ]
    }
   ],
   "source": [
    "#Define the binary matrix W\n",
    "\n",
    "W = np.zeros((m,m-r))\n",
    "\n",
    "#Uncomment for the first type of W matrix\n",
    "\"\"\"\n",
    "for i in range(W.shape[1]):\n",
    "    temp = 0\n",
    "    while temp!=r+1:\n",
    "        W[temp+i][i] = 1\n",
    "        temp+=1\n",
    "\"\"\"\n",
    "\n",
    "#Uncomment for the second type of W matrix\n",
    "\n",
    "for i in range(W.shape[0]):\n",
    "    for j in range(W.shape[1]):\n",
    "        if i < r:\n",
    "            W[i][j] = 1\n",
    "        else:\n",
    "            if i-r == j:\n",
    "                W[i][j] = 1\n",
    "\n",
    "        \n",
    "W_T = np.transpose(W)\n",
    "\n",
    "print(\"Binary matrix \\n\", W)"
   ]
  },
  {
   "cell_type": "code",
   "execution_count": 167,
   "metadata": {},
   "outputs": [
    {
     "name": "stdout",
     "output_type": "stream",
     "text": [
      "Projections of U onto lower dimensions w/o noise \n",
      " [[0.94764319 0.5746368  0.95241396 0.94764319 0.5746368  0.95241396\n",
      "  0.94764319 0.5746368  0.95241396 0.94764319 0.5746368  0.95241396]\n",
      " [0.06051182 0.40855429 0.3486234  0.06051182 0.40855429 0.3486234\n",
      "  0.06051182 0.40855429 0.3486234  0.06051182 0.40855429 0.3486234 ]\n",
      " [0.37908835 0.09466664 0.47364235 0.37908835 0.09466664 0.47364235\n",
      "  0.37908835 0.09466664 0.47364235 0.37908835 0.09466664 0.47364235]\n",
      " [0.11485109 0.13376866 0.57138045 0.39693393 0.77073168 0.1184008\n",
      "  0.78233693 0.20947833 0.17314089 0.90004329 0.10846506 0.24671222]]\n",
      "Projections of U onto lower dimensions w/ noise \n",
      " [[0.94880107 0.57424319 0.95181663 0.94496327 0.57619774 0.95286748\n",
      "  0.94900271 0.57299082 0.95255224 0.94730891 0.57588144 0.95185274]\n",
      " [0.06130669 0.41034839 0.34850134 0.06135981 0.40884142 0.34804923\n",
      "  0.06074404 0.4079974  0.34726941 0.06145015 0.40798082 0.34749922]\n",
      " [0.3785795  0.09504675 0.47302948 0.37940207 0.09547972 0.47371628\n",
      "  0.37820105 0.09473758 0.47344606 0.37937518 0.09445939 0.47479225]\n",
      " [0.11570636 0.13340331 0.57242919 0.39501175 0.76917719 0.11908799\n",
      "  0.78263915 0.21048838 0.17213215 0.90015081 0.10732227 0.24769718]]\n"
     ]
    }
   ],
   "source": [
    "# Computing the projections of S onto canonical coordinates\n",
    "\n",
    "# No noise Version\n",
    "\n",
    "U_proj = np.array(np.hstack(([[U[j,:] for j in range(U.shape[0]) if W_T[i,j] == 1] for i in range(W_T.shape[0])])))\n",
    "\n",
    "# Creating the noisy versions\n",
    "\n",
    "mu = 0 # mean\n",
    "sigma = 1e-3 # standard deviation\n",
    "\n",
    "#Adding noise from a Gaussian distribution\n",
    "\n",
    "Z_proj = np.random.normal(mu, sigma, (U_proj.shape[0], U_proj.shape[1]))\n",
    "V_proj = U_proj + Z_proj\n",
    "\n",
    "\n",
    "print(\"Projections of U onto lower dimensions w/o noise \\n\", U_proj)\n",
    "print(\"Projections of U onto lower dimensions w/ noise \\n\", V_proj)"
   ]
  },
  {
   "cell_type": "code",
   "execution_count": 168,
   "metadata": {},
   "outputs": [
    {
     "name": "stdout",
     "output_type": "stream",
     "text": [
      "(4, 3)\n",
      "(4, 3)\n",
      "(4, 3)\n",
      "(4, 3)\n",
      "0.003538934576822746\n"
     ]
    }
   ],
   "source": [
    "# Finding the spectral norm of the largest noise matrix to get epsilon\n",
    "\n",
    "epsilon = 0\n",
    "\n",
    "for j in range(0, Z_proj.shape[1], r):\n",
    "    lam = np.amax(np.linalg.svd(Z_proj[:, j:j+r])[1])\n",
    "    epsilon = np.amax([epsilon, lam])\n",
    "    print(Z_proj[:, j:j+r].shape)\n",
    "print(epsilon)"
   ]
  },
  {
   "cell_type": "code",
   "execution_count": 169,
   "metadata": {
    "scrolled": true
   },
   "outputs": [
    {
     "name": "stdout",
     "output_type": "stream",
     "text": [
      "Basis vectors of the nullspace of projections w/o noise \n",
      " [[ 0.29485012 -0.44476073 -0.53966633 -0.55022967]\n",
      " [-0.35671208 -0.03743679  0.45252079  0.56778401]\n",
      " [-0.79743252  0.86045859  0.63914788  0.52090421]\n",
      " [ 0.38719668  0.24575883  0.30899059  0.32175679]]\n",
      "Basis vectors of the nullspace of projections w/ noise \n",
      " [[ 0.29501028 -0.44572017 -0.53884255 -0.55007742]\n",
      " [-0.35281456 -0.03446822  0.44862994  0.57221887]\n",
      " [-0.79999912  0.86017763  0.64316689  0.51574783]\n",
      " [ 0.38534691  0.2454382   0.30776003  0.32246638]]\n"
     ]
    }
   ],
   "source": [
    "# Computing the nullspaces of the projections\n",
    "\n",
    "# No noise version\n",
    "\n",
    "A_temp = np.array(np.hstack(([[null_space(U_proj.T[i:i+r, :])[j,:] for j in range(U_proj.T.shape[1])] for i in range(0, U_proj.T.shape[0], r)])))\n",
    "\n",
    "\n",
    "# Noisy version\n",
    "\n",
    "B_temp = np.array(np.hstack(([[null_space(V_proj.T[i:i+r, :])[j,:] for j in range(V_proj.T.shape[1])] for i in range(0, V_proj.T.shape[0], r)])))\n",
    "\n",
    "\n",
    "\n",
    "\n",
    "print(\"Basis vectors of the nullspace of projections w/o noise \\n\", A_temp)\n",
    "print(\"Basis vectors of the nullspace of projections w/ noise \\n\", B_temp)"
   ]
  },
  {
   "cell_type": "code",
   "execution_count": 170,
   "metadata": {},
   "outputs": [
    {
     "name": "stdout",
     "output_type": "stream",
     "text": [
      "Matrix whose kernel will be our guess w/o noise \n",
      " [[ 0.29485012 -0.44476073 -0.53966633 -0.55022967]\n",
      " [-0.35671208 -0.03743679  0.45252079  0.56778401]\n",
      " [-0.79743252  0.86045859  0.63914788  0.52090421]\n",
      " [ 0.38719668  0.          0.          0.        ]\n",
      " [ 0.          0.24575883  0.          0.        ]\n",
      " [ 0.          0.          0.30899059  0.        ]\n",
      " [ 0.          0.          0.          0.32175679]]\n",
      "Matrix whose kernel will be our guess w/ noise \n",
      " [[ 0.29501028 -0.44572017 -0.53884255 -0.55007742]\n",
      " [-0.35281456 -0.03446822  0.44862994  0.57221887]\n",
      " [-0.79999912  0.86017763  0.64316689  0.51574783]\n",
      " [ 0.38534691  0.          0.          0.        ]\n",
      " [ 0.          0.2454382   0.          0.        ]\n",
      " [ 0.          0.          0.30776003  0.        ]\n",
      " [ 0.          0.          0.          0.32246638]]\n"
     ]
    }
   ],
   "source": [
    "#Creating the matrix A whose null space will be the true subspace\n",
    "\n",
    "# No noise version\n",
    "\n",
    "A = np.array(W, dtype = float) \n",
    "\n",
    "for j in range(A.shape[1]): \n",
    "    c = 0\n",
    "    for i in range(A.shape[0]):\n",
    "        if A[i,j] == 1:\n",
    "            A[i,j] = A_temp[c, j]\n",
    "            c+=1\n",
    "            \n",
    "# Noisy version\n",
    "            \n",
    "B = np.array(W, dtype = float) \n",
    "\n",
    "for j in range(B.shape[1]):\n",
    "    c = 0\n",
    "    for i in range(B.shape[0]):\n",
    "        if B[i,j] == 1:\n",
    "            B[i,j] = B_temp[c, j]\n",
    "            c+=1       \n",
    "\n",
    "            \n",
    "print(\"Matrix whose kernel will be our guess w/o noise \\n\", A)\n",
    "print(\"Matrix whose kernel will be our guess w/ noise \\n\", B)"
   ]
  },
  {
   "cell_type": "code",
   "execution_count": 171,
   "metadata": {},
   "outputs": [
    {
     "name": "stdout",
     "output_type": "stream",
     "text": [
      "Min Kernel Matrix Singular Value 0.3106912794302182\n",
      "Sum of Data Singular Values 3.719441551818862\n"
     ]
    }
   ],
   "source": [
    "#Computing the singular values of the projected S matrix, noisy projected S matrix, and noisy A matrix.\n",
    "\n",
    "Sig_V_proj = np.array(np.hstack(([np.linalg.svd(V_proj.T[i:i+r, :])[1] for i in range(0, V_proj.T.shape[0], r)])))\n",
    "Sig_ker = np.amin(np.linalg.svd(B)[1])\n",
    "\n",
    "delta = (np.sum(np.power((Sig_V_proj-epsilon),2)))**(0.5)\n",
    "\n",
    "print(\"Min Kernel Matrix Singular Value\", Sig_ker)\n",
    "print(\"Sum of Data Singular Values\", delta)"
   ]
  },
  {
   "cell_type": "code",
   "execution_count": 172,
   "metadata": {},
   "outputs": [
    {
     "name": "stdout",
     "output_type": "stream",
     "text": [
      "Basis of guessed space w/o noise \n",
      " [[ 0.1011282   0.70706183 -0.17792306]\n",
      " [ 0.31495123  0.12695228 -0.39132997]\n",
      " [-0.19027696  0.36615558 -0.11664206]\n",
      " [-0.17873033  0.33262813 -0.46525622]\n",
      " [ 0.89719691  0.01694469  0.02678373]\n",
      " [ 0.10896325  0.29159902  0.50363149]\n",
      " [-0.07479087  0.39232409  0.5751291 ]]\n",
      "Basis of guessed space w/ noise \n",
      " [[ 0.09826608  0.70745919 -0.17663286]\n",
      " [ 0.31269236  0.1295553  -0.39369119]\n",
      " [-0.19184526  0.36515515 -0.1136892 ]\n",
      " [-0.18721606  0.33508782 -0.46125383]\n",
      " [ 0.89471861  0.0232078   0.02238546]\n",
      " [ 0.11715398  0.28668775  0.50222729]\n",
      " [-0.08041377  0.3928948   0.57913245]]\n"
     ]
    }
   ],
   "source": [
    "#Finding kernel space of A\n",
    "\n",
    "U_test = null_space(A.T) # No noise\n",
    "V_test = null_space(B.T) # With noise\n",
    "\n",
    "print(\"Basis of guessed space w/o noise \\n\", U_test)\n",
    "print(\"Basis of guessed space w/ noise \\n\", V_test)"
   ]
  },
  {
   "cell_type": "code",
   "execution_count": 173,
   "metadata": {
    "scrolled": false
   },
   "outputs": [
    {
     "name": "stdout",
     "output_type": "stream",
     "text": [
      "Error w/o noise 6.416226014371095e-16\n",
      "Error w/ noise 0.012771358104908688\n",
      "Estimated bound 0.0075580793491331925\n"
     ]
    }
   ],
   "source": [
    "# Testing for whether the span of ker(A) is the same as column space of S - i.e. the true space\n",
    "# We test this by looking at the projection matrices \n",
    "# Error estimated with the ||P_true - P_test||_F, the frobenius norm of the difference in Projection matrices\n",
    "\n",
    "P_test = np.dot(U_test,np.dot(np.linalg.inv(np.dot(U_test.T,U_test)), U_test.T))\n",
    "P_test_noise = np.dot(V_test,np.dot(np.linalg.inv(np.dot(V_test.T,V_test)), V_test.T))\n",
    "P_true = np.dot(U,np.dot(np.linalg.inv(np.dot(U.T,U)), U.T))\n",
    "\n",
    "error = (1/math.sqrt(2))*np.linalg.norm(P_true - P_test, 'fro') \n",
    "error_noise = (1/math.sqrt(2))*np.linalg.norm(P_true - P_test_noise, 'fro') \n",
    "\n",
    "bound = ((Sig_ker*delta)/(epsilon*math.sqrt(2*r))-1)**(-1)\n",
    "\n",
    "#print (\"True projection\", P_true)\n",
    "#print (\"Guessed projection w/o noise\", P_test)\n",
    "#print (\"Guessed projection w/ noise\", P_test_noise)\n",
    "\n",
    "print (\"Error w/o noise\", error)\n",
    "print (\"Error w/ noise\", error_noise)\n",
    "print (\"Estimated bound\", bound)"
   ]
  },
  {
   "cell_type": "markdown",
   "metadata": {},
   "source": [
    "## Experiments"
   ]
  },
  {
   "cell_type": "code",
   "execution_count": 174,
   "metadata": {},
   "outputs": [],
   "source": [
    "def Errors(m_, r_, U_, W_, sigma_):\n",
    "    \n",
    "    ##############################################################################################\n",
    "\n",
    "    # Step 0.0: Computing the projections of S onto canonical coordinates and adding noise\n",
    "\n",
    "    # No noise Version\n",
    "\n",
    "    U_proj = np.array(np.hstack(([[U_[j,:] for j in range(U_.shape[0]) if W_.T[i,j] == 1] for i in range(W_.T.shape[0])])))\n",
    "\n",
    "\n",
    "    # Creating the noisy versions\n",
    "    \n",
    "    rows_proj = U_proj.shape[0]\n",
    "    cols_proj = U_proj.shape[1]\n",
    "\n",
    "    #Adding noise from a Gaussian distribution to projection (Option 1)\n",
    "    \n",
    "    Z_proj = np.random.normal(0, sigma_, (rows_proj,cols_proj))\n",
    "    V_proj = U_proj + Z_proj\n",
    "    \n",
    "    ##############################################################################################\n",
    "    \n",
    "    # Step 0.1: computing epsilon by computing the largest spectral norm of all the noise matrices\n",
    "    \n",
    "    \n",
    "    # Finding the spectral norm of the largest noise matrix to get epsilon\n",
    "\n",
    "    epsilon = 0\n",
    "\n",
    "    for j in range(0, Z_proj.shape[1], r):\n",
    "        lam = np.amax(np.linalg.svd(Z_proj[:, j:j+r])[1])\n",
    "        epsilon = np.amax([epsilon, lam])\n",
    "        \n",
    "    \n",
    "    ##############################################################################################\n",
    "\n",
    "\n",
    "    # Step 1: Computing the nullspaces of the projections\n",
    "\n",
    "    # No noise version\n",
    "\n",
    "    A_temp = np.array(np.hstack(([[null_space(U_proj.T[i:i+r_, :])[j,:] for j in range(U_proj.T.shape[1])] for i in range(0, U_proj.T.shape[0], r_)])))\n",
    "\n",
    "\n",
    "    # Noisy version\n",
    "\n",
    "    B_temp = np.array(np.hstack(([[null_space(V_proj.T[i:i+r_, :])[j,:] for j in range(V_proj.T.shape[1])] for i in range(0, V_proj.T.shape[0], r_)])))\n",
    "\n",
    "    \n",
    "    #We could also add noise from a Gaussian distribution to these nullspaces instead of the projected \n",
    "    #coordinates (Option 2)\n",
    "    #Uncomment the following line for that: \n",
    "    \n",
    "    #A_temp_noise = A_temp + np.random.normal(0, sigma, (A_temp.shape[0],A_temp.shape[1]))*lam_\n",
    "    \n",
    "    ##############################################################################################\n",
    "     \n",
    "    \n",
    "    #Step 2: Creating the matrix A whose null space will be the true subspace\n",
    "\n",
    "    # No noise version\n",
    "\n",
    "    A_ = np.array(W_, dtype = float) \n",
    "\n",
    "    for j in range(A_.shape[1]):\n",
    "        c = 0\n",
    "        for i in range(A_.shape[0]):\n",
    "            if A_[i,j] == 1:\n",
    "                A_[i,j] = A_temp[c, j]\n",
    "                c+=1\n",
    "\n",
    "    # Noisy version\n",
    "\n",
    "    B_ = np.array(W_, dtype = float) \n",
    "\n",
    "    for j in range(B_.shape[1]):\n",
    "        c = 0\n",
    "        for i in range(B_.shape[0]):\n",
    "            if B_[i,j] == 1:\n",
    "                B_[i,j] = B_temp[c, j]\n",
    "                c+=1       \n",
    "\n",
    "    error_A = np.linalg.norm(A_-B_, 'fro')\n",
    "    \n",
    "    ##############################################################################################\n",
    "    \n",
    "    \n",
    "    #Step 3: Finding kernel space of A\n",
    "\n",
    "    U_test = null_space(A_.T) # No noise\n",
    "    V_test = null_space(B_.T) # With noise\n",
    "\n",
    "    \n",
    "    error_U_test = np.linalg.norm(U_test - V_test, 'fro')\n",
    "    \n",
    "    ##############################################################################################\n",
    "    \n",
    "    #Final Step: Testing for whether the span of ker(A) is the same as column space of S - i.e. the true space\n",
    "    # We test this by looking at the projection matrices \n",
    "    # Error estimated with the ||Proj_true - Proj_test||_F, the frobenius norm of the difference in Projection matrices\n",
    "\n",
    "    Proj_test = np.dot(U_test,np.dot(np.linalg.inv(np.dot(U_test.T,U_test)), U_test.T))\n",
    "    Proj_test_noise = np.dot(V_test,np.dot(np.linalg.inv(np.dot(V_test.T,V_test)), V_test.T))\n",
    "    Proj_true = np.dot(U_,np.dot(np.linalg.inv(np.dot(U_.T,U_)), U_.T))\n",
    "\n",
    "    error_noiseless_test = (1/math.sqrt(2))*np.linalg.norm(Proj_true - Proj_test, 'fro') \n",
    "    error_noisy_test = (1/math.sqrt(2))*np.linalg.norm(Proj_true - Proj_test_noise, 'fro') \n",
    "    \n",
    "    \n",
    "    ##############################################################################################\n",
    "    \n",
    "    #Computing the singular values of the projected U matrix, noisy projected U matrix, and noisy A matrix.\n",
    "\n",
    "    Sig_V_proj = np.array(np.hstack(([np.linalg.svd(V_proj.T[i:i+r_, :])[1] for i in range(0, V_proj.T.shape[0], r_)])))\n",
    "    Sig_ker = np.amin(np.linalg.svd(B_)[1])\n",
    "\n",
    "    delta = (np.sum(np.power((Sig_V_proj-epsilon),2)))**(0.5)\n",
    "    \n",
    "    bound =bound = (((Sig_ker*delta)/(epsilon*math.sqrt(2*r)))-1)**(-1)\n",
    "    \n",
    "    return error_A, error_U_test, error_noiseless_test, error_noisy_test, bound, delta, Sig_ker\n",
    "             \n"
   ]
  },
  {
   "cell_type": "markdown",
   "metadata": {},
   "source": [
    "## Experiment 1: Increasing noise level, keeping dimensions constant"
   ]
  },
  {
   "cell_type": "code",
   "execution_count": 175,
   "metadata": {},
   "outputs": [
    {
     "name": "stdout",
     "output_type": "stream",
     "text": [
      "Binary matrix \n",
      " [[1. 1. 1.]\n",
      " [1. 1. 1.]\n",
      " [1. 1. 1.]\n",
      " [1. 1. 1.]\n",
      " [1. 1. 1.]\n",
      " [1. 1. 1.]\n",
      " [1. 1. 1.]\n",
      " [1. 0. 0.]\n",
      " [0. 1. 0.]\n",
      " [0. 0. 1.]]\n"
     ]
    }
   ],
   "source": [
    "m = 10 #Number of columns \n",
    "r = 7 #Dimension of U\n",
    "\n",
    "U = np.random.rand(m,r) #Random (true) subspace\n",
    "#U = np.array([[1,1],[1,2],[1,3],[1,4],[1,5]]) #Uncomment the left out for an example true space\n",
    "\n",
    "W = np.zeros((m,m-r))\n",
    "\n",
    "#Uncomment for the first type of W matrix\n",
    "\"\"\"\n",
    "for i in range(W.shape[1]):\n",
    "    temp = 0\n",
    "    while temp!=r+1:\n",
    "        W[temp+i][i] = 1\n",
    "        temp+=1\n",
    "\"\"\"\n",
    "\n",
    "#Uncomment for the second type of W matrix\n",
    "\n",
    "for i in range(W.shape[0]):\n",
    "    for j in range(W.shape[1]):\n",
    "        if i < r:\n",
    "            W[i][j] = 1\n",
    "        else:\n",
    "            if i-r == j:\n",
    "                W[i][j] = 1\n",
    "\n",
    "        \n",
    "W_T = np.transpose(W)\n",
    "\n",
    "print(\"Binary matrix \\n\", W)\n",
    "\n",
    "low_b = 1e-8 #Lower bound of noise\n",
    "upper_b = 1e-2 #Upper bound of noise\n",
    "num = 10000 # Number of experiments\n",
    "\n",
    "sigma_vec = np.logspace(-8,-2,num)"
   ]
  },
  {
   "cell_type": "code",
   "execution_count": 176,
   "metadata": {},
   "outputs": [],
   "source": [
    "err_A = np.empty(num, dtype = float) #Stores error in kernel spaces for each experiment (no noise vs noise)\n",
    "err_U_test = np.empty(num, dtype = float) #Stores error in kernel spaces of A, i.e. errors in 'guesses' (no noise vs noise)\n",
    "err_noiseless_test = np.empty(num, dtype = float) #Stores error in the difference between true projection and no noise guess\n",
    "err_noisy_test = np.empty(num, dtype = float) # Stores error in difference between true projection and noise guess\n",
    "bounds = np.empty(num, dtype = float) #Stores the error bounds for each experiment\n",
    "delta_vec = np.empty(num, dtype = float) #Stores the values of delta (i.e. sum of singular values - epsilon)\n",
    "Sig_kernel = np.empty(num, dtype = float) #Stores the singular values of B for each experiment\n",
    "\n",
    "c = 0\n",
    "\n",
    "for sigma in sigma_vec:\n",
    "    err_A[c], err_U_test[c], err_noiseless_test[c], err_noisy_test[c], bounds[c], delta_vec[c], Sig_kernel[c] = Errors(m,r,U,W,sigma)\n",
    "    c+=1\n"
   ]
  },
  {
   "cell_type": "code",
   "execution_count": 177,
   "metadata": {},
   "outputs": [
    {
     "data": {
      "image/png": "[encoded data removed]",
      "text/plain": [
       "<Figure size 432x288 with 1 Axes>"
      ]
     },
     "metadata": {
      "needs_background": "light"
     },
     "output_type": "display_data"
    }
   ],
   "source": [
    "plt.scatter(sigma_vec,err_A)\n",
    "plt.title(\"Difference in noiseless A matrix and noisy A matrix\")\n",
    "plt.xlabel(\"Noise level\")\n",
    "plt.ylabel(\"Noise in A matrix\")\n",
    "plt.xscale('log')\n",
    "plt.yscale('log')\n",
    "plt.show()"
   ]
  },
  {
   "cell_type": "code",
   "execution_count": 178,
   "metadata": {},
   "outputs": [
    {
     "data": {
      "image/png": "[encoded data removed]",
      "text/plain": [
       "<Figure size 432x288 with 1 Axes>"
      ]
     },
     "metadata": {
      "needs_background": "light"
     },
     "output_type": "display_data"
    }
   ],
   "source": [
    "plt.scatter(sigma_vec, err_U_test)\n",
    "plt.title(\"Difference in kernel space of noiseless A and noisy A\")\n",
    "plt.xlabel(\"Noise level\")\n",
    "plt.ylabel(\"Noise in kernel space\")\n",
    "plt.xscale('log')\n",
    "plt.yscale('log')\n",
    "#plt.plot(x,y,color = 'red')\n",
    "plt.show()"
   ]
  },
  {
   "cell_type": "code",
   "execution_count": 179,
   "metadata": {},
   "outputs": [
    {
     "data": {
      "image/png": "[encoded data removed]",
      "text/plain": [
       "<Figure size 432x288 with 1 Axes>"
      ]
     },
     "metadata": {
      "needs_background": "light"
     },
     "output_type": "display_data"
    }
   ],
   "source": [
    "plt.scatter(sigma_vec, err_noiseless_test)\n",
    "plt.title(\"Difference between true subspace and noiseless guess\")\n",
    "plt.xlabel(\"Noise level\")\n",
    "plt.ylabel(\"Error\")\n",
    "plt.xscale('log')\n",
    "plt.yscale('log')\n",
    "plt.show()"
   ]
  },
  {
   "cell_type": "code",
   "execution_count": 180,
   "metadata": {
    "scrolled": false
   },
   "outputs": [
    {
     "data": {
      "image/png": "[encoded data removed]",
      "text/plain": [
       "<Figure size 432x288 with 1 Axes>"
      ]
     },
     "metadata": {
      "needs_background": "light"
     },
     "output_type": "display_data"
    }
   ],
   "source": [
    "plt.scatter(sigma_vec, err_noisy_test)\n",
    "plt.title(\"Difference in true subspace and noisy guess\")\n",
    "plt.xlabel(\"Noise level\")\n",
    "plt.ylabel(\"Error\")\n",
    "plt.xscale('log')\n",
    "plt.yscale('log')\n",
    "plt.plot(sigma_vec,bounds,color = 'red', label = 'bound')\n",
    "plt.plot(sigma_vec,Sig_kernel, color = 'green', label = 'Kernel sing. value')\n",
    "plt.plot(sigma_vec,delta_vec, color = 'grey', label = 'Data sing. value')\n",
    "plt.plot(sigma_vec,np.full((num,),np.sqrt(r),dtype = float), color = 'purple', label = 'Upper bound of C.D')\n",
    "plt.legend()\n",
    "plt.show()"
   ]
  },
  {
   "cell_type": "markdown",
   "metadata": {},
   "source": [
    "## Experiment 2: Increasing ambient dimension m, keeping noise level and subspace dimension constant"
   ]
  },
  {
   "cell_type": "code",
   "execution_count": 162,
   "metadata": {},
   "outputs": [],
   "source": [
    "num = 1000 # Number of experiments\n",
    "m_vec = np.random.randint(10,200, num) \n",
    "m_vec = np.sort(m_vec)\n",
    "r = 7 #Dimension of U\n",
    "sigma = 1e-2 #Noise level / standard deviation of noise"
   ]
  },
  {
   "cell_type": "code",
   "execution_count": 163,
   "metadata": {},
   "outputs": [
    {
     "ename": "KeyboardInterrupt",
     "evalue": "",
     "output_type": "error",
     "traceback": [
      "\u001b[0;31m---------------------------------------------------------------------------\u001b[0m",
      "\u001b[0;31mKeyboardInterrupt\u001b[0m                         Traceback (most recent call last)",
      "\u001b[0;32m<ipython-input-163-c2ff4288d3d1>\u001b[0m in \u001b[0;36m<module>\u001b[0;34m\u001b[0m\n\u001b[1;32m     34\u001b[0m \u001b[0;34m\u001b[0m\u001b[0m\n\u001b[1;32m     35\u001b[0m \u001b[0;34m\u001b[0m\u001b[0m\n\u001b[0;32m---> 36\u001b[0;31m     \u001b[0merr_A\u001b[0m\u001b[0;34m[\u001b[0m\u001b[0mc\u001b[0m\u001b[0;34m]\u001b[0m\u001b[0;34m,\u001b[0m \u001b[0merr_U_test\u001b[0m\u001b[0;34m[\u001b[0m\u001b[0mc\u001b[0m\u001b[0;34m]\u001b[0m\u001b[0;34m,\u001b[0m \u001b[0merr_noiseless_test\u001b[0m\u001b[0;34m[\u001b[0m\u001b[0mc\u001b[0m\u001b[0;34m]\u001b[0m\u001b[0;34m,\u001b[0m \u001b[0merr_noisy_test\u001b[0m\u001b[0;34m[\u001b[0m\u001b[0mc\u001b[0m\u001b[0;34m]\u001b[0m\u001b[0;34m,\u001b[0m \u001b[0mbounds\u001b[0m\u001b[0;34m[\u001b[0m\u001b[0mc\u001b[0m\u001b[0;34m]\u001b[0m\u001b[0;34m,\u001b[0m \u001b[0mdelta_vec\u001b[0m\u001b[0;34m[\u001b[0m\u001b[0mc\u001b[0m\u001b[0;34m]\u001b[0m\u001b[0;34m,\u001b[0m \u001b[0mSig_kernel\u001b[0m\u001b[0;34m[\u001b[0m\u001b[0mc\u001b[0m\u001b[0;34m]\u001b[0m \u001b[0;34m=\u001b[0m \u001b[0mErrors\u001b[0m\u001b[0;34m(\u001b[0m\u001b[0mm_\u001b[0m\u001b[0;34m,\u001b[0m\u001b[0mr\u001b[0m\u001b[0;34m,\u001b[0m\u001b[0mU\u001b[0m\u001b[0;34m,\u001b[0m\u001b[0mW\u001b[0m\u001b[0;34m,\u001b[0m\u001b[0msigma\u001b[0m\u001b[0;34m)\u001b[0m\u001b[0;34m\u001b[0m\u001b[0;34m\u001b[0m\u001b[0m\n\u001b[0m\u001b[1;32m     37\u001b[0m     \u001b[0mc\u001b[0m\u001b[0;34m+=\u001b[0m\u001b[0;36m1\u001b[0m\u001b[0;34m\u001b[0m\u001b[0;34m\u001b[0m\u001b[0m\n",
      "\u001b[0;32m<ipython-input-152-cb3f1e54855e>\u001b[0m in \u001b[0;36mErrors\u001b[0;34m(m_, r_, U_, W_, sigma_)\u001b[0m\n\u001b[1;32m     46\u001b[0m     \u001b[0;31m# Noisy version\u001b[0m\u001b[0;34m\u001b[0m\u001b[0;34m\u001b[0m\u001b[0;34m\u001b[0m\u001b[0m\n\u001b[1;32m     47\u001b[0m \u001b[0;34m\u001b[0m\u001b[0m\n\u001b[0;32m---> 48\u001b[0;31m     \u001b[0mB_temp\u001b[0m \u001b[0;34m=\u001b[0m \u001b[0mnp\u001b[0m\u001b[0;34m.\u001b[0m\u001b[0marray\u001b[0m\u001b[0;34m(\u001b[0m\u001b[0mnp\u001b[0m\u001b[0;34m.\u001b[0m\u001b[0mhstack\u001b[0m\u001b[0;34m(\u001b[0m\u001b[0;34m(\u001b[0m\u001b[0;34m[\u001b[0m\u001b[0;34m[\u001b[0m\u001b[0mnull_space\u001b[0m\u001b[0;34m(\u001b[0m\u001b[0mV_proj\u001b[0m\u001b[0;34m.\u001b[0m\u001b[0mT\u001b[0m\u001b[0;34m[\u001b[0m\u001b[0mi\u001b[0m\u001b[0;34m:\u001b[0m\u001b[0mi\u001b[0m\u001b[0;34m+\u001b[0m\u001b[0mr_\u001b[0m\u001b[0;34m,\u001b[0m \u001b[0;34m:\u001b[0m\u001b[0;34m]\u001b[0m\u001b[0;34m)\u001b[0m\u001b[0;34m[\u001b[0m\u001b[0mj\u001b[0m\u001b[0;34m,\u001b[0m\u001b[0;34m:\u001b[0m\u001b[0;34m]\u001b[0m \u001b[0;32mfor\u001b[0m \u001b[0mj\u001b[0m \u001b[0;32min\u001b[0m \u001b[0mrange\u001b[0m\u001b[0;34m(\u001b[0m\u001b[0mV_proj\u001b[0m\u001b[0;34m.\u001b[0m\u001b[0mT\u001b[0m\u001b[0;34m.\u001b[0m\u001b[0mshape\u001b[0m\u001b[0;34m[\u001b[0m\u001b[0;36m1\u001b[0m\u001b[0;34m]\u001b[0m\u001b[0;34m)\u001b[0m\u001b[0;34m]\u001b[0m \u001b[0;32mfor\u001b[0m \u001b[0mi\u001b[0m \u001b[0;32min\u001b[0m \u001b[0mrange\u001b[0m\u001b[0;34m(\u001b[0m\u001b[0;36m0\u001b[0m\u001b[0;34m,\u001b[0m \u001b[0mV_proj\u001b[0m\u001b[0;34m.\u001b[0m\u001b[0mT\u001b[0m\u001b[0;34m.\u001b[0m\u001b[0mshape\u001b[0m\u001b[0;34m[\u001b[0m\u001b[0;36m0\u001b[0m\u001b[0;34m]\u001b[0m\u001b[0;34m,\u001b[0m \u001b[0mr_\u001b[0m\u001b[0;34m)\u001b[0m\u001b[0;34m]\u001b[0m\u001b[0;34m)\u001b[0m\u001b[0;34m)\u001b[0m\u001b[0;34m)\u001b[0m\u001b[0;34m\u001b[0m\u001b[0;34m\u001b[0m\u001b[0m\n\u001b[0m\u001b[1;32m     49\u001b[0m \u001b[0;34m\u001b[0m\u001b[0m\n\u001b[1;32m     50\u001b[0m \u001b[0;34m\u001b[0m\u001b[0m\n",
      "\u001b[0;32m<ipython-input-152-cb3f1e54855e>\u001b[0m in \u001b[0;36m<listcomp>\u001b[0;34m(.0)\u001b[0m\n\u001b[1;32m     46\u001b[0m     \u001b[0;31m# Noisy version\u001b[0m\u001b[0;34m\u001b[0m\u001b[0;34m\u001b[0m\u001b[0;34m\u001b[0m\u001b[0m\n\u001b[1;32m     47\u001b[0m \u001b[0;34m\u001b[0m\u001b[0m\n\u001b[0;32m---> 48\u001b[0;31m     \u001b[0mB_temp\u001b[0m \u001b[0;34m=\u001b[0m \u001b[0mnp\u001b[0m\u001b[0;34m.\u001b[0m\u001b[0marray\u001b[0m\u001b[0;34m(\u001b[0m\u001b[0mnp\u001b[0m\u001b[0;34m.\u001b[0m\u001b[0mhstack\u001b[0m\u001b[0;34m(\u001b[0m\u001b[0;34m(\u001b[0m\u001b[0;34m[\u001b[0m\u001b[0;34m[\u001b[0m\u001b[0mnull_space\u001b[0m\u001b[0;34m(\u001b[0m\u001b[0mV_proj\u001b[0m\u001b[0;34m.\u001b[0m\u001b[0mT\u001b[0m\u001b[0;34m[\u001b[0m\u001b[0mi\u001b[0m\u001b[0;34m:\u001b[0m\u001b[0mi\u001b[0m\u001b[0;34m+\u001b[0m\u001b[0mr_\u001b[0m\u001b[0;34m,\u001b[0m \u001b[0;34m:\u001b[0m\u001b[0;34m]\u001b[0m\u001b[0;34m)\u001b[0m\u001b[0;34m[\u001b[0m\u001b[0mj\u001b[0m\u001b[0;34m,\u001b[0m\u001b[0;34m:\u001b[0m\u001b[0;34m]\u001b[0m \u001b[0;32mfor\u001b[0m \u001b[0mj\u001b[0m \u001b[0;32min\u001b[0m \u001b[0mrange\u001b[0m\u001b[0;34m(\u001b[0m\u001b[0mV_proj\u001b[0m\u001b[0;34m.\u001b[0m\u001b[0mT\u001b[0m\u001b[0;34m.\u001b[0m\u001b[0mshape\u001b[0m\u001b[0;34m[\u001b[0m\u001b[0;36m1\u001b[0m\u001b[0;34m]\u001b[0m\u001b[0;34m)\u001b[0m\u001b[0;34m]\u001b[0m \u001b[0;32mfor\u001b[0m \u001b[0mi\u001b[0m \u001b[0;32min\u001b[0m \u001b[0mrange\u001b[0m\u001b[0;34m(\u001b[0m\u001b[0;36m0\u001b[0m\u001b[0;34m,\u001b[0m \u001b[0mV_proj\u001b[0m\u001b[0;34m.\u001b[0m\u001b[0mT\u001b[0m\u001b[0;34m.\u001b[0m\u001b[0mshape\u001b[0m\u001b[0;34m[\u001b[0m\u001b[0;36m0\u001b[0m\u001b[0;34m]\u001b[0m\u001b[0;34m,\u001b[0m \u001b[0mr_\u001b[0m\u001b[0;34m)\u001b[0m\u001b[0;34m]\u001b[0m\u001b[0;34m)\u001b[0m\u001b[0;34m)\u001b[0m\u001b[0;34m)\u001b[0m\u001b[0;34m\u001b[0m\u001b[0;34m\u001b[0m\u001b[0m\n\u001b[0m\u001b[1;32m     49\u001b[0m \u001b[0;34m\u001b[0m\u001b[0m\n\u001b[1;32m     50\u001b[0m \u001b[0;34m\u001b[0m\u001b[0m\n",
      "\u001b[0;32m<ipython-input-152-cb3f1e54855e>\u001b[0m in \u001b[0;36m<listcomp>\u001b[0;34m(.0)\u001b[0m\n\u001b[1;32m     46\u001b[0m     \u001b[0;31m# Noisy version\u001b[0m\u001b[0;34m\u001b[0m\u001b[0;34m\u001b[0m\u001b[0;34m\u001b[0m\u001b[0m\n\u001b[1;32m     47\u001b[0m \u001b[0;34m\u001b[0m\u001b[0m\n\u001b[0;32m---> 48\u001b[0;31m     \u001b[0mB_temp\u001b[0m \u001b[0;34m=\u001b[0m \u001b[0mnp\u001b[0m\u001b[0;34m.\u001b[0m\u001b[0marray\u001b[0m\u001b[0;34m(\u001b[0m\u001b[0mnp\u001b[0m\u001b[0;34m.\u001b[0m\u001b[0mhstack\u001b[0m\u001b[0;34m(\u001b[0m\u001b[0;34m(\u001b[0m\u001b[0;34m[\u001b[0m\u001b[0;34m[\u001b[0m\u001b[0mnull_space\u001b[0m\u001b[0;34m(\u001b[0m\u001b[0mV_proj\u001b[0m\u001b[0;34m.\u001b[0m\u001b[0mT\u001b[0m\u001b[0;34m[\u001b[0m\u001b[0mi\u001b[0m\u001b[0;34m:\u001b[0m\u001b[0mi\u001b[0m\u001b[0;34m+\u001b[0m\u001b[0mr_\u001b[0m\u001b[0;34m,\u001b[0m \u001b[0;34m:\u001b[0m\u001b[0;34m]\u001b[0m\u001b[0;34m)\u001b[0m\u001b[0;34m[\u001b[0m\u001b[0mj\u001b[0m\u001b[0;34m,\u001b[0m\u001b[0;34m:\u001b[0m\u001b[0;34m]\u001b[0m \u001b[0;32mfor\u001b[0m \u001b[0mj\u001b[0m \u001b[0;32min\u001b[0m \u001b[0mrange\u001b[0m\u001b[0;34m(\u001b[0m\u001b[0mV_proj\u001b[0m\u001b[0;34m.\u001b[0m\u001b[0mT\u001b[0m\u001b[0;34m.\u001b[0m\u001b[0mshape\u001b[0m\u001b[0;34m[\u001b[0m\u001b[0;36m1\u001b[0m\u001b[0;34m]\u001b[0m\u001b[0;34m)\u001b[0m\u001b[0;34m]\u001b[0m \u001b[0;32mfor\u001b[0m \u001b[0mi\u001b[0m \u001b[0;32min\u001b[0m \u001b[0mrange\u001b[0m\u001b[0;34m(\u001b[0m\u001b[0;36m0\u001b[0m\u001b[0;34m,\u001b[0m \u001b[0mV_proj\u001b[0m\u001b[0;34m.\u001b[0m\u001b[0mT\u001b[0m\u001b[0;34m.\u001b[0m\u001b[0mshape\u001b[0m\u001b[0;34m[\u001b[0m\u001b[0;36m0\u001b[0m\u001b[0;34m]\u001b[0m\u001b[0;34m,\u001b[0m \u001b[0mr_\u001b[0m\u001b[0;34m)\u001b[0m\u001b[0;34m]\u001b[0m\u001b[0;34m)\u001b[0m\u001b[0;34m)\u001b[0m\u001b[0;34m)\u001b[0m\u001b[0;34m\u001b[0m\u001b[0;34m\u001b[0m\u001b[0m\n\u001b[0m\u001b[1;32m     49\u001b[0m \u001b[0;34m\u001b[0m\u001b[0m\n\u001b[1;32m     50\u001b[0m \u001b[0;34m\u001b[0m\u001b[0m\n",
      "\u001b[0;32m/usr/local/lib/python3.8/site-packages/scipy/linalg/decomp_svd.py\u001b[0m in \u001b[0;36mnull_space\u001b[0;34m(A, rcond)\u001b[0m\n\u001b[1;32m    382\u001b[0m \u001b[0;34m\u001b[0m\u001b[0m\n\u001b[1;32m    383\u001b[0m     \"\"\"\n\u001b[0;32m--> 384\u001b[0;31m     \u001b[0mu\u001b[0m\u001b[0;34m,\u001b[0m \u001b[0ms\u001b[0m\u001b[0;34m,\u001b[0m \u001b[0mvh\u001b[0m \u001b[0;34m=\u001b[0m \u001b[0msvd\u001b[0m\u001b[0;34m(\u001b[0m\u001b[0mA\u001b[0m\u001b[0;34m,\u001b[0m \u001b[0mfull_matrices\u001b[0m\u001b[0;34m=\u001b[0m\u001b[0;32mTrue\u001b[0m\u001b[0;34m)\u001b[0m\u001b[0;34m\u001b[0m\u001b[0;34m\u001b[0m\u001b[0m\n\u001b[0m\u001b[1;32m    385\u001b[0m     \u001b[0mM\u001b[0m\u001b[0;34m,\u001b[0m \u001b[0mN\u001b[0m \u001b[0;34m=\u001b[0m \u001b[0mu\u001b[0m\u001b[0;34m.\u001b[0m\u001b[0mshape\u001b[0m\u001b[0;34m[\u001b[0m\u001b[0;36m0\u001b[0m\u001b[0;34m]\u001b[0m\u001b[0;34m,\u001b[0m \u001b[0mvh\u001b[0m\u001b[0;34m.\u001b[0m\u001b[0mshape\u001b[0m\u001b[0;34m[\u001b[0m\u001b[0;36m1\u001b[0m\u001b[0;34m]\u001b[0m\u001b[0;34m\u001b[0m\u001b[0;34m\u001b[0m\u001b[0m\n\u001b[1;32m    386\u001b[0m     \u001b[0;32mif\u001b[0m \u001b[0mrcond\u001b[0m \u001b[0;32mis\u001b[0m \u001b[0;32mNone\u001b[0m\u001b[0;34m:\u001b[0m\u001b[0;34m\u001b[0m\u001b[0;34m\u001b[0m\u001b[0m\n",
      "\u001b[0;32m/usr/local/lib/python3.8/site-packages/scipy/linalg/decomp_svd.py\u001b[0m in \u001b[0;36msvd\u001b[0;34m(a, full_matrices, compute_uv, overwrite_a, check_finite, lapack_driver)\u001b[0m\n\u001b[1;32m    106\u001b[0m \u001b[0;34m\u001b[0m\u001b[0m\n\u001b[1;32m    107\u001b[0m     \"\"\"\n\u001b[0;32m--> 108\u001b[0;31m     \u001b[0ma1\u001b[0m \u001b[0;34m=\u001b[0m \u001b[0m_asarray_validated\u001b[0m\u001b[0;34m(\u001b[0m\u001b[0ma\u001b[0m\u001b[0;34m,\u001b[0m \u001b[0mcheck_finite\u001b[0m\u001b[0;34m=\u001b[0m\u001b[0mcheck_finite\u001b[0m\u001b[0;34m)\u001b[0m\u001b[0;34m\u001b[0m\u001b[0;34m\u001b[0m\u001b[0m\n\u001b[0m\u001b[1;32m    109\u001b[0m     \u001b[0;32mif\u001b[0m \u001b[0mlen\u001b[0m\u001b[0;34m(\u001b[0m\u001b[0ma1\u001b[0m\u001b[0;34m.\u001b[0m\u001b[0mshape\u001b[0m\u001b[0;34m)\u001b[0m \u001b[0;34m!=\u001b[0m \u001b[0;36m2\u001b[0m\u001b[0;34m:\u001b[0m\u001b[0;34m\u001b[0m\u001b[0;34m\u001b[0m\u001b[0m\n\u001b[1;32m    110\u001b[0m         \u001b[0;32mraise\u001b[0m \u001b[0mValueError\u001b[0m\u001b[0;34m(\u001b[0m\u001b[0;34m'expected matrix'\u001b[0m\u001b[0;34m)\u001b[0m\u001b[0;34m\u001b[0m\u001b[0;34m\u001b[0m\u001b[0m\n",
      "\u001b[0;32m/usr/local/lib/python3.8/site-packages/scipy/_lib/_util.py\u001b[0m in \u001b[0;36m_asarray_validated\u001b[0;34m(a, check_finite, sparse_ok, objects_ok, mask_ok, as_inexact)\u001b[0m\n\u001b[1;32m    291\u001b[0m             \u001b[0;32mraise\u001b[0m \u001b[0mValueError\u001b[0m\u001b[0;34m(\u001b[0m\u001b[0;34m'masked arrays are not supported'\u001b[0m\u001b[0;34m)\u001b[0m\u001b[0;34m\u001b[0m\u001b[0;34m\u001b[0m\u001b[0m\n\u001b[1;32m    292\u001b[0m     \u001b[0mtoarray\u001b[0m \u001b[0;34m=\u001b[0m \u001b[0mnp\u001b[0m\u001b[0;34m.\u001b[0m\u001b[0masarray_chkfinite\u001b[0m \u001b[0;32mif\u001b[0m \u001b[0mcheck_finite\u001b[0m \u001b[0;32melse\u001b[0m \u001b[0mnp\u001b[0m\u001b[0;34m.\u001b[0m\u001b[0masarray\u001b[0m\u001b[0;34m\u001b[0m\u001b[0;34m\u001b[0m\u001b[0m\n\u001b[0;32m--> 293\u001b[0;31m     \u001b[0ma\u001b[0m \u001b[0;34m=\u001b[0m \u001b[0mtoarray\u001b[0m\u001b[0;34m(\u001b[0m\u001b[0ma\u001b[0m\u001b[0;34m)\u001b[0m\u001b[0;34m\u001b[0m\u001b[0;34m\u001b[0m\u001b[0m\n\u001b[0m\u001b[1;32m    294\u001b[0m     \u001b[0;32mif\u001b[0m \u001b[0;32mnot\u001b[0m \u001b[0mobjects_ok\u001b[0m\u001b[0;34m:\u001b[0m\u001b[0;34m\u001b[0m\u001b[0;34m\u001b[0m\u001b[0m\n\u001b[1;32m    295\u001b[0m         \u001b[0;32mif\u001b[0m \u001b[0ma\u001b[0m\u001b[0;34m.\u001b[0m\u001b[0mdtype\u001b[0m \u001b[0;32mis\u001b[0m \u001b[0mnp\u001b[0m\u001b[0;34m.\u001b[0m\u001b[0mdtype\u001b[0m\u001b[0;34m(\u001b[0m\u001b[0;34m'O'\u001b[0m\u001b[0;34m)\u001b[0m\u001b[0;34m:\u001b[0m\u001b[0;34m\u001b[0m\u001b[0;34m\u001b[0m\u001b[0m\n",
      "\u001b[0;32m/usr/local/lib/python3.8/site-packages/numpy/lib/function_base.py\u001b[0m in \u001b[0;36masarray_chkfinite\u001b[0;34m(a, dtype, order)\u001b[0m\n\u001b[1;32m    482\u001b[0m     \"\"\"\n\u001b[1;32m    483\u001b[0m     \u001b[0ma\u001b[0m \u001b[0;34m=\u001b[0m \u001b[0masarray\u001b[0m\u001b[0;34m(\u001b[0m\u001b[0ma\u001b[0m\u001b[0;34m,\u001b[0m \u001b[0mdtype\u001b[0m\u001b[0;34m=\u001b[0m\u001b[0mdtype\u001b[0m\u001b[0;34m,\u001b[0m \u001b[0morder\u001b[0m\u001b[0;34m=\u001b[0m\u001b[0morder\u001b[0m\u001b[0;34m)\u001b[0m\u001b[0;34m\u001b[0m\u001b[0;34m\u001b[0m\u001b[0m\n\u001b[0;32m--> 484\u001b[0;31m     \u001b[0;32mif\u001b[0m \u001b[0ma\u001b[0m\u001b[0;34m.\u001b[0m\u001b[0mdtype\u001b[0m\u001b[0;34m.\u001b[0m\u001b[0mchar\u001b[0m \u001b[0;32min\u001b[0m \u001b[0mtypecodes\u001b[0m\u001b[0;34m[\u001b[0m\u001b[0;34m'AllFloat'\u001b[0m\u001b[0;34m]\u001b[0m \u001b[0;32mand\u001b[0m \u001b[0;32mnot\u001b[0m \u001b[0mnp\u001b[0m\u001b[0;34m.\u001b[0m\u001b[0misfinite\u001b[0m\u001b[0;34m(\u001b[0m\u001b[0ma\u001b[0m\u001b[0;34m)\u001b[0m\u001b[0;34m.\u001b[0m\u001b[0mall\u001b[0m\u001b[0;34m(\u001b[0m\u001b[0;34m)\u001b[0m\u001b[0;34m:\u001b[0m\u001b[0;34m\u001b[0m\u001b[0;34m\u001b[0m\u001b[0m\n\u001b[0m\u001b[1;32m    485\u001b[0m         raise ValueError(\n\u001b[1;32m    486\u001b[0m             \"array must not contain infs or NaNs\")\n",
      "\u001b[0;31mKeyboardInterrupt\u001b[0m: "
     ]
    }
   ],
   "source": [
    "err_A = np.empty(num, dtype = float) #Stores error in kernel spaces for each experiment (no noise vs noise)\n",
    "err_U_test = np.empty(num, dtype = float) #Stores error in kernel spaces of A, i.e. errors in 'guesses' (no noise vs noise)\n",
    "err_noiseless_test = np.empty(num, dtype = float) #Stores error in the difference between true projection and no noise guess\n",
    "err_noisy_test = np.empty(num, dtype = float) # Stores error in difference between true projection and noise guess\n",
    "bounds = np.empty(num, dtype = float) #Stores the error bounds for each experiment\n",
    "delta_vec = np.empty(num, dtype = float) #Stores the minimum singular values of U or V for each experiment\n",
    "Sig_kernel = np.empty(num, dtype = float) #Stores the singular values of B for each experiment\n",
    "\n",
    "c = 0\n",
    "\n",
    "for m_ in m_vec:\n",
    "    U = np.random.rand(m_,r)\n",
    "    \n",
    "    W = np.zeros((m_,m_-r))\n",
    "\n",
    "    #Uncomment for the first type of W matrix\n",
    "    \"\"\"\n",
    "    for i in range(W.shape[1]):\n",
    "        temp = 0\n",
    "        while temp!=r+1:\n",
    "            W[temp+i][i] = 1\n",
    "            temp+=1\n",
    "    \"\"\"\n",
    "\n",
    "    #Uncomment for the second type of W matrix\n",
    "\n",
    "    for i in range(W.shape[0]):\n",
    "        for j in range(W.shape[1]):\n",
    "            if i < r:\n",
    "                W[i][j] = 1\n",
    "            else:\n",
    "                if i-r == j:\n",
    "                    W[i][j] = 1\n",
    "    \n",
    "\n",
    "    err_A[c], err_U_test[c], err_noiseless_test[c], err_noisy_test[c], bounds[c], delta_vec[c], Sig_kernel[c] = Errors(m_,r,U,W,sigma)\n",
    "    c+=1"
   ]
  },
  {
   "cell_type": "code",
   "execution_count": null,
   "metadata": {},
   "outputs": [],
   "source": [
    "plt.scatter(m_vec,err_A)\n",
    "plt.title(\"Difference in noiseless A matrix and noisy A matrix\")\n",
    "plt.xlabel(\"Ambient dimension\")\n",
    "plt.ylabel(\"Noise in A matrix\")\n",
    "#plt.xscale('log')\n",
    "plt.yscale('log')\n",
    "plt.show()"
   ]
  },
  {
   "cell_type": "code",
   "execution_count": null,
   "metadata": {},
   "outputs": [],
   "source": [
    "plt.scatter(m_vec, err_U_test)\n",
    "plt.title(\"Difference in kernel space of noiseless A and noisy A\")\n",
    "plt.xlabel(\"Ambient Dimension\")\n",
    "plt.ylabel(\"Noise in kernel space\")\n",
    "#plt.xscale('log')\n",
    "plt.yscale('log')\n",
    "plt.show()"
   ]
  },
  {
   "cell_type": "code",
   "execution_count": null,
   "metadata": {},
   "outputs": [],
   "source": [
    "plt.scatter(m_vec, err_noiseless_test)\n",
    "plt.title(\"Difference between true subspace and noiseless guess\")\n",
    "plt.xlabel(\"Ambient Dimension\")\n",
    "plt.ylabel(\"Error\")\n",
    "#plt.xscale('log')\n",
    "plt.yscale('log')\n",
    "plt.show()"
   ]
  },
  {
   "cell_type": "code",
   "execution_count": null,
   "metadata": {},
   "outputs": [],
   "source": [
    "plt.scatter(m_vec, err_noisy_test)\n",
    "plt.title(\"Difference in true subspace and noisy guess\")\n",
    "plt.xlabel(\"Ambient Dimension\")\n",
    "plt.ylabel(\"Error\")\n",
    "#plt.xscale('log')\n",
    "plt.yscale('log')\n",
    "plt.scatter(m_vec,bounds,color = 'red', label = 'bound')\n",
    "#plt.scatter(d_vec,Sig_kernel, color = 'green', label = 'Kernel sing. value')\n",
    "#plt.scatter(d_vec,delta_vec, color = 'grey', label = 'Data sing. value')\n",
    "plt.plot(m_vec,np.full((num,),np.sqrt(r),dtype = float), color = 'purple', label = 'Upper bound of C.D')\n",
    "plt.legend(loc = 'upper right')\n",
    "plt.show()"
   ]
  },
  {
   "cell_type": "markdown",
   "metadata": {},
   "source": [
    "## Experiment 3: Increasing subspace dimension r, keeping noise level and ambient dimension constant"
   ]
  },
  {
   "cell_type": "code",
   "execution_count": null,
   "metadata": {},
   "outputs": [],
   "source": [
    "num = 1000 # Number of experiments\n",
    "m = 50 # Ambient dimension\n",
    "r_vec = np.random.randint(d-47,d-3, num) \n",
    "r_vec = np.sort(r_vec)\n",
    "sigma = 1e-2 #Noise level / standard deviation"
   ]
  },
  {
   "cell_type": "code",
   "execution_count": null,
   "metadata": {},
   "outputs": [],
   "source": [
    "err_A = np.empty(num, dtype = float) #Stores error in kernel spaces for each experiment (no noise vs noise)\n",
    "err_U_test = np.empty(num, dtype = float) #Stores error in kernel spaces of A, i.e. errors in 'guesses' (no noise vs noise)\n",
    "err_noiseless_test = np.empty(num, dtype = float) #Stores error in the difference between true projection and no noise guess\n",
    "err_noisy_test = np.empty(num, dtype = float) # Stores error in difference between true projection and noise guess\n",
    "bounds = np.empty(num, dtype = float) #Stores the error bounds for each experiment\n",
    "delta_vec = np.empty(num, dtype = float) #Stores the minimum singular values of U or V for each experiment\n",
    "Sig_kernel = np.empty(num, dtype = float) #Stores the singular values of B for each experiment\n",
    "\n",
    "c = 0\n",
    "\n",
    "for r_ in r_vec:\n",
    "    U = np.random.rand(m,r_)\n",
    "\n",
    "    W = np.zeros((m,m-r_))\n",
    "\n",
    "    #Uncomment for the first type of W matrix\n",
    "    \"\"\"\n",
    "    for i in range(W.shape[1]):\n",
    "        temp = 0\n",
    "        while temp!=r_+1:\n",
    "            W[temp+i][i] = 1\n",
    "            temp+=1\n",
    "    \"\"\"\n",
    "\n",
    "    #Uncomment for the second type of W matrix\n",
    "\n",
    "    for i in range(W.shape[0]):\n",
    "        for j in range(W.shape[1]):\n",
    "            if i < r_:\n",
    "                W[i][j] = 1\n",
    "            else:\n",
    "                if i-r_ == j:\n",
    "                    W[i][j] = 1\n",
    "    \n",
    "\n",
    "    err_A[c], err_U_test[c], err_noiseless_test[c], err_noisy_test[c], bounds[c], delta_vec[c], Sig_kernel[c] = Errors(m,r_,U,W,sigma)\n",
    "    c+=1"
   ]
  },
  {
   "cell_type": "code",
   "execution_count": null,
   "metadata": {},
   "outputs": [],
   "source": [
    "plt.scatter(r_vec,err_A)\n",
    "plt.title(\"Difference in noiseless A matrix and noisy A matrix\")\n",
    "plt.xlabel(\"Subspace dimension\")\n",
    "plt.ylabel(\"Noise in A matrix\")\n",
    "#plt.xscale('log')\n",
    "plt.yscale('log')\n",
    "plt.show()"
   ]
  },
  {
   "cell_type": "code",
   "execution_count": null,
   "metadata": {},
   "outputs": [],
   "source": [
    "plt.scatter(r_vec, err_U_test)\n",
    "plt.title(\"Difference in kernel space of noiseless A and noisy A\")\n",
    "plt.xlabel(\"Subspace Dimension\")\n",
    "plt.ylabel(\"Noise in kernel space\")\n",
    "#plt.xscale('log')\n",
    "plt.yscale('log')\n",
    "plt.show()"
   ]
  },
  {
   "cell_type": "code",
   "execution_count": null,
   "metadata": {},
   "outputs": [],
   "source": [
    "plt.scatter(r_vec, err_noiseless_test)\n",
    "plt.title(\"Difference between true subspace and noiseless guess\")\n",
    "plt.xlabel(\"Subspace Dimension\")\n",
    "plt.ylabel(\"Error\")\n",
    "#plt.xscale('log')\n",
    "plt.yscale('log')\n",
    "plt.show()"
   ]
  },
  {
   "cell_type": "code",
   "execution_count": null,
   "metadata": {},
   "outputs": [],
   "source": [
    "plt.scatter(r_vec, err_noisy_test)\n",
    "plt.title(\"Difference in true subspace and noisy guess\")\n",
    "plt.xlabel(\"Noise level\")\n",
    "plt.ylabel(\"Error\")\n",
    "plt.xscale('log')\n",
    "plt.yscale('log')\n",
    "plt.plot(r_vec,bounds,color = 'red', label = 'bound')\n",
    "plt.plot(r_vec,Sig_kernel, color = 'green', label = 'Kernel sing. value')\n",
    "plt.plot(r_vec,delta_vec, color = 'grey', label = 'Data sing. value')\n",
    "plt.plot(r_vec,np.array(np.sqrt(x for x in r_vec)), color = 'purple', label = 'Upper bound of C.D')\n",
    "plt.legend()\n",
    "plt.show()"
   ]
  },
  {
   "cell_type": "markdown",
   "metadata": {},
   "source": [
    "## Statistical analysis"
   ]
  },
  {
   "cell_type": "markdown",
   "metadata": {},
   "source": [
    "### Linear regression"
   ]
  },
  {
   "cell_type": "code",
   "execution_count": null,
   "metadata": {},
   "outputs": [],
   "source": [
    "from sklearn.linear_model import LinearRegression\n",
    "\n",
    "lam_vec_reshape = lam_vec.reshape(-1,1)\n",
    "\n",
    "reg = LinearRegression().fit(lam_vec_reshape,err_noise_test)\n",
    "\n",
    "lam_vec_test = np.random.uniform(low_b,upper_b,num) # Vector that stores different noise values to test\n",
    "lam_vec_test = np.sort(lam_vec_test)\n",
    "lam_vec_test = lam_vec_test.reshape(-1,1)\n",
    "\n",
    "pred_err = reg.predict(lam_vec_test)"
   ]
  },
  {
   "cell_type": "code",
   "execution_count": null,
   "metadata": {},
   "outputs": [],
   "source": [
    "x = np.linspace(low_b,upper_b,num)\n",
    "y = (2*np.sqrt(r))*x\n",
    "\n",
    "plt.scatter(lam_vec, err_noise_test)\n",
    "plt.plot(lam_vec, pred_err, '-', color = 'red')\n",
    "plt.title(\"Difference in true subspace and noisy guess\")\n",
    "plt.xlabel(\"Noise level\")\n",
    "plt.ylabel(\"Error\")\n",
    "plt.xscale('log')\n",
    "plt.yscale('log')\n",
    "plt.plot(x,y,color = 'green')\n",
    "plt.show()"
   ]
  },
  {
   "cell_type": "markdown",
   "metadata": {},
   "source": [
    "### PCA"
   ]
  },
  {
   "cell_type": "code",
   "execution_count": null,
   "metadata": {},
   "outputs": [],
   "source": [
    "from sklearn.decomposition import PCA\n",
    "pca = PCA(n_components=2)\n",
    "pca.fit(np.vstack((lam_vec, err_nullSpace)).T)"
   ]
  },
  {
   "cell_type": "code",
   "execution_count": null,
   "metadata": {
    "scrolled": true
   },
   "outputs": [],
   "source": [
    "pca.components_"
   ]
  },
  {
   "cell_type": "code",
   "execution_count": null,
   "metadata": {},
   "outputs": [],
   "source": [
    "pca.explained_variance_"
   ]
  },
  {
   "cell_type": "code",
   "execution_count": null,
   "metadata": {},
   "outputs": [],
   "source": [
    "def draw_vector(v0, v1, ax=None):\n",
    "    ax = ax or plt.gca()\n",
    "    arrowprops=dict(arrowstyle='->',\n",
    "                    linewidth=2,\n",
    "                    shrinkA=0, shrinkB=0)\n",
    "    ax.annotate('', v1, v0, arrowprops=arrowprops)\n",
    "\n",
    "# plot data\n",
    "plt.scatter(lam_vec, err_nullSpace)\n",
    "for length, vector in zip(pca.explained_variance_, pca.components_):\n",
    "    v = vector * 3 * np.sqrt(length)\n",
    "    draw_vector(pca.mean_, pca.mean_ + v)\n",
    "#plt.xscale('log')\n",
    "#plt.yscale('log')\n",
    "plt.plot(x,y, color = 'red')\n",
    "plt.axis('equal');"
   ]
  },
  {
   "cell_type": "code",
   "execution_count": null,
   "metadata": {},
   "outputs": [],
   "source": [
    "Sig"
   ]
  },
  {
   "cell_type": "markdown",
   "metadata": {},
   "source": [
    "Experiment 1 2"
   ]
  },
  {
   "cell_type": "code",
   "execution_count": null,
   "metadata": {
    "scrolled": true
   },
   "outputs": [],
   "source": [
    "d = 100 #Number of columns \n",
    "r = 10 #Dimension of U\n",
    "\n",
    "S = np.random.rand(d,r) #Random (true) subspace\n",
    "#S = np.array([[1,1],[1,2],[1,3],[1,4],[1,5]]) #Uncomment the left out for an example true space\n",
    "S = np.linalg.qr(S)[0] #Orthogonalizing S\n",
    "\n",
    "W = np.zeros((d,d-r))\n",
    "\n",
    "#Uncomment for the first type of W matrix\n",
    "\"\"\"\n",
    "for i in range(W.shape[1]):\n",
    "    temp = 0\n",
    "    while temp!=r+1:\n",
    "        W[temp+i][i] = 1\n",
    "        temp+=1\n",
    "\"\"\"\n",
    "\n",
    "#Uncomment for the second type of W matrix\n",
    "\n",
    "for i in range(W.shape[0]):\n",
    "    for j in range(W.shape[1]):\n",
    "        if i < r:\n",
    "            W[i][j] = 1\n",
    "        else:\n",
    "            if i-r == j:\n",
    "                W[i][j] = 1\n",
    "        \n",
    "W_T = np.transpose(W)\n",
    "\n",
    "print(\"Binary matrix \\n\", W)\n",
    "\n",
    "low_b = 1e-8 #Lower bound of noise\n",
    "upper_b = 1e-2 #Upper bound of noise\n",
    "num = 10000 # Number of experiments\n",
    "\n",
    "lam_vec = np.random.uniform(low_b,upper_b,num) # Vector that stores different noise values to test\n",
    "lam_vec = np.sort(lam_vec)"
   ]
  },
  {
   "cell_type": "code",
   "execution_count": null,
   "metadata": {},
   "outputs": [],
   "source": [
    "err_A_2 = np.empty(num, dtype = float) #Stores error in kernel spaces for each experiment (no noise vs noise)\n",
    "err_U_test_2 = np.empty(num, dtype = float) #Stores error in kernel spaces of A, i.e. errors in 'guesses' (no noise vs noise)\n",
    "err_test_2 = np.empty(num, dtype = float) #Stores error in the difference between true projection and no noise guess\n",
    "err_noise_test_2 = np.empty(num, dtype = float) # Stores error in difference between true projection and noise guess\n",
    "bounds_2 = np.empty(num, dtype = float) #Stores the error bounds for each experiment\n",
    "Sig_2 = np.empty(num, dtype = float) #Stores the singular values of B for each experiment\n",
    "\n",
    "c = 0\n",
    "\n",
    "for lam in lam_vec:\n",
    "    err_A_2[c], err_U_test_2[c], err_test_2[c], err_noise_test_2[c], bounds_2[c], Sig_2[c] = Errors(d,r,S,W,lam)\n",
    "    c+=1\n"
   ]
  },
  {
   "cell_type": "code",
   "execution_count": null,
   "metadata": {},
   "outputs": [],
   "source": [
    "plt.scatter(lam_vec, err_noise_test_2)\n",
    "plt.title(\"Difference in true subspace and noisy guess\")\n",
    "plt.xlabel(\"Noise level\")\n",
    "plt.ylabel(\"Error\")\n",
    "plt.xscale('log')\n",
    "plt.yscale('log')\n",
    "plt.plot(lam_vec,bounds_2,color = 'red')\n",
    "plt.plot(lam_vec,Sig_2, color = 'green')\n",
    "plt.show()"
   ]
  },
  {
   "cell_type": "markdown",
   "metadata": {},
   "source": [
    "Experiment 2 2"
   ]
  },
  {
   "cell_type": "code",
   "execution_count": null,
   "metadata": {},
   "outputs": [],
   "source": [
    "num = 1000 # Number of experiments\n",
    "d_vec = np.random.randint(10,200, num) \n",
    "d_vec = np.sort(d_vec)\n",
    "r = 7 #Dimension of U\n",
    "lam = 1e-5 #Noise level"
   ]
  },
  {
   "cell_type": "code",
   "execution_count": null,
   "metadata": {},
   "outputs": [],
   "source": [
    "err_A_2 = np.empty(num, dtype = float) #Stores error in kernel spaces for each experiment (no noise vs noise)\n",
    "err_U_test_2 = np.empty(num, dtype = float) #Stores error in kernel spaces of A, i.e. errors in 'guesses' (no noise vs noise)\n",
    "err_test_2 = np.empty(num, dtype = float) #Stores error in the difference between true projection and no noise guess\n",
    "err_noise_test_2 = np.empty(num, dtype = float) # Stores error in difference between true projection and noise guess\n",
    "bounds_2 = np.empty(num, dtype = float) #Stores the error bounds for each experiment\n",
    "Sig_2 = np.empty(num, dtype = float) #Stores the singular values of B for each experiment\n",
    "\n",
    "c = 0\n",
    "\n",
    "for d_ in d_vec:\n",
    "    S = np.random.rand(d_,r)\n",
    "    S = np.linalg.qr(S)[0] #Orthogonalizing S\n",
    "    W = np.zeros((d_,d_-r))\n",
    "\n",
    "    #Uncomment for the first type of W matrix\n",
    "    \"\"\"\n",
    "    for i in range(W.shape[1]):\n",
    "        temp = 0\n",
    "        while temp!=r+1:\n",
    "            W[temp+i][i] = 1\n",
    "            temp+=1\n",
    "    \"\"\"\n",
    "\n",
    "    #Uncomment for the second type of W matrix\n",
    "\n",
    "    for i in range(W.shape[0]):\n",
    "        for j in range(W.shape[1]):\n",
    "            if i < r:\n",
    "                W[i][j] = 1\n",
    "            else:\n",
    "                if i-r == j:\n",
    "                    W[i][j] = 1\n",
    "\n",
    "\n",
    "    err_A_2[c], err_U_test_2[c], err_test_2[c], err_noise_test_2[c], bounds_2[c], Sig_2[c] = Errors(d_,r,S,W,lam)\n",
    "    c+=1"
   ]
  },
  {
   "cell_type": "code",
   "execution_count": null,
   "metadata": {},
   "outputs": [],
   "source": [
    "plt.scatter(d_vec, err_noise_test_2)\n",
    "plt.title(\"Difference in true subspace and noisy guess\")\n",
    "plt.xlabel(\"Ambient Dimension\")\n",
    "plt.ylabel(\"Error\")\n",
    "#plt.xscale('log')\n",
    "plt.yscale('log')\n",
    "plt.plot(d_vec,bounds_2, color = 'red')\n",
    "plt.plot(d_vec,Sig_2, color = 'green')\n",
    "plt.show()"
   ]
  },
  {
   "cell_type": "code",
   "execution_count": null,
   "metadata": {},
   "outputs": [],
   "source": []
  }
 ],
 "metadata": {
  "kernelspec": {
   "display_name": "Python 3",
   "language": "python",
   "name": "python3"
  },
  "language_info": {
   "codemirror_mode": {
    "name": "ipython",
    "version": 3
   },
   "file_extension": ".py",
   "mimetype": "text/x-python",
   "name": "python",
   "nbconvert_exporter": "python",
   "pygments_lexer": "ipython3",
   "version": "3.8.5"
  }
 },
 "nbformat": 4,
 "nbformat_minor": 4
}
