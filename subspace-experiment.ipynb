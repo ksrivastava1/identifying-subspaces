{
 "cells": [
  {
   "cell_type": "markdown",
   "metadata": {},
   "source": [
    "## No noise\n",
    "\n",
    "First, we will just experiment with no noise to make sure we construct an accurate simulation of the original results"
   ]
  },
  {
   "cell_type": "code",
   "execution_count": 646,
   "metadata": {},
   "outputs": [
    {
     "name": "stdout",
     "output_type": "stream",
     "text": [
      "True space \n",
      " [[1 1]\n",
      " [1 2]\n",
      " [1 3]\n",
      " [1 4]\n",
      " [1 5]\n",
      " [1 6]]\n"
     ]
    }
   ],
   "source": [
    "import numpy as np\n",
    "import matplotlib.pyplot as plt\n",
    "\n",
    "d = 6 #Number of columns \n",
    "r = 2 #Dimension of U*\n",
    "\n",
    "#S = np.random.rand(d,r) #Random (true) subspace\n",
    "S = np.array([[1,1],[1,2],[1,3],[1,4],[1,5],[1,6]]) #Example true space\n",
    "\n",
    "print(\"True space \\n\", S)"
   ]
  },
  {
   "cell_type": "code",
   "execution_count": 647,
   "metadata": {
    "scrolled": false
   },
   "outputs": [
    {
     "name": "stdout",
     "output_type": "stream",
     "text": [
      "Binary matrix \n",
      " [[1 0 0 0]\n",
      " [1 1 0 0]\n",
      " [1 1 1 0]\n",
      " [0 1 1 1]\n",
      " [0 0 1 1]\n",
      " [0 0 0 1]]\n"
     ]
    }
   ],
   "source": [
    "#Define the binary matrix W\n",
    "\n",
    "W = np.array([[1,0,0,0],[1,1,0,0],[1,1,1,0],[0,1,1,1],[0,0,1,1], [0,0,0,1]])\n",
    "W_T = np.transpose(W)\n",
    "\n",
    "print(\"Binary matrix \\n\", W)"
   ]
  },
  {
   "cell_type": "code",
   "execution_count": 648,
   "metadata": {
    "scrolled": true
   },
   "outputs": [
    {
     "name": "stdout",
     "output_type": "stream",
     "text": [
      "Matrix of projections of S onto lower dimensions \n",
      " [[1 1 1 2 1 3 1 4]\n",
      " [1 2 1 3 1 4 1 5]\n",
      " [1 3 1 4 1 5 1 6]]\n"
     ]
    }
   ],
   "source": [
    "#Computing the projections of S onto canonical coordinates\n",
    "\n",
    "S_proj = np.array(np.hstack(([[S[j,:] for j in range(np.shape(S)[0]) if W_T[i,j] == 1] for i in range(W_T.shape[0])])))\n",
    "\n",
    "print(\"Matrix of projections of S onto lower dimensions \\n\", S_proj)"
   ]
  },
  {
   "cell_type": "code",
   "execution_count": 649,
   "metadata": {
    "scrolled": true
   },
   "outputs": [
    {
     "name": "stdout",
     "output_type": "stream",
     "text": [
      "Matrix of basis vectors of the nullspace of projections \n",
      " [[ 0.40824829  0.40824829  0.40824829  0.40824829]\n",
      " [-0.81649658 -0.81649658 -0.81649658 -0.81649658]\n",
      " [ 0.40824829  0.40824829  0.40824829  0.40824829]]\n"
     ]
    }
   ],
   "source": [
    "#Computing the nullspaces of the projections\n",
    "\n",
    "from scipy.linalg import null_space\n",
    "\n",
    "A_temp = np.array(np.hstack(([[null_space(S_proj.T[i:i+r, :])[j,:] for j in range(S_proj.T.shape[1])] for i in range(0, S_proj.T.shape[0], r)])))\n",
    "\n",
    "print(\"Matrix of basis vectors of the nullspace of projections \\n\", A_temp)"
   ]
  },
  {
   "cell_type": "code",
   "execution_count": 650,
   "metadata": {},
   "outputs": [
    {
     "name": "stdout",
     "output_type": "stream",
     "text": [
      "Matrix whose kernel will be our guess \n",
      " [[ 0.40824829  0.          0.          0.        ]\n",
      " [-0.81649658  0.40824829  0.          0.        ]\n",
      " [ 0.40824829 -0.81649658  0.40824829  0.        ]\n",
      " [ 0.          0.40824829 -0.81649658  0.40824829]\n",
      " [ 0.          0.          0.40824829 -0.81649658]\n",
      " [ 0.          0.          0.          0.40824829]]\n"
     ]
    }
   ],
   "source": [
    "#Creating the matrix A whose null space will be the true subspace\n",
    "\n",
    "A = np.array(W, dtype = float)\n",
    "\n",
    "for j in range(A.shape[1]):\n",
    "    c = 0\n",
    "    for i in range(A.shape[0]):\n",
    "        if A[i,j] == 1:\n",
    "            A[i,j] = A_temp[c, j]\n",
    "            c+=1\n",
    "print(\"Matrix whose kernel will be our guess \\n\", A)"
   ]
  },
  {
   "cell_type": "code",
   "execution_count": 651,
   "metadata": {},
   "outputs": [
    {
     "name": "stdout",
     "output_type": "stream",
     "text": [
      "Basis of guessed space \n",
      " [[-0.67399868  0.26369547]\n",
      " [-0.44105223  0.31735   ]\n",
      " [-0.20810578  0.37100453]\n",
      " [ 0.02484067  0.42465907]\n",
      " [ 0.25778712  0.4783136 ]\n",
      " [ 0.49073357  0.53196813]]\n"
     ]
    }
   ],
   "source": [
    "#Finding kernel space of A\n",
    "\n",
    "S_test = null_space(A.T)\n",
    "\n",
    "print(\"Basis of guessed space \\n\", S_test)"
   ]
  },
  {
   "cell_type": "code",
   "execution_count": 652,
   "metadata": {},
   "outputs": [
    {
     "name": "stdout",
     "output_type": "stream",
     "text": [
      "True projection [[ 0.52380952  0.38095238  0.23809524  0.0952381  -0.04761905 -0.19047619]\n",
      " [ 0.38095238  0.2952381   0.20952381  0.12380952  0.03809524 -0.04761905]\n",
      " [ 0.23809524  0.20952381  0.18095238  0.15238095  0.12380952  0.0952381 ]\n",
      " [ 0.0952381   0.12380952  0.15238095  0.18095238  0.20952381  0.23809524]\n",
      " [-0.04761905  0.03809524  0.12380952  0.20952381  0.2952381   0.38095238]\n",
      " [-0.19047619 -0.04761905  0.0952381   0.23809524  0.38095238  0.52380952]]\n",
      "Guessed projection [[ 0.52380952  0.38095238  0.23809524  0.0952381  -0.04761905 -0.19047619]\n",
      " [ 0.38095238  0.2952381   0.20952381  0.12380952  0.03809524 -0.04761905]\n",
      " [ 0.23809524  0.20952381  0.18095238  0.15238095  0.12380952  0.0952381 ]\n",
      " [ 0.0952381   0.12380952  0.15238095  0.18095238  0.20952381  0.23809524]\n",
      " [-0.04761905  0.03809524  0.12380952  0.20952381  0.2952381   0.38095238]\n",
      " [-0.19047619 -0.04761905  0.0952381   0.23809524  0.38095238  0.52380952]]\n",
      "Error 1.4094155855848922e-15\n"
     ]
    }
   ],
   "source": [
    "# Testing for whether the span of ker(A) is the same as column space of S - i.e. the true space\n",
    "# We test this by looking at the projection matrices \n",
    "# Error estimated with the ||P_true - P_test||_F, the frobenius norm of the difference in Projection matrices\n",
    "\n",
    "P_test = np.dot(S_test,np.dot(np.linalg.inv(np.dot(S_test.T,S_test)), S_test.T))\n",
    "\n",
    "P_true = np.dot(S,np.dot(np.linalg.inv(np.dot(S.T,S)), S.T))\n",
    "\n",
    "error = np.linalg.norm(P_true - P_test, 'fro') \n",
    "\n",
    "print (\"True projection\", P_true)\n",
    "print (\"Guessed projection\", P_test)\n",
    "\n",
    "print (\"Error\", error)"
   ]
  },
  {
   "cell_type": "markdown",
   "metadata": {},
   "source": [
    "## With noise \n",
    "\n",
    "Now we will perform the same experiment, but we will add noise into the mix and see how the noise translates through every step."
   ]
  },
  {
   "cell_type": "code",
   "execution_count": 666,
   "metadata": {},
   "outputs": [
    {
     "name": "stdout",
     "output_type": "stream",
     "text": [
      "True space \n",
      " [[1 1]\n",
      " [1 2]\n",
      " [1 3]\n",
      " [1 4]\n",
      " [1 5]]\n"
     ]
    }
   ],
   "source": [
    "d = 5 #Number of columns \n",
    "r = 2 #Dimension of U*\n",
    "\n",
    "\n",
    "#S = np.random.rand(d,r) #Random (true) subspace\n",
    "S = np.array([[1,1],[1,2],[1,3],[1,4],[1,5]]) #Uncomment the left out for an example true space\n",
    "\n",
    "print(\"True space \\n\", S)"
   ]
  },
  {
   "cell_type": "code",
   "execution_count": 667,
   "metadata": {},
   "outputs": [
    {
     "name": "stdout",
     "output_type": "stream",
     "text": [
      "Binary matrix \n",
      " [[1 0 0]\n",
      " [1 1 0]\n",
      " [1 1 1]\n",
      " [0 1 1]\n",
      " [0 0 1]]\n"
     ]
    }
   ],
   "source": [
    "#Define the binary matrix W\n",
    "\n",
    "W = np.array([[1,0,0],[1,1,0],[1,1,1],[0,1,1],[0,0,1]])\n",
    "W_T = np.transpose(W)\n",
    "\n",
    "print(\"Binary matrix \\n\", W)"
   ]
  },
  {
   "cell_type": "code",
   "execution_count": 668,
   "metadata": {},
   "outputs": [
    {
     "name": "stdout",
     "output_type": "stream",
     "text": [
      "Projections of S onto lower dimensions w/o noise \n",
      " [[1 1 1 2 1 3]\n",
      " [1 2 1 3 1 4]\n",
      " [1 3 1 4 1 5]]\n",
      "Projections of S onto lower dimensions w/ noise \n",
      " [[1.00398708 0.99781969 1.02071165 2.01516944 0.97917608 3.01020831]\n",
      " [1.00210205 1.98483804 1.01446824 3.01824805 1.00000215 3.9869046 ]\n",
      " [0.98859566 2.9956005  1.0005558  4.01458364 1.00887519 4.99136208]]\n"
     ]
    }
   ],
   "source": [
    "# Computing the projections of S onto canonical coordinates\n",
    "\n",
    "# No noise Version\n",
    "\n",
    "S_proj = np.array(np.hstack(([[S[j,:] for j in range(S.shape[0]) if W_T[i,j] == 1] for i in range(W_T.shape[0])])))\n",
    "\n",
    "# Creating the noisy versions\n",
    "\n",
    "mu = 0 # mean\n",
    "sigma = 1 # standard deviation\n",
    "lam = 1e-2 # noise level\n",
    "\n",
    "#Adding noise from a Gaussian distribution\n",
    "\n",
    "\n",
    "S_proj_noise = S_proj + np.random.normal(mu, sigma, (S_proj.shape[0], S_proj.shape[1]))*lam\n",
    "\n",
    "\n",
    "print(\"Projections of S onto lower dimensions w/o noise \\n\", S_proj)\n",
    "print(\"Projections of S onto lower dimensions w/ noise \\n\", S_proj_noise)"
   ]
  },
  {
   "cell_type": "code",
   "execution_count": 669,
   "metadata": {
    "scrolled": true
   },
   "outputs": [
    {
     "name": "stdout",
     "output_type": "stream",
     "text": [
      "Basis vectors of the nullspace of projections w/o noise \n",
      " [[ 0.40824829  0.40824829  0.40824829]\n",
      " [-0.81649658 -0.81649658 -0.81649658]\n",
      " [ 0.40824829  0.40824829  0.40824829]]\n",
      "Basis vectors of the nullspace of projections w/ noise \n",
      " [[ 0.4191928   0.41244793  0.42652827]\n",
      " [-0.81488525 -0.81547688 -0.81447008]\n",
      " [ 0.40029917  0.40605931  0.39333463]]\n"
     ]
    }
   ],
   "source": [
    "# Computing the nullspaces of the projections\n",
    "\n",
    "# No noise version\n",
    "\n",
    "A_temp = np.array(np.hstack(([[null_space(S_proj.T[i:i+r, :])[j,:] for j in range(S_proj.T.shape[1])] for i in range(0, S_proj.T.shape[0], r)])))\n",
    "\n",
    "\n",
    "# Noisy version\n",
    "\n",
    "A_temp_noise = np.array(np.hstack(([[null_space(S_proj_noise.T[i:i+r, :])[j,:] for j in range(S_proj_noise.T.shape[1])] for i in range(0, S_proj_noise.T.shape[0], r)])))\n",
    "\n",
    "\n",
    "\n",
    "\n",
    "print(\"Basis vectors of the nullspace of projections w/o noise \\n\", A_temp)\n",
    "print(\"Basis vectors of the nullspace of projections w/ noise \\n\", A_temp_noise)"
   ]
  },
  {
   "cell_type": "code",
   "execution_count": 670,
   "metadata": {},
   "outputs": [
    {
     "data": {
      "text/plain": [
       "array([[-0.01094451, -0.00419964, -0.01827998],\n",
       "       [-0.00161133, -0.0010197 , -0.00202651],\n",
       "       [ 0.00794912,  0.00218898,  0.01491366]])"
      ]
     },
     "execution_count": 670,
     "metadata": {},
     "output_type": "execute_result"
    }
   ],
   "source": [
    "A_temp-A_temp_noise"
   ]
  },
  {
   "cell_type": "code",
   "execution_count": 671,
   "metadata": {},
   "outputs": [
    {
     "name": "stdout",
     "output_type": "stream",
     "text": [
      "Matrix whose kernel will be our guess w/o noise \n",
      " [[ 0.40824829  0.          0.        ]\n",
      " [-0.81649658  0.40824829  0.        ]\n",
      " [ 0.40824829 -0.81649658  0.40824829]\n",
      " [ 0.          0.40824829 -0.81649658]\n",
      " [ 0.          0.          0.40824829]]\n",
      "Matrix whose kernel will be our guess w/ noise \n",
      " [[ 0.4191928   0.          0.        ]\n",
      " [-0.81488525  0.41244793  0.        ]\n",
      " [ 0.40029917 -0.81547688  0.42652827]\n",
      " [ 0.          0.40605931 -0.81447008]\n",
      " [ 0.          0.          0.39333463]]\n"
     ]
    }
   ],
   "source": [
    "#Creating the matrix A whose null space will be the true subspace\n",
    "\n",
    "# No noise version\n",
    "\n",
    "A = np.array(W, dtype = float) \n",
    "\n",
    "for j in range(A.shape[1]): \n",
    "    c = 0\n",
    "    for i in range(A.shape[0]):\n",
    "        if A[i,j] == 1:\n",
    "            A[i,j] = A_temp[c, j]\n",
    "            c+=1\n",
    "            \n",
    "# Noisy version\n",
    "            \n",
    "A_noise = np.array(W, dtype = float) \n",
    "\n",
    "for j in range(A_noise.shape[1]):\n",
    "    c = 0\n",
    "    for i in range(A_noise.shape[0]):\n",
    "        if A_noise[i,j] == 1:\n",
    "            A_noise[i,j] = A_temp_noise[c, j]\n",
    "            c+=1       \n",
    "\n",
    "            \n",
    "print(\"Matrix whose kernel will be our guess w/o noise \\n\", A)\n",
    "print(\"Matrix whose kernel will be our guess w/ noise \\n\", A_noise)"
   ]
  },
  {
   "cell_type": "code",
   "execution_count": 672,
   "metadata": {
    "scrolled": true
   },
   "outputs": [
    {
     "data": {
      "text/plain": [
       "array([[-0.01094451,  0.        ,  0.        ],\n",
       "       [-0.00161133, -0.00419964,  0.        ],\n",
       "       [ 0.00794912, -0.0010197 , -0.01827998],\n",
       "       [ 0.        ,  0.00218898, -0.00202651],\n",
       "       [ 0.        ,  0.        ,  0.01491366]])"
      ]
     },
     "execution_count": 672,
     "metadata": {},
     "output_type": "execute_result"
    }
   ],
   "source": [
    "A - A_noise"
   ]
  },
  {
   "cell_type": "code",
   "execution_count": 673,
   "metadata": {},
   "outputs": [
    {
     "data": {
      "text/plain": [
       "0.02774377955361677"
      ]
     },
     "execution_count": 673,
     "metadata": {},
     "output_type": "execute_result"
    }
   ],
   "source": [
    "np.linalg.norm(A-A_noise, 'fro')"
   ]
  },
  {
   "cell_type": "code",
   "execution_count": 674,
   "metadata": {},
   "outputs": [
    {
     "name": "stdout",
     "output_type": "stream",
     "text": [
      "Basis of guessed space w/o noise \n",
      " [[-0.76550168  0.11835195]\n",
      " [-0.48243863  0.25933177]\n",
      " [-0.19937558  0.4003116 ]\n",
      " [ 0.08368747  0.54129143]\n",
      " [ 0.36675051  0.68227125]]\n",
      "Basis of guessed space w/ noise \n",
      " [[-0.75221076  0.1129334 ]\n",
      " [-0.49259096  0.25314692]\n",
      " [-0.21504859  0.39706509]\n",
      " [ 0.06846529  0.54028432]\n",
      " [ 0.3749663   0.68818228]]\n"
     ]
    }
   ],
   "source": [
    "#Finding kernel space of A\n",
    "\n",
    "S_test = null_space(A.T) # No noise\n",
    "S_test_noise = null_space(A_noise.T) # With noise\n",
    "\n",
    "print(\"Basis of guessed space w/o noise \\n\", S_test)\n",
    "print(\"Basis of guessed space w/ noise \\n\", S_test_noise)"
   ]
  },
  {
   "cell_type": "code",
   "execution_count": 675,
   "metadata": {
    "scrolled": true
   },
   "outputs": [
    {
     "data": {
      "text/plain": [
       "array([[-0.01329092,  0.00541855],\n",
       "       [ 0.01015233,  0.00618485],\n",
       "       [ 0.01567301,  0.00324651],\n",
       "       [ 0.01522218,  0.00100711],\n",
       "       [-0.00821579, -0.00591103]])"
      ]
     },
     "execution_count": 675,
     "metadata": {},
     "output_type": "execute_result"
    }
   ],
   "source": [
    "S_test - S_test_noise"
   ]
  },
  {
   "cell_type": "code",
   "execution_count": 676,
   "metadata": {},
   "outputs": [
    {
     "data": {
      "text/plain": [
       "0.030637930656314587"
      ]
     },
     "execution_count": 676,
     "metadata": {},
     "output_type": "execute_result"
    }
   ],
   "source": [
    "np.linalg.norm(S_test - S_test_noise, 'fro')"
   ]
  },
  {
   "cell_type": "code",
   "execution_count": 677,
   "metadata": {
    "scrolled": true
   },
   "outputs": [
    {
     "name": "stdout",
     "output_type": "stream",
     "text": [
      "True projection [[ 6.00000000e-01  4.00000000e-01  2.00000000e-01  1.66533454e-16\n",
      "  -2.00000000e-01]\n",
      " [ 4.00000000e-01  3.00000000e-01  2.00000000e-01  1.00000000e-01\n",
      "   1.66533454e-16]\n",
      " [ 2.00000000e-01  2.00000000e-01  2.00000000e-01  2.00000000e-01\n",
      "   2.00000000e-01]\n",
      " [ 2.22044605e-16  1.00000000e-01  2.00000000e-01  3.00000000e-01\n",
      "   4.00000000e-01]\n",
      " [-2.00000000e-01  1.66533454e-16  2.00000000e-01  4.00000000e-01\n",
      "   6.00000000e-01]]\n",
      "Guessed projection w/o noise [[ 6.00000000e-01  4.00000000e-01  2.00000000e-01 -3.01938410e-18\n",
      "  -2.00000000e-01]\n",
      " [ 4.00000000e-01  3.00000000e-01  2.00000000e-01  1.00000000e-01\n",
      "   3.55672956e-17]\n",
      " [ 2.00000000e-01  2.00000000e-01  2.00000000e-01  2.00000000e-01\n",
      "   2.00000000e-01]\n",
      " [ 1.37860621e-17  1.00000000e-01  2.00000000e-01  3.00000000e-01\n",
      "   4.00000000e-01]\n",
      " [-2.00000000e-01  5.32047842e-17  2.00000000e-01  4.00000000e-01\n",
      "   6.00000000e-01]]\n",
      "Guessed projection w/ noise [[ 0.57857498  0.39912096  0.20660377  0.00951582 -0.20433492]\n",
      " [ 0.39912096  0.30672922  0.20644679  0.10304593 -0.01049378]\n",
      " [ 0.20660377  0.20644679  0.20390658  0.19980468  0.19261718]\n",
      " [ 0.00951582  0.10304593  0.19980468  0.29659464  0.39748627]\n",
      " [-0.20433492 -0.01049378  0.19261718  0.39748627  0.61419459]]\n",
      "Error w/o noise 1.186385529115101e-15\n",
      "Error w/ noise 0.038519477788906305\n"
     ]
    }
   ],
   "source": [
    "# Testing for whether the span of ker(A) is the same as column space of S - i.e. the true space\n",
    "# We test this by looking at the projection matrices \n",
    "# Error estimated with the ||P_true - P_test||_F, the frobenius norm of the difference in Projection matrices\n",
    "\n",
    "P_test = np.dot(S_test,np.dot(np.linalg.inv(np.dot(S_test.T,S_test)), S_test.T))\n",
    "P_test_noise = np.dot(S_test_noise,np.dot(np.linalg.inv(np.dot(S_test_noise.T,S_test_noise)), S_test_noise.T))\n",
    "P_true = np.dot(S,np.dot(np.linalg.inv(np.dot(S.T,S)), S.T))\n",
    "\n",
    "error = np.linalg.norm(P_true - P_test, 'fro') \n",
    "error_noise = np.linalg.norm(P_true - P_test_noise, 'fro') \n",
    "\n",
    "print (\"True projection\", P_true)\n",
    "print (\"Guessed projection w/o noise\", P_test)\n",
    "print (\"Guessed projection w/ noise\", P_test_noise)\n",
    "\n",
    "print (\"Error w/o noise\", error)\n",
    "print (\"Error w/ noise\", error_noise)"
   ]
  },
  {
   "cell_type": "markdown",
   "metadata": {},
   "source": [
    "## Experiments"
   ]
  },
  {
   "cell_type": "code",
   "execution_count": 749,
   "metadata": {},
   "outputs": [],
   "source": [
    "def Errors(d_, r_, U_, W_, lam_, mu):\n",
    "\n",
    "    # Computing the projections of S onto canonical coordinates\n",
    "\n",
    "    # No noise Version\n",
    "\n",
    "    U_proj = np.array(np.hstack(([[U_[j,:] for j in range(U_.shape[0]) if W_.T[i,j] == 1] for i in range(W_.T.shape[0])])))\n",
    "\n",
    "\n",
    "    # Creating the noisy versions\n",
    "    \n",
    "    rows_proj = U_proj.shape[0]\n",
    "    cols_proj = U_proj.shape[1]\n",
    "\n",
    "    #mu = 0 # mean\n",
    "    sigma = 1 # standard deviation\n",
    "\n",
    "    #Adding noise from a Gaussian distribution to projection (Option 1)\n",
    "    \n",
    "    U_proj_noise = U_proj + np.random.normal(mu, sigma, (rows_proj,cols_proj))*lam_\n",
    "\n",
    "\n",
    "    # Computing the nullspaces of the projections\n",
    "\n",
    "    # No noise version\n",
    "\n",
    "    A_temp = np.array(np.hstack(([[null_space(U_proj.T[i:i+r_, :])[j,:] for j in range(U_proj.T.shape[1])] for i in range(0, U_proj.T.shape[0], r_)])))\n",
    "\n",
    "\n",
    "    # Noisy version\n",
    "\n",
    "    A_temp_noise = np.array(np.hstack(([[null_space(U_proj_noise.T[i:i+r_, :])[j,:] for j in range(U_proj_noise.T.shape[1])] for i in range(0, U_proj_noise.T.shape[0], r_)])))\n",
    "\n",
    "    \n",
    "    #Adding noise from a Gaussian distribution to projection (Option 2)\n",
    "    A_temp_noise = A_temp + np.random.normal(mu, sigma, (A_temp.shape[0],A_temp.shape[1]))*lam_\n",
    "     \n",
    "    \n",
    "    #Creating the matrix A whose null space will be the true subspace\n",
    "\n",
    "    # No noise version\n",
    "\n",
    "    A_ = np.array(W_, dtype = float) \n",
    "\n",
    "    for j in range(A_.shape[1]):\n",
    "        c = 0\n",
    "        for i in range(A_.shape[0]):\n",
    "            if A_[i,j] == 1:\n",
    "                A_[i,j] = A_temp[c, j]\n",
    "                c+=1\n",
    "\n",
    "    # Noisy version\n",
    "\n",
    "    Anoise_ = np.array(W_, dtype = float) \n",
    "\n",
    "    for j in range(Anoise_.shape[1]):\n",
    "        c = 0\n",
    "        for i in range(Anoise_.shape[0]):\n",
    "            if Anoise_[i,j] == 1:\n",
    "                Anoise_[i,j] = A_temp_noise[c, j]\n",
    "                c+=1       \n",
    "\n",
    "    error_A = np.linalg.norm(A_-Anoise_, 'fro')\n",
    "    \n",
    "    Proj_A = np.dot(A_,np.dot(np.linalg.inv(np.dot(A_.T,A_)), A_.T))\n",
    "    Proj_Anoise = np.dot(Anoise_,np.dot(np.linalg.inv(np.dot(Anoise_.T,Anoise_)), Anoise_.T))\n",
    "    error_nullSpace = np.linalg.norm(Proj_A - Proj_Anoise, 'fro') \n",
    "    \n",
    "    #Finding kernel space of A\n",
    "\n",
    "    U_test = null_space(A_.T) # No noise\n",
    "    U_test_noise = null_space(Anoise_.T) # With noise\n",
    "\n",
    "    \n",
    "    error_U_test = np.linalg.norm(U_test - U_test_noise, 'fro')\n",
    "    \n",
    "    # Testing for whether the span of ker(A) is the same as column space of S - i.e. the true space\n",
    "    # We test this by looking at the projection matrices \n",
    "    # Error estimated with the ||Proj_true - Proj_test||_F, the frobenius norm of the difference in Projection matrices\n",
    "\n",
    "    Proj_test = np.dot(U_test,np.dot(np.linalg.inv(np.dot(U_test.T,U_test)), U_test.T))\n",
    "    Proj_test_noise = np.dot(U_test_noise,np.dot(np.linalg.inv(np.dot(U_test_noise.T,U_test_noise)), U_test_noise.T))\n",
    "    Proj_true = np.dot(U_,np.dot(np.linalg.inv(np.dot(U_.T,U_)), U_.T))\n",
    "\n",
    "    error_test = np.linalg.norm(Proj_true - Proj_test, 'fro') \n",
    "    error_noise_test = np.linalg.norm(Proj_true - Proj_test_noise, 'fro') \n",
    "\n",
    "    return error_A, error_nullSpace, error_U_test, error_test, error_noise_test"
   ]
  },
  {
   "cell_type": "code",
   "execution_count": 750,
   "metadata": {},
   "outputs": [],
   "source": [
    "d = 10 #Number of columns \n",
    "r = 7 #Dimension of U\n",
    "\n",
    "S = np.random.rand(d,r) #Random (true) subspace\n",
    "#S = np.array([[1,1],[1,2],[1,3],[1,4],[1,5]]) #Uncomment the left out for an example true space\n",
    "\n",
    "W = np.array([[1,0,0],[1,1,0],[1,1,1],[1,1,1],[1,1,1], [1,1,1], [1,1,1], [1,1,1], [0,1,1], [0,0,1]])\n",
    "\n",
    "low_b = 1e-8 #Lower bound of noise\n",
    "upper_b = 1e-2 #Upper bound of noise\n",
    "num = 10000 # Number of experiments\n"
   ]
  },
  {
   "cell_type": "code",
   "execution_count": 751,
   "metadata": {},
   "outputs": [
    {
     "data": {
      "text/plain": [
       "(array([[0.84429911, 0.16699578, 0.42152998, 0.30977261, 0.14812896,\n",
       "         0.58307065, 0.06820132],\n",
       "        [0.07876216, 0.40795624, 0.51898612, 0.73848632, 0.79923087,\n",
       "         0.83968952, 0.92699649],\n",
       "        [0.5909968 , 0.90324355, 0.22274579, 0.0177113 , 0.36606108,\n",
       "         0.04717704, 0.58032388],\n",
       "        [0.12638931, 0.56951798, 0.58645846, 0.25808837, 0.51160913,\n",
       "         0.20954229, 0.96297471],\n",
       "        [0.19574505, 0.01571108, 0.96110872, 0.34778342, 0.27665403,\n",
       "         0.03994459, 0.99157473],\n",
       "        [0.10438919, 0.39392857, 0.15964919, 0.60227823, 0.11892067,\n",
       "         0.2545232 , 0.95657621],\n",
       "        [0.8960234 , 0.99702906, 0.42196324, 0.70566199, 0.37683149,\n",
       "         0.46920093, 0.65999056],\n",
       "        [0.88185933, 0.88773926, 0.41773308, 0.01849616, 0.42701779,\n",
       "         0.1665346 , 0.27779528],\n",
       "        [0.43182179, 0.08957282, 0.69783338, 0.79670804, 0.43658775,\n",
       "         0.53539081, 0.67284402],\n",
       "        [0.04809354, 0.98147892, 0.51106386, 0.00318072, 0.82716701,\n",
       "         0.28081939, 0.50722959]]),\n",
       " array([[1, 0, 0],\n",
       "        [1, 1, 0],\n",
       "        [1, 1, 1],\n",
       "        [1, 1, 1],\n",
       "        [1, 1, 1],\n",
       "        [1, 1, 1],\n",
       "        [1, 1, 1],\n",
       "        [1, 1, 1],\n",
       "        [0, 1, 1],\n",
       "        [0, 0, 1]]))"
      ]
     },
     "execution_count": 751,
     "metadata": {},
     "output_type": "execute_result"
    }
   ],
   "source": [
    "S, W"
   ]
  },
  {
   "cell_type": "code",
   "execution_count": 752,
   "metadata": {},
   "outputs": [],
   "source": [
    "lam_vec = np.random.uniform(low_b,upper_b,num) # Vector that stores different noise values to test\n",
    "lam_vec = np.sort(lam_vec)\n",
    "\n",
    "mean_vec = np.linspace(1e-7,10, num) # Vector that stores different mean values to test for the normal distribution (In Errors())"
   ]
  },
  {
   "cell_type": "code",
   "execution_count": 753,
   "metadata": {},
   "outputs": [
    {
     "data": {
      "text/plain": [
       "array([3.94307178e-06, 1.15493380e-05, 1.34514459e-05, ...,\n",
       "       9.99581378e-03, 9.99908865e-03, 9.99923865e-03])"
      ]
     },
     "execution_count": 753,
     "metadata": {},
     "output_type": "execute_result"
    }
   ],
   "source": [
    "lam_vec"
   ]
  },
  {
   "cell_type": "code",
   "execution_count": 754,
   "metadata": {},
   "outputs": [],
   "source": [
    "err_A = np.empty(num, dtype = float) #Stores error in kernel spaces for each experiment (no noise vs noise)\n",
    "err_nullSpace = np.empty(num, dtype = float) # Stores error in projection onto A (noiseless vs noise)\n",
    "err_U_test = np.empty(num, dtype = float) #Stores error in kernel spaces of A, i.e. errors in 'guesses' (no noise vs noise)\n",
    "err_test = np.empty(num, dtype = float) #Stores error in the difference between true projection and no noise guess\n",
    "err_noise_test = np.empty(num, dtype = float) # Stores error in difference between true projection and noise guess\n",
    "\n",
    "mean = 0\n",
    "#lam = 1e-3\n",
    "\n",
    "c = 0\n",
    "#for mean in mean_vec:\n",
    "for lam in lam_vec:\n",
    "    err_A[c], err_nullSpace[c], err_U_test[c], err_test[c], err_noise_test[c] = Errors(d,r,S,W,lam, mean)\n",
    "    c+=1\n"
   ]
  },
  {
   "cell_type": "code",
   "execution_count": 756,
   "metadata": {
    "scrolled": true
   },
   "outputs": [
    {
     "data": {
      "text/plain": [
       "array([2.26697849e-05, 4.75418312e-05, 6.99311661e-05, ...,\n",
       "       5.32020185e-02, 4.05934988e-02, 5.01795378e-02])"
      ]
     },
     "execution_count": 756,
     "metadata": {},
     "output_type": "execute_result"
    }
   ],
   "source": [
    "err_A"
   ]
  },
  {
   "cell_type": "code",
   "execution_count": 757,
   "metadata": {},
   "outputs": [
    {
     "data": {
      "text/plain": [
       "array([5.33072526e-05, 1.16989323e-04, 1.68704530e-04, ...,\n",
       "       1.22181899e-01, 7.81409566e-02, 1.32296605e-01])"
      ]
     },
     "execution_count": 757,
     "metadata": {},
     "output_type": "execute_result"
    }
   ],
   "source": [
    "err_nullSpace"
   ]
  },
  {
   "cell_type": "code",
   "execution_count": 758,
   "metadata": {},
   "outputs": [
    {
     "data": {
      "text/plain": [
       "array([5.04301381e-05, 1.05088850e-04, 1.49833265e-04, ...,\n",
       "       1.02500931e-01, 7.07252042e-02, 1.24497626e-01])"
      ]
     },
     "execution_count": 758,
     "metadata": {},
     "output_type": "execute_result"
    }
   ],
   "source": [
    "err_U_test"
   ]
  },
  {
   "cell_type": "code",
   "execution_count": 759,
   "metadata": {},
   "outputs": [
    {
     "data": {
      "text/plain": [
       "array([2.20899679e-14, 2.20899679e-14, 2.20899679e-14, ...,\n",
       "       2.20899679e-14, 2.20899679e-14, 2.20899679e-14])"
      ]
     },
     "execution_count": 759,
     "metadata": {},
     "output_type": "execute_result"
    }
   ],
   "source": [
    "err_test"
   ]
  },
  {
   "cell_type": "code",
   "execution_count": 760,
   "metadata": {},
   "outputs": [
    {
     "data": {
      "text/plain": [
       "array([5.33072526e-05, 1.16989323e-04, 1.68704530e-04, ...,\n",
       "       1.22181899e-01, 7.81409566e-02, 1.32296605e-01])"
      ]
     },
     "execution_count": 760,
     "metadata": {},
     "output_type": "execute_result"
    }
   ],
   "source": [
    "err_noise_test"
   ]
  },
  {
   "cell_type": "code",
   "execution_count": 761,
   "metadata": {},
   "outputs": [],
   "source": [
    "x = np.linspace(low_b,upper_b,num)\n",
    "y = (2*np.sqrt(r))*x"
   ]
  },
  {
   "cell_type": "code",
   "execution_count": 762,
   "metadata": {},
   "outputs": [
    {
     "data": {
      "image/png": "[encoded data removed]",
      "text/plain": [
       "<Figure size 432x288 with 1 Axes>"
      ]
     },
     "metadata": {
      "needs_background": "light"
     },
     "output_type": "display_data"
    }
   ],
   "source": [
    "plt.scatter(lam_vec,err_A)\n",
    "plt.title(\"Difference in noiseless A matrix and noisy A matrix\")\n",
    "plt.xlabel(\"Noise level\")\n",
    "plt.ylabel(\"Noise in A matrix\")\n",
    "plt.xscale('log')\n",
    "plt.yscale('log')\n",
    "plt.plot(x,y,color = 'red')\n",
    "plt.show()"
   ]
  },
  {
   "cell_type": "code",
   "execution_count": 763,
   "metadata": {},
   "outputs": [
    {
     "data": {
      "image/png": "[encoded data removed]",
      "text/plain": [
       "<Figure size 432x288 with 1 Axes>"
      ]
     },
     "metadata": {
      "needs_background": "light"
     },
     "output_type": "display_data"
    }
   ],
   "source": [
    "plt.scatter(lam_vec,err_nullSpace)\n",
    "plt.title(\"Difference in noiseless A matrix and noisy A matrix\")\n",
    "plt.xlabel(\"Noise level\")\n",
    "plt.ylabel(\"Noise in A matrix\")\n",
    "plt.xscale('log')\n",
    "plt.yscale('log')\n",
    "plt.plot(x,y,color = 'red')\n",
    "plt.show()"
   ]
  },
  {
   "cell_type": "code",
   "execution_count": 764,
   "metadata": {},
   "outputs": [
    {
     "data": {
      "image/png": "[encoded data removed]",
      "text/plain": [
       "<Figure size 432x288 with 1 Axes>"
      ]
     },
     "metadata": {
      "needs_background": "light"
     },
     "output_type": "display_data"
    }
   ],
   "source": [
    "plt.scatter(lam_vec, err_U_test)\n",
    "plt.title(\"Difference in kernel space of noiseless A and noisy A\")\n",
    "plt.xlabel(\"Noise level\")\n",
    "plt.ylabel(\"Noise in kernel space\")\n",
    "plt.xscale('log')\n",
    "plt.yscale('log')\n",
    "plt.plot(x,y,color = 'red')\n",
    "plt.show()"
   ]
  },
  {
   "cell_type": "code",
   "execution_count": 765,
   "metadata": {},
   "outputs": [
    {
     "data": {
      "image/png": "[encoded data removed]",
      "text/plain": [
       "<Figure size 432x288 with 1 Axes>"
      ]
     },
     "metadata": {
      "needs_background": "light"
     },
     "output_type": "display_data"
    }
   ],
   "source": [
    "plt.scatter(lam_vec, err_test)\n",
    "plt.title(\"Difference between true subspace and noiseless guess\")\n",
    "plt.xlabel(\"Noise level\")\n",
    "plt.ylabel(\"Error\")\n",
    "plt.xscale('log')\n",
    "plt.yscale('log')\n",
    "plt.show()"
   ]
  },
  {
   "cell_type": "code",
   "execution_count": 766,
   "metadata": {},
   "outputs": [
    {
     "data": {
      "image/png": "[encoded data removed]",
      "text/plain": [
       "<Figure size 432x288 with 1 Axes>"
      ]
     },
     "metadata": {
      "needs_background": "light"
     },
     "output_type": "display_data"
    }
   ],
   "source": [
    "x = np.linspace(low_b,upper_b,num)\n",
    "y = (2*np.sqrt(r))*x\n",
    "\n",
    "plt.scatter(lam_vec, err_noise_test)\n",
    "plt.title(\"Difference in true subspace and noisy guess\")\n",
    "plt.xlabel(\"Noise level\")\n",
    "plt.ylabel(\"Error\")\n",
    "plt.xscale('log')\n",
    "plt.yscale('log')\n",
    "plt.plot(x,y,color = 'red')\n",
    "plt.show()"
   ]
  },
  {
   "cell_type": "markdown",
   "metadata": {},
   "source": [
    "## Statistical analysis"
   ]
  },
  {
   "cell_type": "markdown",
   "metadata": {},
   "source": [
    "### Linear regression"
   ]
  },
  {
   "cell_type": "code",
   "execution_count": 771,
   "metadata": {},
   "outputs": [],
   "source": [
    "from sklearn.linear_model import LinearRegression\n",
    "\n",
    "lam_vec_reshape = lam_vec.reshape(-1,1)\n",
    "\n",
    "reg = LinearRegression().fit(lam_vec_reshape,err_noise_test)\n",
    "\n",
    "lam_vec_test = np.random.uniform(low_b,upper_b,num) # Vector that stores different noise values to test\n",
    "lam_vec_test = np.sort(lam_vec_test)\n",
    "lam_vec_test = lam_vec_test.reshape(-1,1)\n",
    "\n",
    "pred_err = reg.predict(lam_vec_test)"
   ]
  },
  {
   "cell_type": "code",
   "execution_count": 772,
   "metadata": {},
   "outputs": [
    {
     "data": {
      "image/png": "[encoded data removed]",
      "text/plain": [
       "<Figure size 432x288 with 1 Axes>"
      ]
     },
     "metadata": {
      "needs_background": "light"
     },
     "output_type": "display_data"
    }
   ],
   "source": [
    "x = np.linspace(low_b,upper_b,num)\n",
    "y = (2*np.sqrt(r))*x\n",
    "\n",
    "plt.scatter(lam_vec, err_noise_test)\n",
    "plt.plot(lam_vec, pred_err, '-', color = 'red')\n",
    "plt.title(\"Difference in true subspace and noisy guess\")\n",
    "plt.xlabel(\"Noise level\")\n",
    "plt.ylabel(\"Error\")\n",
    "plt.xscale('log')\n",
    "plt.yscale('log')\n",
    "plt.plot(x,y,color = 'green')\n",
    "plt.show()"
   ]
  },
  {
   "cell_type": "markdown",
   "metadata": {},
   "source": [
    "### PCA"
   ]
  },
  {
   "cell_type": "code",
   "execution_count": 798,
   "metadata": {},
   "outputs": [
    {
     "data": {
      "text/plain": [
       "PCA(n_components=1)"
      ]
     },
     "execution_count": 798,
     "metadata": {},
     "output_type": "execute_result"
    }
   ],
   "source": [
    "from sklearn.decomposition import PCA\n",
    "pca = PCA(n_components=1)\n",
    "\n",
    "lam_vec_reshape = lam_vec.reshape(-1,1)\n",
    "\n",
    "pca.fit(lam_vec_reshape, err_nullSpace)"
   ]
  },
  {
   "cell_type": "code",
   "execution_count": 799,
   "metadata": {},
   "outputs": [
    {
     "data": {
      "text/plain": [
       "array([[-1.]])"
      ]
     },
     "execution_count": 799,
     "metadata": {},
     "output_type": "execute_result"
    }
   ],
   "source": [
    "pca.components_"
   ]
  },
  {
   "cell_type": "code",
   "execution_count": 800,
   "metadata": {},
   "outputs": [
    {
     "data": {
      "text/plain": [
       "array([8.26228177e-06])"
      ]
     },
     "execution_count": 800,
     "metadata": {},
     "output_type": "execute_result"
    }
   ],
   "source": [
    "pca.explained_variance_"
   ]
  },
  {
   "cell_type": "code",
   "execution_count": null,
   "metadata": {},
   "outputs": [],
   "source": []
  }
 ],
 "metadata": {
  "kernelspec": {
   "display_name": "Python 3",
   "language": "python",
   "name": "python3"
  },
  "language_info": {
   "codemirror_mode": {
    "name": "ipython",
    "version": 3
   },
   "file_extension": ".py",
   "mimetype": "text/x-python",
   "name": "python",
   "nbconvert_exporter": "python",
   "pygments_lexer": "ipython3",
   "version": "3.8.5"
  }
 },
 "nbformat": 4,
 "nbformat_minor": 4
}
