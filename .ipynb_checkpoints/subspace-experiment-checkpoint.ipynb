{
 "cells": [
  {
   "cell_type": "markdown",
   "metadata": {},
   "source": [
    "## No noise\n",
    "\n",
    "First, we will just experiment with no noise to make sure we construct an accurate simulation of the original results"
   ]
  },
  {
   "cell_type": "code",
   "execution_count": 254,
   "metadata": {},
   "outputs": [
    {
     "name": "stdout",
     "output_type": "stream",
     "text": [
      "True space \n",
      " [[0.67093258 0.89821737]\n",
      " [0.64042976 0.30701097]\n",
      " [0.28608467 0.50076092]\n",
      " [0.68403292 0.23761359]\n",
      " [0.21450459 0.38483598]]\n"
     ]
    }
   ],
   "source": [
    "import numpy as np\n",
    "import matplotlib.pyplot as plt\n",
    "\n",
    "d = 5 #Number of columns \n",
    "r = 2 #Dimension of U*\n",
    "\n",
    "S = np.random.rand(d,r) #Random (true) subspace\n",
    "#S = np.array([[1,1],[1,2],[1,3],[1,4],[1,5]]) #Uncomment the left out for an example true space\n",
    "\n",
    "print(\"True space \\n\", S)"
   ]
  },
  {
   "cell_type": "code",
   "execution_count": 195,
   "metadata": {},
   "outputs": [
    {
     "name": "stdout",
     "output_type": "stream",
     "text": [
      "Binary matrix \n",
      " [[1 0 0]\n",
      " [1 1 0]\n",
      " [1 1 1]\n",
      " [0 1 1]\n",
      " [0 0 1]]\n"
     ]
    }
   ],
   "source": [
    "#Define the binary matrix W\n",
    "\n",
    "W = np.array([[1,0,0],[1,1,0],[1,1,1],[0,1,1],[0,0,1]])\n",
    "W_T = np.transpose(W)\n",
    "\n",
    "print(\"Binary matrix \\n\", W)"
   ]
  },
  {
   "cell_type": "code",
   "execution_count": 196,
   "metadata": {},
   "outputs": [
    {
     "name": "stdout",
     "output_type": "stream",
     "text": [
      "Matrix of projections of S onto lower dimensions \n",
      " [[0.36020448 0.81174441 0.00343882 0.03083398 0.71206153 0.19580106]\n",
      " [0.00343882 0.03083398 0.71206153 0.19580106 0.88745    0.47938507]\n",
      " [0.71206153 0.19580106 0.88745    0.47938507 0.72890392 0.33823715]]\n"
     ]
    }
   ],
   "source": [
    "#Computing the projections of S onto canonical coordinates\n",
    "\n",
    "\n",
    "S_0 = np.array([S[j,:] for j in range(np.shape(S)[0]) if W_T[0,j] == 1])    \n",
    "S_1 = np.array([S[j,:] for j in range(np.shape(S)[0]) if W_T[1,j] == 1])   \n",
    "S_2 = np.array([S[j,:] for j in range(np.shape(S)[0]) if W_T[2,j] == 1])\n",
    "\n",
    "S_proj = np.hstack((S_0,S_1,S_2))\n",
    "\n",
    "print(\"Matrix of projections of S onto lower dimensions \\n\", S_proj)"
   ]
  },
  {
   "cell_type": "code",
   "execution_count": 197,
   "metadata": {},
   "outputs": [
    {
     "name": "stdout",
     "output_type": "stream",
     "text": [
      "Matrix of basis vectors of the nullspace of projections \n",
      " [[-0.04189461 -0.98073555 -0.24585371]\n",
      " [ 0.99898795 -0.15048636 -0.4897674 ]\n",
      " [ 0.01636838  0.12454574  0.83647107]]\n"
     ]
    }
   ],
   "source": [
    "#Computing the nullspaces of the projections\n",
    "\n",
    "from scipy.linalg import null_space\n",
    "\n",
    "A_0 = null_space(S_0.T)\n",
    "A_1 = null_space(S_1.T)\n",
    "A_2 = null_space(S_2.T)\n",
    "\n",
    "A_temp = np.hstack((A_0,A_1,A_2)) \n",
    "\n",
    "print(\"Matrix of basis vectors of the nullspace of projections \\n\", A_temp)"
   ]
  },
  {
   "cell_type": "code",
   "execution_count": 198,
   "metadata": {},
   "outputs": [
    {
     "name": "stdout",
     "output_type": "stream",
     "text": [
      "Matrix whose kernel will be our guess \n",
      " [[-0.04189461  0.          0.        ]\n",
      " [ 0.99898795 -0.98073555  0.        ]\n",
      " [ 0.01636838 -0.15048636 -0.24585371]\n",
      " [ 0.          0.12454574 -0.4897674 ]\n",
      " [ 0.          0.          0.83647107]]\n"
     ]
    }
   ],
   "source": [
    "#Creating the matrix A whose null space will be the true subspace\n",
    "\n",
    "A = np.array(W, dtype = float)\n",
    "\n",
    "for j in range(A.shape[1]):\n",
    "    c = 0\n",
    "    for i in range(A.shape[0]):\n",
    "        if A[i,j] == 1:\n",
    "            A[i,j] = A_temp[c, j]\n",
    "            c+=1\n",
    "print(\"Matrix whose kernel will be our guess \\n\", A)"
   ]
  },
  {
   "cell_type": "code",
   "execution_count": 199,
   "metadata": {},
   "outputs": [
    {
     "name": "stdout",
     "output_type": "stream",
     "text": [
      "Basis of guessed space \n",
      " [[ 0.87592017 -0.42650062]\n",
      " [ 0.0351468  -0.02759646]\n",
      " [ 0.09683981  0.59263376]\n",
      " [ 0.39377328  0.49876027]\n",
      " [ 0.25902359  0.46621783]]\n"
     ]
    }
   ],
   "source": [
    "#Finding kernel space of A\n",
    "\n",
    "S_test = null_space(A.T)\n",
    "\n",
    "print(\"Basis of guessed space \\n\", S_test)"
   ]
  },
  {
   "cell_type": "code",
   "execution_count": 200,
   "metadata": {},
   "outputs": [
    {
     "name": "stdout",
     "output_type": "stream",
     "text": [
      "True projection [[ 9.49138919e-01  4.25556969e-02 -1.67934730e-01  1.32192390e-01\n",
      "   2.80417908e-02]\n",
      " [ 4.25556969e-02  1.99686208e-03 -1.29509860e-02  7.58508765e-05\n",
      "  -3.76211297e-03]\n",
      " [-1.67934730e-01 -1.29509860e-02  3.60592727e-01  3.33715106e-01\n",
      "   3.01380223e-01]\n",
      " [ 1.32192390e-01  7.58508765e-05  3.33715106e-01  4.03819204e-01\n",
      "   3.34527501e-01]\n",
      " [ 2.80417908e-02 -3.76211297e-03  3.01380223e-01  3.34527501e-01\n",
      "   2.84452287e-01]]\n",
      "Guessed projection [[ 9.49138919e-01  4.25556969e-02 -1.67934730e-01  1.32192390e-01\n",
      "   2.80417908e-02]\n",
      " [ 4.25556969e-02  1.99686208e-03 -1.29509860e-02  7.58508765e-05\n",
      "  -3.76211297e-03]\n",
      " [-1.67934730e-01 -1.29509860e-02  3.60592727e-01  3.33715106e-01\n",
      "   3.01380223e-01]\n",
      " [ 1.32192390e-01  7.58508765e-05  3.33715106e-01  4.03819204e-01\n",
      "   3.34527501e-01]\n",
      " [ 2.80417908e-02 -3.76211297e-03  3.01380223e-01  3.34527501e-01\n",
      "   2.84452287e-01]]\n",
      "Error 2.8441188268531104e-15\n"
     ]
    }
   ],
   "source": [
    "# Testing for whether the span of ker(A) is the same as column space of S - i.e. the true space\n",
    "# We test this by looking at the projection matrices \n",
    "# Error estimated with the ||P_true - P_test||_F, the frobenius norm of the difference in Projection matrices\n",
    "\n",
    "P_test = np.dot(S_test,np.dot(np.linalg.inv(np.dot(S_test.T,S_test)), S_test.T))\n",
    "\n",
    "P_true = np.dot(S,np.dot(np.linalg.inv(np.dot(S.T,S)), S.T))\n",
    "\n",
    "error = np.linalg.norm(P_true - P_test, 'fro') \n",
    "\n",
    "print (\"True projection\", P_true)\n",
    "print (\"Guessed projection\", P_test)\n",
    "\n",
    "print (\"Error\", error)"
   ]
  },
  {
   "cell_type": "markdown",
   "metadata": {},
   "source": [
    "## With noise \n",
    "\n",
    "Now we will perform the same experiment, but we will add noise into the mix and see how the noise translates through every step."
   ]
  },
  {
   "cell_type": "code",
   "execution_count": 213,
   "metadata": {},
   "outputs": [
    {
     "name": "stdout",
     "output_type": "stream",
     "text": [
      "True space \n",
      " [[0.17328641 0.44445122]\n",
      " [0.71631274 0.2950438 ]\n",
      " [0.95255272 0.24459229]\n",
      " [0.76615848 0.36997621]\n",
      " [0.18916089 0.51759078]]\n"
     ]
    }
   ],
   "source": [
    "d = 5 #Number of columns \n",
    "r = 2 #Dimension of U*\n",
    "\n",
    "\n",
    "S = np.random.rand(d,r) #Random (true) subspace\n",
    "#S = np.array([[1,1],[1,2],[1,3],[1,4],[1,5]]) #Uncomment the left out for an example true space\n",
    "\n",
    "print(\"True space \\n\", S)"
   ]
  },
  {
   "cell_type": "code",
   "execution_count": 214,
   "metadata": {},
   "outputs": [
    {
     "name": "stdout",
     "output_type": "stream",
     "text": [
      "Binary matrix \n",
      " [[1 0 0]\n",
      " [1 1 0]\n",
      " [1 1 1]\n",
      " [0 1 1]\n",
      " [0 0 1]]\n"
     ]
    }
   ],
   "source": [
    "#Define the binary matrix W\n",
    "\n",
    "W = np.array([[1,0,0],[1,1,0],[1,1,1],[0,1,1],[0,0,1]])\n",
    "W_T = np.transpose(W)\n",
    "\n",
    "print(\"Binary matrix \\n\", W)"
   ]
  },
  {
   "cell_type": "code",
   "execution_count": 215,
   "metadata": {},
   "outputs": [
    {
     "name": "stdout",
     "output_type": "stream",
     "text": [
      "Projections of S onto lower dimensions w/o noise \n",
      " [[0.17328641 0.44445122 0.71631274 0.2950438  0.95255272 0.24459229]\n",
      " [0.71631274 0.2950438  0.95255272 0.24459229 0.76615848 0.36997621]\n",
      " [0.95255272 0.24459229 0.76615848 0.36997621 0.18916089 0.51759078]]\n",
      "Projections of S onto lower dimensions w/ noise \n",
      " [[0.1741155  0.44454919 0.7190927  0.29727065 0.96926341 0.23973021]\n",
      " [0.71233581 0.28830104 0.96382386 0.2431164  0.75932623 0.36291469]\n",
      " [0.96095111 0.22659749 0.76352315 0.37775182 0.19186738 0.52036678]]\n"
     ]
    }
   ],
   "source": [
    "# Computing the projections of S onto canonical coordinates\n",
    "\n",
    "# No noise Version\n",
    "\n",
    "S_0 = np.array([S[j,:] for j in range(np.shape(S)[0]) if W_T[0,j] == 1])  \n",
    "S_1 = np.array([S[j,:] for j in range(np.shape(S)[0]) if W_T[1,j] == 1])\n",
    "S_2 = np.array([S[j,:] for j in range(np.shape(S)[0]) if W_T[2,j] == 1])\n",
    "\n",
    "S_proj = np.hstack((S_0,S_1,S_2))\n",
    "\n",
    "# Creating the noisy versions\n",
    "\n",
    "mu = 0 # mean\n",
    "sigma = 1 # standard deviation\n",
    "lam = 1e-2 # noise level\n",
    "\n",
    "#Adding noise from a Gaussian distribution\n",
    "\n",
    "S_0_noise = S_0 + np.random.normal(mu, sigma, (d-r,r))*lam\n",
    "S_1_noise = S_1 + np.random.normal(mu, sigma, (d-r,r))*lam\n",
    "S_2_noise = S_2 + np.random.normal(mu, sigma, (d-r,r))*lam\n",
    "\n",
    "S_proj_noise = np.hstack((S_0_noise,S_1_noise,S_2_noise))\n",
    "\n",
    "\n",
    "print(\"Projections of S onto lower dimensions w/o noise \\n\", S_proj)\n",
    "print(\"Projections of S onto lower dimensions w/ noise \\n\", S_proj_noise)"
   ]
  },
  {
   "cell_type": "code",
   "execution_count": 216,
   "metadata": {},
   "outputs": [
    {
     "name": "stdout",
     "output_type": "stream",
     "text": [
      "Basis vectors of the nullspace of projections w/o noise \n",
      " [[ 0.22177292 -0.82560117  0.56551282]\n",
      " [-0.79828605  0.19495379 -0.77364812]\n",
      " [ 0.55996085  0.52950517  0.28576885]]\n",
      "Basis vectors of the nullspace of projections w/ noise \n",
      " [[ 0.23867014 -0.82921114  0.55427174]\n",
      " [-0.80032192  0.20753624 -0.78054536]\n",
      " [ 0.55001944  0.51897744  0.28901864]]\n"
     ]
    }
   ],
   "source": [
    "# Computing the nullspaces of the projections\n",
    "\n",
    "# No noise version\n",
    "\n",
    "A_0 = null_space(S_0.T)\n",
    "A_1 = null_space(S_1.T)\n",
    "A_2 = null_space(S_2.T)\n",
    "\n",
    "A_temp = np.hstack((A_0,A_1,A_2)) \n",
    "\n",
    "# Noisy version\n",
    "\n",
    "A_0_noise = null_space(S_0_noise.T)\n",
    "A_1_noise = null_space(S_1_noise.T)\n",
    "A_2_noise = null_space(S_2_noise.T)\n",
    "\n",
    "A_temp_noise = np.hstack((A_0_noise,A_1_noise,A_2_noise)) \n",
    "\n",
    "\n",
    "\n",
    "print(\"Basis vectors of the nullspace of projections w/o noise \\n\", A_temp)\n",
    "print(\"Basis vectors of the nullspace of projections w/ noise \\n\", A_temp_noise)"
   ]
  },
  {
   "cell_type": "code",
   "execution_count": 217,
   "metadata": {},
   "outputs": [
    {
     "data": {
      "text/plain": [
       "array([[-0.01689722,  0.00360997,  0.01124108],\n",
       "       [ 0.00203587, -0.01258246,  0.00689724],\n",
       "       [ 0.00994141,  0.01052773, -0.00324979]])"
      ]
     },
     "execution_count": 217,
     "metadata": {},
     "output_type": "execute_result"
    }
   ],
   "source": [
    "A_temp-A_temp_noise"
   ]
  },
  {
   "cell_type": "code",
   "execution_count": 218,
   "metadata": {},
   "outputs": [
    {
     "name": "stdout",
     "output_type": "stream",
     "text": [
      "Matrix whose kernel will be our guess w/o noise \n",
      " [[ 0.22177292  0.          0.        ]\n",
      " [-0.79828605 -0.82560117  0.        ]\n",
      " [ 0.55996085  0.19495379  0.56551282]\n",
      " [ 0.          0.52950517 -0.77364812]\n",
      " [ 0.          0.          0.28576885]]\n",
      "Matrix whose kernel will be our guess w/ noise \n",
      " [[ 0.23867014  0.          0.        ]\n",
      " [-0.80032192 -0.82921114  0.        ]\n",
      " [ 0.55001944  0.20753624  0.55427174]\n",
      " [ 0.          0.51897744 -0.78054536]\n",
      " [ 0.          0.          0.28901864]]\n"
     ]
    }
   ],
   "source": [
    "#Creating the matrix A whose null space will be the true subspace\n",
    "\n",
    "# No noise version\n",
    "\n",
    "A = np.array(W, dtype = float) \n",
    "\n",
    "for j in range(A.shape[1]):\n",
    "    c = 0\n",
    "    for i in range(A.shape[0]):\n",
    "        if A[i,j] == 1:\n",
    "            A[i,j] = A_temp[c, j]\n",
    "            c+=1\n",
    "            \n",
    "# Noisy version\n",
    "            \n",
    "A_noise = np.array(W, dtype = float) \n",
    "\n",
    "for j in range(A_noise.shape[1]):\n",
    "    c = 0\n",
    "    for i in range(A_noise.shape[0]):\n",
    "        if A_noise[i,j] == 1:\n",
    "            A_noise[i,j] = A_temp_noise[c, j]\n",
    "            c+=1       \n",
    "\n",
    "            \n",
    "print(\"Matrix whose kernel will be our guess w/o noise \\n\", A)\n",
    "print(\"Matrix whose kernel will be our guess w/ noise \\n\", A_noise)"
   ]
  },
  {
   "cell_type": "code",
   "execution_count": 219,
   "metadata": {
    "scrolled": true
   },
   "outputs": [
    {
     "data": {
      "text/plain": [
       "array([[-0.01689722,  0.        ,  0.        ],\n",
       "       [ 0.00203587,  0.00360997,  0.        ],\n",
       "       [ 0.00994141, -0.01258246,  0.01124108],\n",
       "       [ 0.        ,  0.01052773,  0.00689724],\n",
       "       [ 0.        ,  0.        , -0.00324979]])"
      ]
     },
     "execution_count": 219,
     "metadata": {},
     "output_type": "execute_result"
    }
   ],
   "source": [
    "A - A_noise"
   ]
  },
  {
   "cell_type": "code",
   "execution_count": 220,
   "metadata": {},
   "outputs": [
    {
     "data": {
      "text/plain": [
       "0.029243305854851114"
      ]
     },
     "execution_count": 220,
     "metadata": {},
     "output_type": "execute_result"
    }
   ],
   "source": [
    "np.linalg.norm(A-A_noise, 'fro')"
   ]
  },
  {
   "cell_type": "code",
   "execution_count": 221,
   "metadata": {},
   "outputs": [
    {
     "name": "stdout",
     "output_type": "stream",
     "text": [
      "Basis of guessed space w/o noise \n",
      " [[ 0.17301496  0.60569701]\n",
      " [ 0.49321591 -0.07085273]\n",
      " [ 0.63461104 -0.34089515]\n",
      " [ 0.53536739  0.01503801]\n",
      " [ 0.19353157  0.71531488]]\n",
      "Basis of guessed space w/ noise \n",
      " [[ 0.16656633  0.56884123]\n",
      " [ 0.49172151 -0.06720234]\n",
      " [ 0.64321562 -0.34462223]\n",
      " [ 0.52844378  0.03043807]\n",
      " [ 0.19361416  0.74311005]]\n"
     ]
    }
   ],
   "source": [
    "#Finding kernel space of A\n",
    "\n",
    "S_test = null_space(A.T) # No noise\n",
    "S_test_noise = null_space(A_noise.T) # With noise\n",
    "\n",
    "print(\"Basis of guessed space w/o noise \\n\", S_test)\n",
    "print(\"Basis of guessed space w/ noise \\n\", S_test_noise)"
   ]
  },
  {
   "cell_type": "code",
   "execution_count": 222,
   "metadata": {
    "scrolled": true
   },
   "outputs": [
    {
     "data": {
      "text/plain": [
       "array([[ 6.44863424e-03,  3.68557832e-02],\n",
       "       [ 1.49439444e-03, -3.65038661e-03],\n",
       "       [-8.60457608e-03,  3.72707751e-03],\n",
       "       [ 6.92360871e-03, -1.54000593e-02],\n",
       "       [-8.25945167e-05, -2.77951712e-02]])"
      ]
     },
     "execution_count": 222,
     "metadata": {},
     "output_type": "execute_result"
    }
   ],
   "source": [
    "S_test - S_test_noise"
   ]
  },
  {
   "cell_type": "code",
   "execution_count": 223,
   "metadata": {},
   "outputs": [
    {
     "data": {
      "text/plain": [
       "0.05060729748098856"
      ]
     },
     "execution_count": 223,
     "metadata": {},
     "output_type": "execute_result"
    }
   ],
   "source": [
    "np.linalg.norm(S_test - S_test_noise, 'fro')"
   ]
  },
  {
   "cell_type": "code",
   "execution_count": 224,
   "metadata": {
    "scrolled": true
   },
   "outputs": [
    {
     "name": "stdout",
     "output_type": "stream",
     "text": [
      "True projection [[ 0.39680305  0.04241845 -0.09668197  0.10173505  0.46674794]\n",
      " [ 0.04241845  0.24828204  0.33715361  0.26298623  0.04477084]\n",
      " [-0.09668197  0.33715361  0.51894068  0.33462367 -0.1210301 ]\n",
      " [ 0.10173505  0.26298623  0.33462367  0.28684439  0.11436741]\n",
      " [ 0.46674794  0.04477084 -0.1210301   0.11436741  0.54912984]]\n",
      "Guessed projection w/o noise [[ 0.39680305  0.04241845 -0.09668197  0.10173505  0.46674794]\n",
      " [ 0.04241845  0.24828204  0.33715361  0.26298623  0.04477084]\n",
      " [-0.09668197  0.33715361  0.51894068  0.33462367 -0.1210301 ]\n",
      " [ 0.10173505  0.26298623  0.33462367  0.28684439  0.11436741]\n",
      " [ 0.46674794  0.04477084 -0.1210301   0.11436741  0.54912984]]\n",
      "Guessed projection w/ noise [[ 0.35132469  0.04367679 -0.08889727  0.10533537  0.45496124]\n",
      " [ 0.04367679  0.2463062   0.33944238  0.25780167  0.04526551]\n",
      " [-0.08889727  0.33944238  0.53249081  0.32941366 -0.13155659]\n",
      " [ 0.10533537  0.25780167  0.32941366  0.28017931  0.12493304]\n",
      " [ 0.45496124  0.04526551 -0.13155659  0.12493304  0.58969899]]\n",
      "Error w/o noise 9.929166825730274e-16\n",
      "Error w/ noise 0.07027169480085797\n"
     ]
    }
   ],
   "source": [
    "# Testing for whether the span of ker(A) is the same as column space of S - i.e. the true space\n",
    "# We test this by looking at the projection matrices \n",
    "# Error estimated with the ||P_true - P_test||_F, the frobenius norm of the difference in Projection matrices\n",
    "\n",
    "P_test = np.dot(S_test,np.dot(np.linalg.inv(np.dot(S_test.T,S_test)), S_test.T))\n",
    "P_test_noise = np.dot(S_test_noise,np.dot(np.linalg.inv(np.dot(S_test_noise.T,S_test_noise)), S_test_noise.T))\n",
    "P_true = np.dot(S,np.dot(np.linalg.inv(np.dot(S.T,S)), S.T))\n",
    "\n",
    "error = np.linalg.norm(P_true - P_test, 'fro') \n",
    "error_noise = np.linalg.norm(P_true - P_test_noise, 'fro') \n",
    "\n",
    "print (\"True projection\", P_true)\n",
    "print (\"Guessed projection w/o noise\", P_test)\n",
    "print (\"Guessed projection w/ noise\", P_test_noise)\n",
    "\n",
    "print (\"Error w/o noise\", error)\n",
    "print (\"Error w/ noise\", error_noise)"
   ]
  },
  {
   "cell_type": "markdown",
   "metadata": {},
   "source": [
    "## Experiments"
   ]
  },
  {
   "cell_type": "code",
   "execution_count": 227,
   "metadata": {},
   "outputs": [],
   "source": [
    "def Errors(d_, r_, U_, W_, lam_):\n",
    "\n",
    "    # Computing the projections of S onto canonical coordinates\n",
    "\n",
    "    # No noise Version\n",
    "\n",
    "    U_0 = np.array([U_[j,:] for j in range(np.shape(U_)[0]) if W_.T[0,j] == 1])  \n",
    "    U_1 = np.array([U_[j,:] for j in range(np.shape(U_)[0]) if W_.T[1,j] == 1])\n",
    "    U_2 = np.array([U_[j,:] for j in range(np.shape(U_)[0]) if W_.T[2,j] == 1])\n",
    "\n",
    "    U_proj = np.hstack((U_0,U_1,U_2))\n",
    "\n",
    "    # Creating the noisy versions\n",
    "\n",
    "    mu = 0 # mean\n",
    "    sigma = 1 # standard deviation\n",
    "\n",
    "    #Adding noise from a Gaussian distribution\n",
    "\n",
    "    U_0_noise = U_0 + np.random.normal(mu, sigma, (d_-r_,r_))*lam_\n",
    "    U_1_noise = U_1 + np.random.normal(mu, sigma, (d_-r_,r_))*lam_\n",
    "    U_2_noise = U_2 + np.random.normal(mu, sigma, (d_-r_,r_))*lam_\n",
    "\n",
    "    U_proj_noise = np.hstack((U_0_noise,U_1_noise,U_2_noise))\n",
    "\n",
    "\n",
    "    # Computing the nullspaces of the projections\n",
    "\n",
    "    # No noise version\n",
    "\n",
    "    a_0 = null_space(U_0.T)\n",
    "    a_1 = null_space(U_1.T)\n",
    "    a_2 = null_space(U_2.T)\n",
    "\n",
    "    a_temp = np.hstack((a_0,a_1,a_2)) \n",
    "\n",
    "    # Noisy version\n",
    "\n",
    "    a_0_noise = null_space(U_0_noise.T)\n",
    "    a_1_noise = null_space(U_1_noise.T)\n",
    "    a_2_noise = null_space(U_2_noise.T)\n",
    "\n",
    "    a_temp_noise = np.hstack((a_0_noise,a_1_noise,a_2_noise)) \n",
    "    \n",
    "    #Creating the matrix A whose null space will be the true subspace\n",
    "\n",
    "    # No noise version\n",
    "\n",
    "    A_ = np.array(W_, dtype = float) \n",
    "\n",
    "    for j in range(A_.shape[1]):\n",
    "        c = 0\n",
    "        for i in range(A_.shape[0]):\n",
    "            if A_[i,j] == 1:\n",
    "                A_[i,j] = a_temp[c, j]\n",
    "                c+=1\n",
    "\n",
    "    # Noisy version\n",
    "\n",
    "    Anoise_ = np.array(W_, dtype = float) \n",
    "\n",
    "    for j in range(Anoise_.shape[1]):\n",
    "        c = 0\n",
    "        for i in range(Anoise_.shape[0]):\n",
    "            if Anoise_[i,j] == 1:\n",
    "                Anoise_[i,j] = a_temp_noise[c, j]\n",
    "                c+=1       \n",
    "\n",
    "    error_A = np.linalg.norm(A_-Anoise_, 'fro')\n",
    "    \n",
    "    #Finding kernel space of A\n",
    "\n",
    "    U_test = null_space(A_.T) # No noise\n",
    "    U_test_noise = null_space(Anoise_.T) # With noise\n",
    "\n",
    "    \n",
    "    error_U_test = np.linalg.norm(U_test - U_test_noise, 'fro')\n",
    "    \n",
    "    # Testing for whether the span of ker(A) is the same as column space of S - i.e. the true space\n",
    "    # We test this by looking at the projection matrices \n",
    "    # Error estimated with the ||Proj_true - Proj_test||_F, the frobenius norm of the difference in Projection matrices\n",
    "\n",
    "    Proj_test = np.dot(U_test,np.dot(np.linalg.inv(np.dot(U_test.T,U_test)), U_test.T))\n",
    "    Proj_test_noise = np.dot(U_test_noise,np.dot(np.linalg.inv(np.dot(U_test_noise.T,U_test_noise)), U_test_noise.T))\n",
    "    Proj_true = np.dot(U_,np.dot(np.linalg.inv(np.dot(U_.T,U_)), U_.T))\n",
    "\n",
    "    error_test = np.linalg.norm(Proj_true - Proj_test, 'fro') \n",
    "    error_noise_test = np.linalg.norm(Proj_true - Proj_test_noise, 'fro') \n",
    "\n",
    "    return error_A, error_U_test, error_test, error_noise_test"
   ]
  },
  {
   "cell_type": "code",
   "execution_count": null,
   "metadata": {},
   "outputs": [],
   "source": [
    "d = 5 #Number of columns \n",
    "r = 2 #Dimension of U\n",
    "\n",
    "S = np.random.rand(d,r) #Random (true) subspace\n",
    "#S = np.array([[1,1],[1,2],[1,3],[1,4],[1,5]]) #Uncomment the left out for an example true space\n",
    "\n",
    "W = np.array([[1,0,0],[1,1,0],[1,1,1],[0,1,1],[0,0,1]])\n",
    "\n",
    "low_b = 1e-5 #Lower bound of noise\n",
    "upper_b = 1e-2 #Upper bound of noise\n",
    "n = 100 # Number of experiments"
   ]
  },
  {
   "cell_type": "code",
   "execution_count": null,
   "metadata": {},
   "outputs": [],
   "source": [
    "#lam_vec = np.random.uniform(low_b,upper_b,n)\n",
    "lam_vec = np.arange(low_b,upper_b,step)"
   ]
  },
  {
   "cell_type": "code",
   "execution_count": 276,
   "metadata": {},
   "outputs": [
    {
     "data": {
      "text/plain": [
       "array([1.0000000e-05, 1.0000100e-05, 1.0000200e-05, ..., 9.9999997e-03,\n",
       "       9.9999998e-03, 9.9999999e-03])"
      ]
     },
     "execution_count": 276,
     "metadata": {},
     "output_type": "execute_result"
    }
   ],
   "source": [
    "lam_vec"
   ]
  },
  {
   "cell_type": "code",
   "execution_count": 247,
   "metadata": {},
   "outputs": [],
   "source": [
    "err_A = np.empty(n, dtype = float) #Stores error in kernel spaces for each experiment (no noise vs noise)\n",
    "err_U_test = np.empty(n, dtype = float) #Stores error in kernel spaces of A, i.e. errors in 'guesses' (no noise vs noise)\n",
    "err_test = np.empty(n, dtype = float) #Stores error in the difference between true projection and no noise guess\n",
    "err_noise_test = np.empty(n, dtype = float) # Stores error in difference between true projection and noise guess\n",
    "\n",
    "c = 0\n",
    "for lam in lam_vec:\n",
    "    err_A[c], err_U_test[c], err_test[c], err_noise_test[c] = Errors(d,r,S,W,lam)\n",
    "    c+=1\n"
   ]
  },
  {
   "cell_type": "code",
   "execution_count": 248,
   "metadata": {},
   "outputs": [
    {
     "data": {
      "text/plain": [
       "array([0.06018999, 0.08812843, 0.07288033, 0.04981628, 0.00285023,\n",
       "       0.07701784, 0.01155396, 0.01937985, 0.01289926, 0.01399991,\n",
       "       0.00502041, 0.09312647, 0.06688095, 0.00677285, 0.02797746,\n",
       "       0.0076313 , 0.08893945, 0.13169185, 0.03529522, 0.05100227,\n",
       "       0.01346413, 0.1219935 , 0.01761792, 0.03698233, 0.01056895,\n",
       "       0.06791969, 0.06029328, 0.04214707, 0.06519753, 0.07590108,\n",
       "       0.08897413, 0.00411079, 0.01229966, 0.00225875, 0.04058878,\n",
       "       0.013831  , 0.01170504, 0.00697125, 0.1342396 , 0.00846649,\n",
       "       0.1724526 , 0.01878712, 0.01507384, 0.02844276, 0.01082091,\n",
       "       0.01723899, 0.01144027, 0.05590655, 0.07863881, 0.10535688,\n",
       "       0.04643191, 0.01976898, 0.1446011 , 0.0717512 , 0.037274  ,\n",
       "       0.00369255, 0.22571037, 0.15166409, 0.04851844, 0.03223907,\n",
       "       0.07302287, 0.09647788, 0.15416331, 0.08749903, 0.08909319,\n",
       "       0.04960326, 0.15638882, 0.03707612, 0.06122108, 0.12100014,\n",
       "       0.00440534, 0.02284775, 0.0052556 , 0.00810916, 0.07144391,\n",
       "       0.02745166, 0.02946385, 0.04565492, 0.01124729, 0.11205255,\n",
       "       0.04477737, 0.03254502, 0.00361254, 0.01790102, 0.05866324,\n",
       "       0.04947561, 0.0040434 , 0.03798484, 0.0553733 , 0.08097114,\n",
       "       0.00580272, 0.01969954, 0.05870633, 0.0282943 , 0.07643168,\n",
       "       0.08416714, 0.03317002, 0.106461  , 0.02996827, 0.09347406])"
      ]
     },
     "execution_count": 248,
     "metadata": {},
     "output_type": "execute_result"
    }
   ],
   "source": [
    "err_A"
   ]
  },
  {
   "cell_type": "code",
   "execution_count": 249,
   "metadata": {},
   "outputs": [
    {
     "data": {
      "text/plain": [
       "array([0.16030438, 0.06300815, 0.13226033, 0.11775314, 0.00308854,\n",
       "       0.0376901 , 0.02643085, 0.03148556, 0.0063484 , 0.02353859,\n",
       "       0.00926195, 0.30161879, 0.12732836, 0.00859601, 0.05938395,\n",
       "       0.01865907, 0.12670395, 0.18713003, 0.10092704, 0.13485504,\n",
       "       0.01743992, 0.07208679, 0.03834587, 0.06090453, 0.01164751,\n",
       "       0.14166532, 0.14072923, 0.08988325, 0.18568284, 0.22917912,\n",
       "       0.324421  , 0.00394519, 0.03666954, 0.00392736, 0.11736567,\n",
       "       0.01332964, 0.03393161, 0.0134588 , 0.21413721, 0.01718693,\n",
       "       0.81812203, 0.08100136, 0.02392574, 0.05766761, 0.031008  ,\n",
       "       0.0449732 , 0.01826157, 0.14255664, 0.03276216, 0.12454108,\n",
       "       0.07596044, 0.03835474, 0.19650836, 0.20687401, 0.0582186 ,\n",
       "       0.0100422 , 0.1385455 , 0.07776486, 0.02844173, 0.05607925,\n",
       "       0.09241879, 0.18869963, 0.18541159, 0.15372295, 0.13582394,\n",
       "       0.04322313, 0.67650415, 0.10436216, 0.06287651, 0.43347752,\n",
       "       0.00491108, 0.01899178, 0.0134451 , 0.00383666, 0.0520681 ,\n",
       "       0.04991868, 0.06689592, 0.11575867, 0.02497079, 0.3891865 ,\n",
       "       0.06111325, 0.08155246, 0.00619257, 0.05020443, 0.03786949,\n",
       "       0.13958639, 0.01074025, 0.04713718, 0.11787657, 0.09655949,\n",
       "       0.00858073, 0.05174602, 0.16549827, 0.02561946, 0.04207133,\n",
       "       0.21993286, 0.03160745, 0.24423206, 0.07052718, 0.17984427])"
      ]
     },
     "execution_count": 249,
     "metadata": {},
     "output_type": "execute_result"
    }
   ],
   "source": [
    "err_U_test"
   ]
  },
  {
   "cell_type": "code",
   "execution_count": 250,
   "metadata": {},
   "outputs": [
    {
     "data": {
      "text/plain": [
       "array([1.68774019e-15, 1.68774019e-15, 1.68774019e-15, 1.68774019e-15,\n",
       "       1.68774019e-15, 1.68774019e-15, 1.68774019e-15, 1.68774019e-15,\n",
       "       1.68774019e-15, 1.68774019e-15, 1.68774019e-15, 1.68774019e-15,\n",
       "       1.68774019e-15, 1.68774019e-15, 1.68774019e-15, 1.68774019e-15,\n",
       "       1.68774019e-15, 1.68774019e-15, 1.68774019e-15, 1.68774019e-15,\n",
       "       1.68774019e-15, 1.68774019e-15, 1.68774019e-15, 1.68774019e-15,\n",
       "       1.68774019e-15, 1.68774019e-15, 1.68774019e-15, 1.68774019e-15,\n",
       "       1.68774019e-15, 1.68774019e-15, 1.68774019e-15, 1.68774019e-15,\n",
       "       1.68774019e-15, 1.68774019e-15, 1.68774019e-15, 1.68774019e-15,\n",
       "       1.68774019e-15, 1.68774019e-15, 1.68774019e-15, 1.68774019e-15,\n",
       "       1.68774019e-15, 1.68774019e-15, 1.68774019e-15, 1.68774019e-15,\n",
       "       1.68774019e-15, 1.68774019e-15, 1.68774019e-15, 1.68774019e-15,\n",
       "       1.68774019e-15, 1.68774019e-15, 1.68774019e-15, 1.68774019e-15,\n",
       "       1.68774019e-15, 1.68774019e-15, 1.68774019e-15, 1.68774019e-15,\n",
       "       1.68774019e-15, 1.68774019e-15, 1.68774019e-15, 1.68774019e-15,\n",
       "       1.68774019e-15, 1.68774019e-15, 1.68774019e-15, 1.68774019e-15,\n",
       "       1.68774019e-15, 1.68774019e-15, 1.68774019e-15, 1.68774019e-15,\n",
       "       1.68774019e-15, 1.68774019e-15, 1.68774019e-15, 1.68774019e-15,\n",
       "       1.68774019e-15, 1.68774019e-15, 1.68774019e-15, 1.68774019e-15,\n",
       "       1.68774019e-15, 1.68774019e-15, 1.68774019e-15, 1.68774019e-15,\n",
       "       1.68774019e-15, 1.68774019e-15, 1.68774019e-15, 1.68774019e-15,\n",
       "       1.68774019e-15, 1.68774019e-15, 1.68774019e-15, 1.68774019e-15,\n",
       "       1.68774019e-15, 1.68774019e-15, 1.68774019e-15, 1.68774019e-15,\n",
       "       1.68774019e-15, 1.68774019e-15, 1.68774019e-15, 1.68774019e-15,\n",
       "       1.68774019e-15, 1.68774019e-15, 1.68774019e-15, 1.68774019e-15])"
      ]
     },
     "execution_count": 250,
     "metadata": {},
     "output_type": "execute_result"
    }
   ],
   "source": [
    "err_test"
   ]
  },
  {
   "cell_type": "code",
   "execution_count": 251,
   "metadata": {},
   "outputs": [
    {
     "data": {
      "text/plain": [
       "array([0.20473278, 0.06606006, 0.16444006, 0.14634107, 0.00433684,\n",
       "       0.03952034, 0.03627842, 0.03968459, 0.00733643, 0.02682027,\n",
       "       0.0126562 , 0.35230599, 0.16534936, 0.01017493, 0.0820305 ,\n",
       "       0.02371385, 0.15276509, 0.22053816, 0.12856767, 0.15406974,\n",
       "       0.02023653, 0.10080475, 0.05225507, 0.07322813, 0.01265979,\n",
       "       0.17185694, 0.17940652, 0.126633  , 0.23044152, 0.28041917,\n",
       "       0.39105499, 0.00435444, 0.04748065, 0.00443572, 0.15478881,\n",
       "       0.01322126, 0.04340789, 0.0160318 , 0.25285635, 0.0172763 ,\n",
       "       0.95631482, 0.08108994, 0.03362881, 0.07226378, 0.03984776,\n",
       "       0.06291881, 0.02357185, 0.17873431, 0.04609227, 0.1694312 ,\n",
       "       0.10552942, 0.0479544 , 0.25302368, 0.25119688, 0.07054133,\n",
       "       0.01323622, 0.1527114 , 0.10063966, 0.03994625, 0.07750485,\n",
       "       0.12885126, 0.21507893, 0.237568  , 0.21246179, 0.18164734,\n",
       "       0.06109072, 0.74998154, 0.14399848, 0.08610583, 0.53645722,\n",
       "       0.006945  , 0.02664542, 0.01608559, 0.00427861, 0.06803151,\n",
       "       0.06838604, 0.08211351, 0.14691254, 0.03094442, 0.48406995,\n",
       "       0.08415985, 0.09932013, 0.00680679, 0.06243421, 0.05139376,\n",
       "       0.19678615, 0.01475109, 0.06256236, 0.14523922, 0.12456805,\n",
       "       0.01071947, 0.05860682, 0.1914415 , 0.03578557, 0.05480685,\n",
       "       0.26214986, 0.04469556, 0.30836853, 0.09244799, 0.21729055])"
      ]
     },
     "execution_count": 251,
     "metadata": {},
     "output_type": "execute_result"
    }
   ],
   "source": [
    "err_noise_test"
   ]
  },
  {
   "cell_type": "code",
   "execution_count": 255,
   "metadata": {},
   "outputs": [
    {
     "data": {
      "image/png": "[encoded data removed]",
      "text/plain": [
       "<Figure size 432x288 with 1 Axes>"
      ]
     },
     "metadata": {
      "needs_background": "light"
     },
     "output_type": "display_data"
    }
   ],
   "source": [
    "plt.scatter(err_A,err_U_test)\n",
    "plt.show()"
   ]
  },
  {
   "cell_type": "code",
   "execution_count": 259,
   "metadata": {},
   "outputs": [],
   "source": [
    "X = np.arange(1,n+1)"
   ]
  },
  {
   "cell_type": "code",
   "execution_count": 260,
   "metadata": {},
   "outputs": [
    {
     "data": {
      "text/plain": [
       "<matplotlib.collections.PathCollection at 0x119d54c40>"
      ]
     },
     "execution_count": 260,
     "metadata": {},
     "output_type": "execute_result"
    },
    {
     "data": {
      "image/png": "[encoded data removed]",
      "text/plain": [
       "<Figure size 432x288 with 1 Axes>"
      ]
     },
     "metadata": {
      "needs_background": "light"
     },
     "output_type": "display_data"
    }
   ],
   "source": [
    "plt.scatter(X,err_A)"
   ]
  },
  {
   "cell_type": "code",
   "execution_count": null,
   "metadata": {},
   "outputs": [],
   "source": []
  }
 ],
 "metadata": {
  "kernelspec": {
   "display_name": "Python 3",
   "language": "python",
   "name": "python3"
  },
  "language_info": {
   "codemirror_mode": {
    "name": "ipython",
    "version": 3
   },
   "file_extension": ".py",
   "mimetype": "text/x-python",
   "name": "python",
   "nbconvert_exporter": "python",
   "pygments_lexer": "ipython3",
   "version": "3.8.5"
  }
 },
 "nbformat": 4,
 "nbformat_minor": 4
}
