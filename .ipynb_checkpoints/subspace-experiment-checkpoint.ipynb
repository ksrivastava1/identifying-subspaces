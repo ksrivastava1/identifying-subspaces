{
 "cells": [
  {
   "cell_type": "markdown",
   "metadata": {},
   "source": [
    "## No noise\n",
    "\n",
    "First, we will just experiment with no noise to make sure we construct an accurate simulation of the original results"
   ]
  },
  {
   "cell_type": "code",
   "execution_count": 63,
   "metadata": {
    "scrolled": true
   },
   "outputs": [
    {
     "name": "stdout",
     "output_type": "stream",
     "text": [
      "True space \n",
      " [[0.12718199 0.051814  ]\n",
      " [0.80651846 0.34109856]\n",
      " [0.02723722 0.6114874 ]\n",
      " [0.80121541 0.52594973]\n",
      " [0.66877522 0.2829144 ]]\n"
     ]
    }
   ],
   "source": [
    "import numpy as np\n",
    "import matplotlib.pyplot as plt\n",
    "import math\n",
    "\n",
    "m = 5 #Number of columns \n",
    "r = 2 #Dimension of U*\n",
    "\n",
    "U = np.random.rand(m,r) #Random (true) subspace\n",
    "#U = np.array([[1,1],[1,2],[1,3],[1,4],[1,5]]) #Example true space\n",
    "\n",
    "print(\"True space \\n\", U)"
   ]
  },
  {
   "cell_type": "markdown",
   "metadata": {},
   "source": [
    "##### Note:\n",
    "\n",
    "In our experiments, we will take $W$ to be either of the form:\n",
    "\n",
    "$$\n",
    "\\begin{matrix}\n",
    "1 & 0 & ... & 0 \\\\\n",
    "1 & 1 & ... & 0 \\\\\n",
    "1 & 1 & ... & 0 \\\\\n",
    "... & ... & ... & ... \\\\\n",
    "0 & 0 & ... & 1 \\\\\n",
    "\\end{matrix}\n",
    "$$\n",
    "\n",
    "with each column having r+1 $1$s starting from the main diagonal, or \n",
    "\n",
    "$$\n",
    "\\begin{matrix}\n",
    "1 & 1 & ... & 1 \\\\\n",
    "1 & 1 & ... & 1 \\\\\n",
    "1 & 1 & ... & 1 \\\\\n",
    "... & ... & ... & ... \\\\\n",
    "1 & 1 & ... & 1 \\\\\n",
    "1 & 0 & ... & 0 \\\\\n",
    "0 & 1 & ... & 0 \\\\\n",
    "... & ... & ... & ... \\\\\n",
    "0 & 0 & ... & 1 \\\\\n",
    "\\end{matrix}\n",
    "$$\n",
    "\n",
    "with a block of r 1's in the first r rows and an identity matrix at the bottom.\n",
    "\n",
    "We could choose any $W$ satisfying our assumptions. This was taken because of ease of generalization in the code."
   ]
  },
  {
   "cell_type": "code",
   "execution_count": 64,
   "metadata": {
    "scrolled": false
   },
   "outputs": [
    {
     "name": "stdout",
     "output_type": "stream",
     "text": [
      "Binary matrix \n",
      " [[1. 1. 1.]\n",
      " [1. 1. 1.]\n",
      " [1. 0. 0.]\n",
      " [0. 1. 0.]\n",
      " [0. 0. 1.]]\n"
     ]
    }
   ],
   "source": [
    "#Define the binary matrix W\n",
    "\n",
    "W = np.zeros((m,m-r))\n",
    "\n",
    "#Uncomment for the first type of W matrix\n",
    "\"\"\"\n",
    "for i in range(W.shape[1]):\n",
    "    temp = 0\n",
    "    while temp!=r+1:\n",
    "        W[temp+i][i] = 1\n",
    "        temp+=1\n",
    "\"\"\"\n",
    "\n",
    "#Uncomment for the second type of W matrix\n",
    "\n",
    "for i in range(W.shape[0]):\n",
    "    for j in range(W.shape[1]):\n",
    "        if i < r:\n",
    "            W[i][j] = 1\n",
    "        else:\n",
    "            if i-r == j:\n",
    "                W[i][j] = 1\n",
    "\n",
    "        \n",
    "W_T = np.transpose(W)\n",
    "\n",
    "print(\"Binary matrix \\n\", W)"
   ]
  },
  {
   "cell_type": "code",
   "execution_count": 65,
   "metadata": {
    "scrolled": true
   },
   "outputs": [
    {
     "name": "stdout",
     "output_type": "stream",
     "text": [
      "Matrix of projections of S onto lower dimensions \n",
      " [[-0.05332819 -0.61781857 -0.05332819 -0.61781857 -0.05332819 -0.61781857]\n",
      " [-0.08932256 -0.44457549 -0.08932256 -0.44457549 -0.08932256 -0.44457549]\n",
      " [-0.4801223  -0.13423815 -0.85289827  0.2788457  -0.17670514 -0.56998074]]\n"
     ]
    }
   ],
   "source": [
    "#Computing the projections of S onto canonical coordinates\n",
    "\n",
    "U_proj = np.array(np.hstack(([[U[j,:] for j in range(np.shape(U)[0]) if W_T[i,j] == 1] for i in range(W_T.shape[0])])))\n",
    "\n",
    "print(\"Matrix of projections of S onto lower dimensions \\n\", S_proj)"
   ]
  },
  {
   "cell_type": "code",
   "execution_count": 66,
   "metadata": {
    "scrolled": true
   },
   "outputs": [
    {
     "name": "stdout",
     "output_type": "stream",
     "text": [
      "Matrix of basis vectors of the nullspace of projections \n",
      " [[-0.98777159 -0.98609778  0.02766479]\n",
      " [ 0.15587406  0.16583981 -0.64064759]\n",
      " [-0.00325112 -0.01040793  0.76733652]]\n"
     ]
    }
   ],
   "source": [
    "#Computing the nullspaces of the projections\n",
    "\n",
    "from scipy.linalg import null_space\n",
    "\n",
    "A_temp = np.array(np.hstack(([[null_space(U_proj.T[i:i+r, :])[j,:] for j in range(U_proj.T.shape[1])] for i in range(0, U_proj.T.shape[0], r)])))\n",
    "\n",
    "print(\"Matrix of basis vectors of the nullspace of projections \\n\", A_temp)\n"
   ]
  },
  {
   "cell_type": "code",
   "execution_count": 67,
   "metadata": {},
   "outputs": [
    {
     "name": "stdout",
     "output_type": "stream",
     "text": [
      "Matrix whose kernel will be our guess \n",
      " [[-0.98777159 -0.98609778  0.02766479]\n",
      " [ 0.15587406  0.16583981 -0.64064759]\n",
      " [-0.00325112  0.          0.        ]\n",
      " [ 0.         -0.01040793  0.        ]\n",
      " [ 0.          0.          0.76733652]]\n",
      "Singular values \n",
      " [1.42576154 0.98341953 0.00949055]\n"
     ]
    }
   ],
   "source": [
    "#Creating the matrix A whose null space will be the true subspace \n",
    "#And computing its singular values\n",
    "\n",
    "A = np.array(W, dtype = float)\n",
    "\n",
    "for j in range(A.shape[1]):\n",
    "    c = 0\n",
    "    for i in range(A.shape[0]):\n",
    "        if A[i,j] == 1:\n",
    "            A[i,j] = A_temp[c, j]\n",
    "            c+=1\n",
    "print(\"Matrix whose kernel will be our guess \\n\", A)\n",
    "\n",
    "Sig = np.linalg.svd(A)[1]\n",
    "\n",
    "print(\"Singular values \\n\", Sig)"
   ]
  },
  {
   "cell_type": "code",
   "execution_count": 68,
   "metadata": {},
   "outputs": [
    {
     "name": "stdout",
     "output_type": "stream",
     "text": [
      "Basis of guessed space \n",
      " [[ 0.06772776  0.0716782 ]\n",
      " [ 0.44065568  0.4375486 ]\n",
      " [ 0.54972719 -0.79948296]\n",
      " [ 0.60454448  0.18075299]\n",
      " [ 0.36546068  0.36272416]]\n"
     ]
    }
   ],
   "source": [
    "#Finding kernel space of A\n",
    "\n",
    "U_test = null_space(A.T)\n",
    "\n",
    "print(\"Basis of guessed space \\n\", U_test)"
   ]
  },
  {
   "cell_type": "code",
   "execution_count": 69,
   "metadata": {},
   "outputs": [
    {
     "name": "stdout",
     "output_type": "stream",
     "text": [
      "True projection [[ 0.00972481  0.06120732 -0.0200737   0.05390049  0.05075125]\n",
      " [ 0.06120732  0.38562621 -0.10757224  0.34548418  0.31975177]\n",
      " [-0.0200737  -0.10757224  0.94137298  0.1878256  -0.08908811]\n",
      " [ 0.05390049  0.34548418  0.1878256   0.39814567  0.28650071]\n",
      " [ 0.05075125  0.31975177 -0.08908811  0.28650071  0.26513032]]\n",
      "Guessed projection [[ 0.00972481  0.06120732 -0.0200737   0.05390049  0.05075125]\n",
      " [ 0.06120732  0.38562621 -0.10757224  0.34548418  0.31975177]\n",
      " [-0.0200737  -0.10757224  0.94137298  0.1878256  -0.08908811]\n",
      " [ 0.05390049  0.34548418  0.1878256   0.39814567  0.28650071]\n",
      " [ 0.05075125  0.31975177 -0.08908811  0.28650071  0.26513032]]\n",
      "Error 3.135202984602547e-14\n"
     ]
    }
   ],
   "source": [
    "# Testing for whether the span of ker(A) is the same as column space of U - i.e. the true space\n",
    "# We test this by looking at the projection matrices \n",
    "# Error estimated with the ||P_true - P_test||_F, the frobenius norm of the difference in Projection matrices\n",
    "\n",
    "P_test = np.dot(U_test,np.dot(np.linalg.inv(np.dot(U_test.T,U_test)), U_test.T))\n",
    "\n",
    "P_true = np.dot(U,np.dot(np.linalg.inv(np.dot(U.T,U)), U.T))\n",
    "\n",
    "error = (1/math.sqrt(2))*np.linalg.norm(P_true - P_test, 'fro') \n",
    "\n",
    "print (\"True projection\", P_true)\n",
    "print (\"Guessed projection\", P_test)\n",
    "\n",
    "print (\"Error\", error)"
   ]
  },
  {
   "cell_type": "markdown",
   "metadata": {},
   "source": [
    "## With noise \n",
    "\n",
    "Now we will perform the same experiment, but we will add noise into the mix and see how the noise translates through every step."
   ]
  },
  {
   "cell_type": "code",
   "execution_count": 70,
   "metadata": {},
   "outputs": [
    {
     "name": "stdout",
     "output_type": "stream",
     "text": [
      "True space \n",
      " [[0.56687745 0.43990566 0.75225108]\n",
      " [0.93868503 0.07808771 0.80136716]\n",
      " [0.84509228 0.6525027  0.48927219]\n",
      " [0.11041617 0.13050447 0.97946736]\n",
      " [0.33886992 0.01878635 0.63551023]\n",
      " [0.2694476  0.66979344 0.41327948]\n",
      " [0.4601832  0.12351585 0.54626242]]\n"
     ]
    }
   ],
   "source": [
    "m = 7 #Number of columns \n",
    "r = 3 #Dimension of U*\n",
    "\n",
    "\n",
    "U = np.random.rand(m,r) #Random (true) subspace\n",
    "#U = np.array([[1,1],[1,2],[1,3],[1,4],[1,5]]) #Uncomment the left out for an example true space\n",
    "\n",
    "print(\"True space \\n\", U)"
   ]
  },
  {
   "cell_type": "code",
   "execution_count": 71,
   "metadata": {},
   "outputs": [
    {
     "name": "stdout",
     "output_type": "stream",
     "text": [
      "Binary matrix \n",
      " [[1. 1. 1. 1.]\n",
      " [1. 1. 1. 1.]\n",
      " [1. 1. 1. 1.]\n",
      " [1. 0. 0. 0.]\n",
      " [0. 1. 0. 0.]\n",
      " [0. 0. 1. 0.]\n",
      " [0. 0. 0. 1.]]\n"
     ]
    }
   ],
   "source": [
    "#Define the binary matrix W\n",
    "\n",
    "W = np.zeros((m,m-r))\n",
    "\n",
    "#Uncomment for the first type of W matrix\n",
    "\"\"\"\n",
    "for i in range(W.shape[1]):\n",
    "    temp = 0\n",
    "    while temp!=r+1:\n",
    "        W[temp+i][i] = 1\n",
    "        temp+=1\n",
    "\"\"\"\n",
    "\n",
    "#Uncomment for the second type of W matrix\n",
    "\n",
    "for i in range(W.shape[0]):\n",
    "    for j in range(W.shape[1]):\n",
    "        if i < r:\n",
    "            W[i][j] = 1\n",
    "        else:\n",
    "            if i-r == j:\n",
    "                W[i][j] = 1\n",
    "\n",
    "        \n",
    "W_T = np.transpose(W)\n",
    "\n",
    "print(\"Binary matrix \\n\", W)"
   ]
  },
  {
   "cell_type": "code",
   "execution_count": 73,
   "metadata": {},
   "outputs": [
    {
     "name": "stdout",
     "output_type": "stream",
     "text": [
      "Projections of U onto lower dimensions w/o noise \n",
      " [[0.56687745 0.43990566 0.75225108 0.56687745 0.43990566 0.75225108\n",
      "  0.56687745 0.43990566 0.75225108 0.56687745 0.43990566 0.75225108]\n",
      " [0.93868503 0.07808771 0.80136716 0.93868503 0.07808771 0.80136716\n",
      "  0.93868503 0.07808771 0.80136716 0.93868503 0.07808771 0.80136716]\n",
      " [0.84509228 0.6525027  0.48927219 0.84509228 0.6525027  0.48927219\n",
      "  0.84509228 0.6525027  0.48927219 0.84509228 0.6525027  0.48927219]\n",
      " [0.11041617 0.13050447 0.97946736 0.33886992 0.01878635 0.63551023\n",
      "  0.2694476  0.66979344 0.41327948 0.4601832  0.12351585 0.54626242]]\n",
      "Projections of U onto lower dimensions w/ noise \n",
      " [[0.56615633 0.44095886 0.75162447 0.56716233 0.44213844 0.75239321\n",
      "  0.56602526 0.44083902 0.75245079 0.56615302 0.4386619  0.7524076 ]\n",
      " [0.93880095 0.07848209 0.80198544 0.93879274 0.07901221 0.79959867\n",
      "  0.93723272 0.07945399 0.80290098 0.9390969  0.07725715 0.80189566]\n",
      " [0.84386609 0.65256513 0.49022613 0.84572574 0.6516475  0.48798879\n",
      "  0.84522276 0.65380765 0.48971456 0.84376469 0.65095998 0.48917415]\n",
      " [0.11003984 0.12915801 0.98110326 0.33985223 0.01688738 0.63476173\n",
      "  0.26998391 0.67052766 0.41452604 0.4603207  0.12385118 0.5458329 ]]\n"
     ]
    }
   ],
   "source": [
    "# Computing the projections of S onto canonical coordinates\n",
    "\n",
    "# No noise Version\n",
    "\n",
    "U_proj = np.array(np.hstack(([[U[j,:] for j in range(U.shape[0]) if W_T[i,j] == 1] for i in range(W_T.shape[0])])))\n",
    "\n",
    "# Creating the noisy versions\n",
    "\n",
    "mu = 0 # mean\n",
    "sigma = 1 # standard deviation\n",
    "lam = 1e-3 # noise level\n",
    "\n",
    "#Adding noise from a Gaussian distribution\n",
    "\n",
    "\n",
    "V_proj = U_proj + np.random.normal(mu, sigma, (U_proj.shape[0], U_proj.shape[1]))*lam\n",
    "\n",
    "\n",
    "print(\"Projections of U onto lower dimensions w/o noise \\n\", U_proj)\n",
    "print(\"Projections of U onto lower dimensions w/ noise \\n\", V_proj)"
   ]
  },
  {
   "cell_type": "code",
   "execution_count": 74,
   "metadata": {
    "scrolled": true
   },
   "outputs": [
    {
     "name": "stdout",
     "output_type": "stream",
     "text": [
      "Basis vectors of the nullspace of projections w/o noise \n",
      " [[-0.8047558  -0.55533981 -0.6260962  -0.3799828 ]\n",
      " [ 0.02287521 -0.26068396  0.42819986 -0.31015669]\n",
      " [ 0.46655286  0.38575782 -0.24780664  0.13018591]\n",
      " [ 0.36629667  0.68908089  0.6026942   0.86166556]]\n",
      "Basis vectors of the nullspace of projections w/ noise \n",
      " [[-0.80422365 -0.55008778 -0.62782623 -0.37948338]\n",
      " [ 0.02091681 -0.26667982  0.42764379 -0.3092909 ]\n",
      " [ 0.4687182   0.38768666 -0.24605193  0.1283357 ]\n",
      " [ 0.3648151   0.6899162   0.60200786  0.86247403]]\n"
     ]
    }
   ],
   "source": [
    "# Computing the nullspaces of the projections\n",
    "\n",
    "# No noise version\n",
    "\n",
    "A_temp = np.array(np.hstack(([[null_space(U_proj.T[i:i+r, :])[j,:] for j in range(U_proj.T.shape[1])] for i in range(0, U_proj.T.shape[0], r)])))\n",
    "\n",
    "\n",
    "# Noisy version\n",
    "\n",
    "B_temp = np.array(np.hstack(([[null_space(V_proj.T[i:i+r, :])[j,:] for j in range(V_proj.T.shape[1])] for i in range(0, V_proj.T.shape[0], r)])))\n",
    "\n",
    "\n",
    "\n",
    "\n",
    "print(\"Basis vectors of the nullspace of projections w/o noise \\n\", A_temp)\n",
    "print(\"Basis vectors of the nullspace of projections w/ noise \\n\", B_temp)"
   ]
  },
  {
   "cell_type": "code",
   "execution_count": 75,
   "metadata": {},
   "outputs": [
    {
     "name": "stdout",
     "output_type": "stream",
     "text": [
      "Matrix whose kernel will be our guess w/o noise \n",
      " [[-0.8047558  -0.55533981 -0.6260962  -0.3799828 ]\n",
      " [ 0.02287521 -0.26068396  0.42819986 -0.31015669]\n",
      " [ 0.46655286  0.38575782 -0.24780664  0.13018591]\n",
      " [ 0.36629667  0.          0.          0.        ]\n",
      " [ 0.          0.68908089  0.          0.        ]\n",
      " [ 0.          0.          0.6026942   0.        ]\n",
      " [ 0.          0.          0.          0.86166556]]\n",
      "Matrix whose kernel will be our guess w/ noise \n",
      " [[-0.80422365 -0.55008778 -0.62782623 -0.37948338]\n",
      " [ 0.02091681 -0.26667982  0.42764379 -0.3092909 ]\n",
      " [ 0.4687182   0.38768666 -0.24605193  0.1283357 ]\n",
      " [ 0.3648151   0.          0.          0.        ]\n",
      " [ 0.          0.6899162   0.          0.        ]\n",
      " [ 0.          0.          0.60200786  0.        ]\n",
      " [ 0.          0.          0.          0.86247403]]\n"
     ]
    }
   ],
   "source": [
    "#Creating the matrix A whose null space will be the true subspace\n",
    "\n",
    "# No noise version\n",
    "\n",
    "A = np.array(W, dtype = float) \n",
    "\n",
    "for j in range(A.shape[1]): \n",
    "    c = 0\n",
    "    for i in range(A.shape[0]):\n",
    "        if A[i,j] == 1:\n",
    "            A[i,j] = A_temp[c, j]\n",
    "            c+=1\n",
    "            \n",
    "# Noisy version\n",
    "            \n",
    "B = np.array(W, dtype = float) \n",
    "\n",
    "for j in range(B.shape[1]):\n",
    "    c = 0\n",
    "    for i in range(B.shape[0]):\n",
    "        if B[i,j] == 1:\n",
    "            B[i,j] = B_temp[c, j]\n",
    "            c+=1       \n",
    "\n",
    "            \n",
    "print(\"Matrix whose kernel will be our guess w/o noise \\n\", A)\n",
    "print(\"Matrix whose kernel will be our guess w/ noise \\n\", B)"
   ]
  },
  {
   "cell_type": "code",
   "execution_count": 76,
   "metadata": {},
   "outputs": [
    {
     "name": "stdout",
     "output_type": "stream",
     "text": [
      "Min Kernel Matrix Singular Value 0.5644304192863001\n",
      "Sum of Data Singular Values 11.8769491798098\n"
     ]
    }
   ],
   "source": [
    "#Computing the singular values of the projected S matrix, noisy projected S matrix, and noisy A matrix.\n",
    "\n",
    "Sig_V_proj = np.array(np.hstack(([np.linalg.svd(V_proj.T[i:i+r, :])[1] for i in range(0, V_proj.T.shape[0], r)])))\n",
    "Sig_ker = np.amin(np.linalg.svd(B)[1])\n",
    "\n",
    "Sig_V_sum = np.sum(Sig_V_proj)\n",
    "\n",
    "print(\"Min Kernel Matrix Singular Value\", Sig_ker)\n",
    "print(\"Sum of Data Singular Values\", Sig_V_sum)"
   ]
  },
  {
   "cell_type": "code",
   "execution_count": 77,
   "metadata": {},
   "outputs": [
    {
     "name": "stdout",
     "output_type": "stream",
     "text": [
      "Basis of guessed space w/o noise \n",
      " [[ 0.19000808  0.35449223  0.23038463]\n",
      " [ 0.78720662 -0.13675523  0.02736635]\n",
      " [ 0.36171075  0.58737756 -0.26935028]\n",
      " [-0.09242399  0.03921766  0.84751931]\n",
      " [ 0.24844461 -0.09486802  0.34680936]\n",
      " [-0.2131829   0.70692711  0.10913974]\n",
      " [ 0.3124966   0.01835645  0.15214217]]\n",
      "Basis of guessed space w/ noise \n",
      " [[ 0.18858048  0.35560459  0.23018533]\n",
      " [ 0.78673472 -0.13462453  0.02865016]\n",
      " [ 0.36132713  0.58718859 -0.26715882]\n",
      " [-0.0936247   0.03721215  0.8490422 ]\n",
      " [ 0.2514224  -0.09846571  0.3447324 ]\n",
      " [-0.21451749  0.70648266  0.11051248]\n",
      " [ 0.31133908  0.02081295  0.15130746]]\n"
     ]
    }
   ],
   "source": [
    "#Finding kernel space of A\n",
    "\n",
    "U_test = null_space(A.T) # No noise\n",
    "V_test = null_space(B.T) # With noise\n",
    "\n",
    "print(\"Basis of guessed space w/o noise \\n\", U_test)\n",
    "print(\"Basis of guessed space w/ noise \\n\", V_test)"
   ]
  },
  {
   "cell_type": "code",
   "execution_count": 78,
   "metadata": {
    "scrolled": false
   },
   "outputs": [
    {
     "name": "stdout",
     "output_type": "stream",
     "text": [
      "Error w/o noise 6.2053655674418e-16\n",
      "Error w/ noise 0.006483438728692201\n",
      "Estimated bound 0.001487881354053879\n"
     ]
    }
   ],
   "source": [
    "# Testing for whether the span of ker(A) is the same as column space of S - i.e. the true space\n",
    "# We test this by looking at the projection matrices \n",
    "# Error estimated with the ||P_true - P_test||_F, the frobenius norm of the difference in Projection matrices\n",
    "\n",
    "P_test = np.dot(U_test,np.dot(np.linalg.inv(np.dot(U_test.T,U_test)), U_test.T))\n",
    "P_test_noise = np.dot(V_test,np.dot(np.linalg.inv(np.dot(V_test.T,V_test)), V_test.T))\n",
    "P_true = np.dot(U,np.dot(np.linalg.inv(np.dot(U.T,U)), U.T))\n",
    "\n",
    "error = (1/math.sqrt(2))*np.linalg.norm(P_true - P_test, 'fro') \n",
    "error_noise = (1/math.sqrt(2))*np.linalg.norm(P_true - P_test_noise, 'fro') \n",
    "\n",
    "bound = math.sqrt(lam)*(m-r)*math.sqrt(2*r)/((Sig_noise_sum)*(Sig_ker - ((m-r)*math.sqrt(lam)*math.sqrt(2*r)/Sig_noise_sum)))\n",
    "\n",
    "#print (\"True projection\", P_true)\n",
    "#print (\"Guessed projection w/o noise\", P_test)\n",
    "#print (\"Guessed projection w/ noise\", P_test_noise)\n",
    "\n",
    "print (\"Error w/o noise\", error)\n",
    "print (\"Error w/ noise\", error_noise)\n",
    "print (\"Estimated bound\", bound)"
   ]
  },
  {
   "cell_type": "markdown",
   "metadata": {},
   "source": [
    "## Experiments"
   ]
  },
  {
   "cell_type": "code",
   "execution_count": 84,
   "metadata": {},
   "outputs": [],
   "source": [
    "def Errors(m_, r_, U_, W_, lam_):\n",
    "    \n",
    "    ##############################################################################################\n",
    "\n",
    "    # Step 0: Computing the projections of S onto canonical coordinates and adding noise\n",
    "\n",
    "    # No noise Version\n",
    "\n",
    "    U_proj = np.array(np.hstack(([[U_[j,:] for j in range(U_.shape[0]) if W_.T[i,j] == 1] for i in range(W_.T.shape[0])])))\n",
    "\n",
    "\n",
    "    # Creating the noisy versions\n",
    "    \n",
    "    rows_proj = U_proj.shape[0]\n",
    "    cols_proj = U_proj.shape[1]\n",
    "\n",
    "    sigma = 1 # standard deviation\n",
    "\n",
    "    #Adding noise from a Gaussian distribution to projection (Option 1)\n",
    "    \n",
    "    V_proj = U_proj + np.random.normal(0, sigma, (rows_proj,cols_proj))*lam_\n",
    "    \n",
    "    ##############################################################################################\n",
    "\n",
    "\n",
    "    # Step 1: Computing the nullspaces of the projections\n",
    "\n",
    "    # No noise version\n",
    "\n",
    "    A_temp = np.array(np.hstack(([[null_space(U_proj.T[i:i+r_, :])[j,:] for j in range(U_proj.T.shape[1])] for i in range(0, U_proj.T.shape[0], r_)])))\n",
    "\n",
    "\n",
    "    # Noisy version\n",
    "\n",
    "    B_temp = np.array(np.hstack(([[null_space(V_proj.T[i:i+r_, :])[j,:] for j in range(V_proj.T.shape[1])] for i in range(0, V_proj.T.shape[0], r_)])))\n",
    "\n",
    "    \n",
    "    #We could also add noise from a Gaussian distribution to these nullspaces instead of the projected \n",
    "    #coordinates (Option 2)\n",
    "    #Uncomment the following line for that: \n",
    "    \n",
    "    #A_temp_noise = A_temp + np.random.normal(0, sigma, (A_temp.shape[0],A_temp.shape[1]))*lam_\n",
    "    \n",
    "    ##############################################################################################\n",
    "     \n",
    "    \n",
    "    #Step 2: Creating the matrix A whose null space will be the true subspace\n",
    "\n",
    "    # No noise version\n",
    "\n",
    "    A_ = np.array(W_, dtype = float) \n",
    "\n",
    "    for j in range(A_.shape[1]):\n",
    "        c = 0\n",
    "        for i in range(A_.shape[0]):\n",
    "            if A_[i,j] == 1:\n",
    "                A_[i,j] = A_temp[c, j]\n",
    "                c+=1\n",
    "\n",
    "    # Noisy version\n",
    "\n",
    "    B_ = np.array(W_, dtype = float) \n",
    "\n",
    "    for j in range(B_.shape[1]):\n",
    "        c = 0\n",
    "        for i in range(B_.shape[0]):\n",
    "            if B_[i,j] == 1:\n",
    "                B_[i,j] = B_temp[c, j]\n",
    "                c+=1       \n",
    "\n",
    "    error_A = np.linalg.norm(A_-B_, 'fro')\n",
    "    \n",
    "    ##############################################################################################\n",
    "    \n",
    "    \n",
    "    #Step 3: Finding kernel space of A\n",
    "\n",
    "    U_test = null_space(A_.T) # No noise\n",
    "    V_test = null_space(B_.T) # With noise\n",
    "\n",
    "    \n",
    "    error_U_test = np.linalg.norm(U_test - V_test, 'fro')\n",
    "    \n",
    "    ##############################################################################################\n",
    "    \n",
    "    #Final Step: Testing for whether the span of ker(A) is the same as column space of S - i.e. the true space\n",
    "    # We test this by looking at the projection matrices \n",
    "    # Error estimated with the ||Proj_true - Proj_test||_F, the frobenius norm of the difference in Projection matrices\n",
    "\n",
    "    Proj_test = np.dot(U_test,np.dot(np.linalg.inv(np.dot(U_test.T,U_test)), U_test.T))\n",
    "    Proj_test_noise = np.dot(V_test,np.dot(np.linalg.inv(np.dot(V_test.T,V_test)), V_test.T))\n",
    "    Proj_true = np.dot(U_,np.dot(np.linalg.inv(np.dot(U_.T,U_)), U_.T))\n",
    "\n",
    "    error_noiseless_test = (1/math.sqrt(2))*np.linalg.norm(Proj_true - Proj_test, 'fro') \n",
    "    error_noisy_test = (1/math.sqrt(2))*np.linalg.norm(Proj_true - Proj_test_noise, 'fro') \n",
    "    \n",
    "    \n",
    "    ##############################################################################################\n",
    "    \n",
    "    #Computing the singular values of the projected U matrix, noisy projected U matrix, and noisy A matrix.\n",
    "\n",
    "    Sig_noise_proj = np.array(np.hstack(([np.linalg.svd(V_proj.T[i:i+r_, :])[1] for i in range(0, V_proj.T.shape[0], r_)])))\n",
    "    Sig_ker = np.amin(np.linalg.svd(B_)[1])\n",
    "\n",
    "    Sig_sum_noise = np.sum(Sig_noise_proj)\n",
    "    \n",
    "    bound = (lam_*math.sqrt(2*(m_+r_)*math.log(6)))*math.sqrt((2*r_))/((Sig_ker-(lam*math.sqrt(2*r_)/Sig_sum_noise))*Sig_sum_noise)\n",
    "    \n",
    "\n",
    "    return error_A, error_U_test, error_noiseless_test, error_noisy_test, bound, Sig_sum_noise, Sig_ker"
   ]
  },
  {
   "cell_type": "markdown",
   "metadata": {},
   "source": [
    "## Experiment 1: Increasing noise level, keeping dimensions constant"
   ]
  },
  {
   "cell_type": "code",
   "execution_count": 85,
   "metadata": {},
   "outputs": [
    {
     "name": "stdout",
     "output_type": "stream",
     "text": [
      "Binary matrix \n",
      " [[1. 1. 1.]\n",
      " [1. 1. 1.]\n",
      " [1. 1. 1.]\n",
      " [1. 1. 1.]\n",
      " [1. 1. 1.]\n",
      " [1. 1. 1.]\n",
      " [1. 1. 1.]\n",
      " [1. 0. 0.]\n",
      " [0. 1. 0.]\n",
      " [0. 0. 1.]]\n"
     ]
    }
   ],
   "source": [
    "m = 10 #Number of columns \n",
    "r = 7 #Dimension of U\n",
    "\n",
    "U = np.random.rand(m,r) #Random (true) subspace\n",
    "#U = np.array([[1,1],[1,2],[1,3],[1,4],[1,5]]) #Uncomment the left out for an example true space\n",
    "\n",
    "W = np.zeros((m,m-r))\n",
    "\n",
    "#Uncomment for the first type of W matrix\n",
    "\"\"\"\n",
    "for i in range(W.shape[1]):\n",
    "    temp = 0\n",
    "    while temp!=r+1:\n",
    "        W[temp+i][i] = 1\n",
    "        temp+=1\n",
    "\"\"\"\n",
    "\n",
    "#Uncomment for the second type of W matrix\n",
    "\n",
    "for i in range(W.shape[0]):\n",
    "    for j in range(W.shape[1]):\n",
    "        if i < r:\n",
    "            W[i][j] = 1\n",
    "        else:\n",
    "            if i-r == j:\n",
    "                W[i][j] = 1\n",
    "\n",
    "        \n",
    "W_T = np.transpose(W)\n",
    "\n",
    "print(\"Binary matrix \\n\", W)\n",
    "\n",
    "low_b = 1e-8 #Lower bound of noise\n",
    "upper_b = 1e-2 #Upper bound of noise\n",
    "num = 10000 # Number of experiments\n",
    "\n",
    "#lam_vec = np.random.uniform(low_b,upper_b,num) # Vector that stores different noise values to test\n",
    "#lam_vec = np.sort(lam_vec)\n",
    "\n",
    "lam_vec = np.logspace(-8,-2,num)"
   ]
  },
  {
   "cell_type": "code",
   "execution_count": 86,
   "metadata": {},
   "outputs": [],
   "source": [
    "err_A = np.empty(num, dtype = float) #Stores error in kernel spaces for each experiment (no noise vs noise)\n",
    "err_U_test = np.empty(num, dtype = float) #Stores error in kernel spaces of A, i.e. errors in 'guesses' (no noise vs noise)\n",
    "err_noiseless_test = np.empty(num, dtype = float) #Stores error in the difference between true projection and no noise guess\n",
    "err_noisy_test = np.empty(num, dtype = float) # Stores error in difference between true projection and noise guess\n",
    "bounds = np.empty(num, dtype = float) #Stores the error bounds for each experiment\n",
    "Sig_data = np.empty(num, dtype = float) #Stores the sum of singular values of V_i^\\omega for each experiment\n",
    "Sig_kernel = np.empty(num, dtype = float) #Stores the singular values of B for each experiment\n",
    "\n",
    "c = 0\n",
    "\n",
    "for lam in lam_vec:\n",
    "    err_A[c], err_U_test[c], err_noiseless_test[c], err_noisy_test[c], bounds[c], Sig_data[c], Sig_kernel[c] = Errors(m,r,U,W,lam)\n",
    "    c+=1\n"
   ]
  },
  {
   "cell_type": "code",
   "execution_count": 87,
   "metadata": {},
   "outputs": [
    {
     "data": {
      "image/png": "[encoded data removed]",
      "text/plain": [
       "<Figure size 432x288 with 1 Axes>"
      ]
     },
     "metadata": {
      "needs_background": "light"
     },
     "output_type": "display_data"
    }
   ],
   "source": [
    "plt.scatter(lam_vec,err_A)\n",
    "plt.title(\"Difference in noiseless A matrix and noisy A matrix\")\n",
    "plt.xlabel(\"Noise level\")\n",
    "plt.ylabel(\"Noise in A matrix\")\n",
    "plt.xscale('log')\n",
    "plt.yscale('log')\n",
    "plt.show()"
   ]
  },
  {
   "cell_type": "code",
   "execution_count": 88,
   "metadata": {},
   "outputs": [
    {
     "data": {
      "image/png": "[encoded data removed]",
      "text/plain": [
       "<Figure size 432x288 with 1 Axes>"
      ]
     },
     "metadata": {
      "needs_background": "light"
     },
     "output_type": "display_data"
    }
   ],
   "source": [
    "plt.scatter(lam_vec, err_U_test)\n",
    "plt.title(\"Difference in kernel space of noiseless A and noisy A\")\n",
    "plt.xlabel(\"Noise level\")\n",
    "plt.ylabel(\"Noise in kernel space\")\n",
    "plt.xscale('log')\n",
    "plt.yscale('log')\n",
    "#plt.plot(x,y,color = 'red')\n",
    "plt.show()"
   ]
  },
  {
   "cell_type": "code",
   "execution_count": 93,
   "metadata": {},
   "outputs": [
    {
     "data": {
      "image/png": "[encoded data removed]",
      "text/plain": [
       "<Figure size 432x288 with 1 Axes>"
      ]
     },
     "metadata": {
      "needs_background": "light"
     },
     "output_type": "display_data"
    }
   ],
   "source": [
    "plt.scatter(lam_vec, err_noiseless_test)\n",
    "plt.title(\"Difference between true subspace and noiseless guess\")\n",
    "plt.xlabel(\"Noise level\")\n",
    "plt.ylabel(\"Error\")\n",
    "plt.xscale('log')\n",
    "plt.yscale('log')\n",
    "plt.show()"
   ]
  },
  {
   "cell_type": "code",
   "execution_count": 95,
   "metadata": {
    "scrolled": false
   },
   "outputs": [
    {
     "data": {
      "image/png": "[encoded data removed]",
      "text/plain": [
       "<Figure size 432x288 with 1 Axes>"
      ]
     },
     "metadata": {
      "needs_background": "light"
     },
     "output_type": "display_data"
    }
   ],
   "source": [
    "plt.scatter(lam_vec, err_noisy_test)\n",
    "plt.title(\"Difference in true subspace and noisy guess\")\n",
    "plt.xlabel(\"Noise level\")\n",
    "plt.ylabel(\"Error\")\n",
    "plt.xscale('log')\n",
    "plt.yscale('log')\n",
    "plt.plot(lam_vec,bounds,color = 'red', label = 'bound')\n",
    "plt.plot(lam_vec,Sig_kernel, color = 'green', label = 'Kernel sing. value')\n",
    "plt.plot(lam_vec,Sig_data, color = 'grey', label = 'Data sing. value')\n",
    "plt.plot(lam_vec,np.full((num,),np.sqrt(r),dtype = float), color = 'purple', label = 'Upper bound of C.D')\n",
    "plt.legend()\n",
    "plt.show()"
   ]
  },
  {
   "cell_type": "markdown",
   "metadata": {},
   "source": [
    "## Experiment 2: Increasing ambient dimension m, keeping noise level and subspace dimension constant"
   ]
  },
  {
   "cell_type": "code",
   "execution_count": 97,
   "metadata": {},
   "outputs": [],
   "source": [
    "num = 1000 # Number of experiments\n",
    "m_vec = np.random.randint(10,200, num) \n",
    "m_vec = np.sort(m_vec)\n",
    "r = 7 #Dimension of U\n",
    "lam = 1e-4 #Noise level"
   ]
  },
  {
   "cell_type": "code",
   "execution_count": 98,
   "metadata": {},
   "outputs": [],
   "source": [
    "err_A = np.empty(num, dtype = float) #Stores error in kernel spaces for each experiment (no noise vs noise)\n",
    "err_U_test = np.empty(num, dtype = float) #Stores error in kernel spaces of A, i.e. errors in 'guesses' (no noise vs noise)\n",
    "err_noiseless_test = np.empty(num, dtype = float) #Stores error in the difference between true projection and no noise guess\n",
    "err_noisy_test = np.empty(num, dtype = float) # Stores error in difference between true projection and noise guess\n",
    "bounds = np.empty(num, dtype = float) #Stores the error bounds for each experiment\n",
    "Sig_data = np.empty(num, dtype = float) #Stores the minimum singular values of U or V for each experiment\n",
    "Sig_kernel = np.empty(num, dtype = float) #Stores the singular values of B for each experiment\n",
    "\n",
    "c = 0\n",
    "\n",
    "for m_ in m_vec:\n",
    "    U = np.random.rand(m_,r)\n",
    "    \n",
    "    W = np.zeros((m_,m_-r))\n",
    "\n",
    "    #Uncomment for the first type of W matrix\n",
    "    \"\"\"\n",
    "    for i in range(W.shape[1]):\n",
    "        temp = 0\n",
    "        while temp!=r+1:\n",
    "            W[temp+i][i] = 1\n",
    "            temp+=1\n",
    "    \"\"\"\n",
    "\n",
    "    #Uncomment for the second type of W matrix\n",
    "\n",
    "    for i in range(W.shape[0]):\n",
    "        for j in range(W.shape[1]):\n",
    "            if i < r:\n",
    "                W[i][j] = 1\n",
    "            else:\n",
    "                if i-r == j:\n",
    "                    W[i][j] = 1\n",
    "    \n",
    "\n",
    "    err_A[c], err_U_test[c], err_noiseless_test[c], err_noisy_test[c], bounds[c], Sig_data[c], Sig_kernel[c] = Errors(m_,r,U,W,lam)\n",
    "    c+=1"
   ]
  },
  {
   "cell_type": "code",
   "execution_count": 99,
   "metadata": {},
   "outputs": [
    {
     "data": {
      "image/png": "[encoded data removed]",
      "text/plain": [
       "<Figure size 432x288 with 1 Axes>"
      ]
     },
     "metadata": {
      "needs_background": "light"
     },
     "output_type": "display_data"
    }
   ],
   "source": [
    "plt.scatter(m_vec,err_A)\n",
    "plt.title(\"Difference in noiseless A matrix and noisy A matrix\")\n",
    "plt.xlabel(\"Ambient dimension\")\n",
    "plt.ylabel(\"Noise in A matrix\")\n",
    "#plt.xscale('log')\n",
    "plt.yscale('log')\n",
    "plt.show()"
   ]
  },
  {
   "cell_type": "code",
   "execution_count": 100,
   "metadata": {},
   "outputs": [
    {
     "data": {
      "image/png": "[encoded data removed]",
      "text/plain": [
       "<Figure size 432x288 with 1 Axes>"
      ]
     },
     "metadata": {
      "needs_background": "light"
     },
     "output_type": "display_data"
    }
   ],
   "source": [
    "plt.scatter(m_vec, err_U_test)\n",
    "plt.title(\"Difference in kernel space of noiseless A and noisy A\")\n",
    "plt.xlabel(\"Ambient Dimension\")\n",
    "plt.ylabel(\"Noise in kernel space\")\n",
    "#plt.xscale('log')\n",
    "plt.yscale('log')\n",
    "plt.show()"
   ]
  },
  {
   "cell_type": "code",
   "execution_count": 101,
   "metadata": {},
   "outputs": [
    {
     "data": {
      "image/png": "[encoded data removed]",
      "text/plain": [
       "<Figure size 432x288 with 1 Axes>"
      ]
     },
     "metadata": {
      "needs_background": "light"
     },
     "output_type": "display_data"
    }
   ],
   "source": [
    "plt.scatter(m_vec, err_noiseless_test)\n",
    "plt.title(\"Difference between true subspace and noiseless guess\")\n",
    "plt.xlabel(\"Ambient Dimension\")\n",
    "plt.ylabel(\"Error\")\n",
    "#plt.xscale('log')\n",
    "plt.yscale('log')\n",
    "plt.show()"
   ]
  },
  {
   "cell_type": "code",
   "execution_count": 102,
   "metadata": {},
   "outputs": [
    {
     "data": {
      "image/png": "[encoded data removed]",
      "text/plain": [
       "<Figure size 432x288 with 1 Axes>"
      ]
     },
     "metadata": {
      "needs_background": "light"
     },
     "output_type": "display_data"
    }
   ],
   "source": [
    "plt.scatter(m_vec, err_noisy_test)\n",
    "plt.title(\"Difference in true subspace and noisy guess\")\n",
    "plt.xlabel(\"Ambient Dimension\")\n",
    "plt.ylabel(\"Error\")\n",
    "#plt.xscale('log')\n",
    "plt.yscale('log')\n",
    "plt.scatter(m_vec,bounds,color = 'red', label = 'bound')\n",
    "#plt.scatter(d_vec,Sig_kernel, color = 'green', label = 'Kernel sing. value')\n",
    "#plt.scatter(d_vec,Sig_data, color = 'grey', label = 'Data sing. value')\n",
    "plt.plot(m_vec,np.full((num,),np.sqrt(r),dtype = float), color = 'purple', label = 'Upper bound of C.D')\n",
    "plt.legend()\n",
    "plt.show()"
   ]
  },
  {
   "cell_type": "markdown",
   "metadata": {},
   "source": [
    "## Experiment 3: Increasing subspace dimension r, keeping noise level and ambient dimension constant"
   ]
  },
  {
   "cell_type": "code",
   "execution_count": null,
   "metadata": {},
   "outputs": [],
   "source": [
    "num = 1000 # Number of experiments\n",
    "m = 50 # Ambient dimension\n",
    "r_vec = np.random.randint(d-47,d-3, num) \n",
    "r_vec = np.sort(r_vec)\n",
    "lam = 1e-5 #Noise level"
   ]
  },
  {
   "cell_type": "code",
   "execution_count": null,
   "metadata": {},
   "outputs": [],
   "source": [
    "err_A = np.empty(num, dtype = float) #Stores error in kernel spaces for each experiment (no noise vs noise)\n",
    "err_U_test = np.empty(num, dtype = float) #Stores error in kernel spaces of A, i.e. errors in 'guesses' (no noise vs noise)\n",
    "err_noiseless_test = np.empty(num, dtype = float) #Stores error in the difference between true projection and no noise guess\n",
    "err_noisy_test = np.empty(num, dtype = float) # Stores error in difference between true projection and noise guess\n",
    "bounds = np.empty(num, dtype = float) #Stores the error bounds for each experiment\n",
    "Sig = np.empty(num, dtype = float) #Stores the singular values of B for each experiment\n",
    "\n",
    "c = 0\n",
    "\n",
    "for r_ in r_vec:\n",
    "    U = np.random.rand(m,r_)\n",
    "\n",
    "    W = np.zeros((m,m-r_))\n",
    "\n",
    "    #Uncomment for the first type of W matrix\n",
    "    \"\"\"\n",
    "    for i in range(W.shape[1]):\n",
    "        temp = 0\n",
    "        while temp!=r_+1:\n",
    "            W[temp+i][i] = 1\n",
    "            temp+=1\n",
    "    \"\"\"\n",
    "\n",
    "    #Uncomment for the second type of W matrix\n",
    "\n",
    "    for i in range(W.shape[0]):\n",
    "        for j in range(W.shape[1]):\n",
    "            if i < r_:\n",
    "                W[i][j] = 1\n",
    "            else:\n",
    "                if i-r_ == j:\n",
    "                    W[i][j] = 1\n",
    "    \n",
    "\n",
    "    err_A[c], err_U_test[c], err_noiseless_test[c], err_noisy_test[c], bounds[c],Sig[c] = Errors(m,r_,U,W,lam)\n",
    "    c+=1"
   ]
  },
  {
   "cell_type": "code",
   "execution_count": null,
   "metadata": {},
   "outputs": [],
   "source": [
    "plt.scatter(r_vec,err_A)\n",
    "plt.title(\"Difference in noiseless A matrix and noisy A matrix\")\n",
    "plt.xlabel(\"Subspace dimension\")\n",
    "plt.ylabel(\"Noise in A matrix\")\n",
    "#plt.xscale('log')\n",
    "plt.yscale('log')\n",
    "plt.show()"
   ]
  },
  {
   "cell_type": "code",
   "execution_count": null,
   "metadata": {},
   "outputs": [],
   "source": [
    "plt.scatter(r_vec, err_U_test)\n",
    "plt.title(\"Difference in kernel space of noiseless A and noisy A\")\n",
    "plt.xlabel(\"Subspace Dimension\")\n",
    "plt.ylabel(\"Noise in kernel space\")\n",
    "#plt.xscale('log')\n",
    "plt.yscale('log')\n",
    "plt.show()"
   ]
  },
  {
   "cell_type": "code",
   "execution_count": null,
   "metadata": {},
   "outputs": [],
   "source": [
    "plt.scatter(r_vec, err_noiseless_test)\n",
    "plt.title(\"Difference between true subspace and noiseless guess\")\n",
    "plt.xlabel(\"Subspace Dimension\")\n",
    "plt.ylabel(\"Error\")\n",
    "#plt.xscale('log')\n",
    "plt.yscale('log')\n",
    "plt.show()"
   ]
  },
  {
   "cell_type": "code",
   "execution_count": null,
   "metadata": {},
   "outputs": [],
   "source": [
    "plt.scatter(r_vec, err_noisy_test)\n",
    "plt.title(\"Difference in true subspace and noisy guess\")\n",
    "plt.xlabel(\"Noise level\")\n",
    "plt.ylabel(\"Error\")\n",
    "plt.xscale('log')\n",
    "plt.yscale('log')\n",
    "plt.plot(r_vec,bounds,color = 'red', label = 'bound')\n",
    "plt.plot(r_vec,Sig_kernel, color = 'green', label = 'Kernel sing. value')\n",
    "plt.plot(r_vec,Sig_data, color = 'grey', label = 'Data sing. value')\n",
    "plt.plot(r_vec,np.array(np.sqrt(x for x in r_vec)), color = 'purple', label = 'Upper bound of C.D')\n",
    "plt.legend()\n",
    "plt.show()"
   ]
  },
  {
   "cell_type": "markdown",
   "metadata": {},
   "source": [
    "## Statistical analysis"
   ]
  },
  {
   "cell_type": "markdown",
   "metadata": {},
   "source": [
    "### Linear regression"
   ]
  },
  {
   "cell_type": "code",
   "execution_count": null,
   "metadata": {},
   "outputs": [],
   "source": [
    "from sklearn.linear_model import LinearRegression\n",
    "\n",
    "lam_vec_reshape = lam_vec.reshape(-1,1)\n",
    "\n",
    "reg = LinearRegression().fit(lam_vec_reshape,err_noise_test)\n",
    "\n",
    "lam_vec_test = np.random.uniform(low_b,upper_b,num) # Vector that stores different noise values to test\n",
    "lam_vec_test = np.sort(lam_vec_test)\n",
    "lam_vec_test = lam_vec_test.reshape(-1,1)\n",
    "\n",
    "pred_err = reg.predict(lam_vec_test)"
   ]
  },
  {
   "cell_type": "code",
   "execution_count": null,
   "metadata": {},
   "outputs": [],
   "source": [
    "x = np.linspace(low_b,upper_b,num)\n",
    "y = (2*np.sqrt(r))*x\n",
    "\n",
    "plt.scatter(lam_vec, err_noise_test)\n",
    "plt.plot(lam_vec, pred_err, '-', color = 'red')\n",
    "plt.title(\"Difference in true subspace and noisy guess\")\n",
    "plt.xlabel(\"Noise level\")\n",
    "plt.ylabel(\"Error\")\n",
    "plt.xscale('log')\n",
    "plt.yscale('log')\n",
    "plt.plot(x,y,color = 'green')\n",
    "plt.show()"
   ]
  },
  {
   "cell_type": "markdown",
   "metadata": {},
   "source": [
    "### PCA"
   ]
  },
  {
   "cell_type": "code",
   "execution_count": null,
   "metadata": {},
   "outputs": [],
   "source": [
    "from sklearn.decomposition import PCA\n",
    "pca = PCA(n_components=2)\n",
    "pca.fit(np.vstack((lam_vec, err_nullSpace)).T)"
   ]
  },
  {
   "cell_type": "code",
   "execution_count": null,
   "metadata": {
    "scrolled": true
   },
   "outputs": [],
   "source": [
    "pca.components_"
   ]
  },
  {
   "cell_type": "code",
   "execution_count": null,
   "metadata": {},
   "outputs": [],
   "source": [
    "pca.explained_variance_"
   ]
  },
  {
   "cell_type": "code",
   "execution_count": null,
   "metadata": {},
   "outputs": [],
   "source": [
    "def draw_vector(v0, v1, ax=None):\n",
    "    ax = ax or plt.gca()\n",
    "    arrowprops=dict(arrowstyle='->',\n",
    "                    linewidth=2,\n",
    "                    shrinkA=0, shrinkB=0)\n",
    "    ax.annotate('', v1, v0, arrowprops=arrowprops)\n",
    "\n",
    "# plot data\n",
    "plt.scatter(lam_vec, err_nullSpace)\n",
    "for length, vector in zip(pca.explained_variance_, pca.components_):\n",
    "    v = vector * 3 * np.sqrt(length)\n",
    "    draw_vector(pca.mean_, pca.mean_ + v)\n",
    "#plt.xscale('log')\n",
    "#plt.yscale('log')\n",
    "plt.plot(x,y, color = 'red')\n",
    "plt.axis('equal');"
   ]
  },
  {
   "cell_type": "code",
   "execution_count": null,
   "metadata": {},
   "outputs": [],
   "source": [
    "Sig"
   ]
  },
  {
   "cell_type": "markdown",
   "metadata": {},
   "source": [
    "Experiment 1 2"
   ]
  },
  {
   "cell_type": "code",
   "execution_count": null,
   "metadata": {
    "scrolled": true
   },
   "outputs": [],
   "source": [
    "d = 100 #Number of columns \n",
    "r = 10 #Dimension of U\n",
    "\n",
    "S = np.random.rand(d,r) #Random (true) subspace\n",
    "#S = np.array([[1,1],[1,2],[1,3],[1,4],[1,5]]) #Uncomment the left out for an example true space\n",
    "S = np.linalg.qr(S)[0] #Orthogonalizing S\n",
    "\n",
    "W = np.zeros((d,d-r))\n",
    "\n",
    "#Uncomment for the first type of W matrix\n",
    "\"\"\"\n",
    "for i in range(W.shape[1]):\n",
    "    temp = 0\n",
    "    while temp!=r+1:\n",
    "        W[temp+i][i] = 1\n",
    "        temp+=1\n",
    "\"\"\"\n",
    "\n",
    "#Uncomment for the second type of W matrix\n",
    "\n",
    "for i in range(W.shape[0]):\n",
    "    for j in range(W.shape[1]):\n",
    "        if i < r:\n",
    "            W[i][j] = 1\n",
    "        else:\n",
    "            if i-r == j:\n",
    "                W[i][j] = 1\n",
    "        \n",
    "W_T = np.transpose(W)\n",
    "\n",
    "print(\"Binary matrix \\n\", W)\n",
    "\n",
    "low_b = 1e-8 #Lower bound of noise\n",
    "upper_b = 1e-2 #Upper bound of noise\n",
    "num = 10000 # Number of experiments\n",
    "\n",
    "lam_vec = np.random.uniform(low_b,upper_b,num) # Vector that stores different noise values to test\n",
    "lam_vec = np.sort(lam_vec)"
   ]
  },
  {
   "cell_type": "code",
   "execution_count": null,
   "metadata": {},
   "outputs": [],
   "source": [
    "err_A_2 = np.empty(num, dtype = float) #Stores error in kernel spaces for each experiment (no noise vs noise)\n",
    "err_U_test_2 = np.empty(num, dtype = float) #Stores error in kernel spaces of A, i.e. errors in 'guesses' (no noise vs noise)\n",
    "err_test_2 = np.empty(num, dtype = float) #Stores error in the difference between true projection and no noise guess\n",
    "err_noise_test_2 = np.empty(num, dtype = float) # Stores error in difference between true projection and noise guess\n",
    "bounds_2 = np.empty(num, dtype = float) #Stores the error bounds for each experiment\n",
    "Sig_2 = np.empty(num, dtype = float) #Stores the singular values of B for each experiment\n",
    "\n",
    "c = 0\n",
    "\n",
    "for lam in lam_vec:\n",
    "    err_A_2[c], err_U_test_2[c], err_test_2[c], err_noise_test_2[c], bounds_2[c], Sig_2[c] = Errors(d,r,S,W,lam)\n",
    "    c+=1\n"
   ]
  },
  {
   "cell_type": "code",
   "execution_count": null,
   "metadata": {},
   "outputs": [],
   "source": [
    "plt.scatter(lam_vec, err_noise_test_2)\n",
    "plt.title(\"Difference in true subspace and noisy guess\")\n",
    "plt.xlabel(\"Noise level\")\n",
    "plt.ylabel(\"Error\")\n",
    "plt.xscale('log')\n",
    "plt.yscale('log')\n",
    "plt.plot(lam_vec,bounds_2,color = 'red')\n",
    "plt.plot(lam_vec,Sig_2, color = 'green')\n",
    "plt.show()"
   ]
  },
  {
   "cell_type": "markdown",
   "metadata": {},
   "source": [
    "Experiment 2 2"
   ]
  },
  {
   "cell_type": "code",
   "execution_count": null,
   "metadata": {},
   "outputs": [],
   "source": [
    "num = 1000 # Number of experiments\n",
    "d_vec = np.random.randint(10,200, num) \n",
    "d_vec = np.sort(d_vec)\n",
    "r = 7 #Dimension of U\n",
    "lam = 1e-5 #Noise level"
   ]
  },
  {
   "cell_type": "code",
   "execution_count": null,
   "metadata": {},
   "outputs": [],
   "source": [
    "err_A_2 = np.empty(num, dtype = float) #Stores error in kernel spaces for each experiment (no noise vs noise)\n",
    "err_U_test_2 = np.empty(num, dtype = float) #Stores error in kernel spaces of A, i.e. errors in 'guesses' (no noise vs noise)\n",
    "err_test_2 = np.empty(num, dtype = float) #Stores error in the difference between true projection and no noise guess\n",
    "err_noise_test_2 = np.empty(num, dtype = float) # Stores error in difference between true projection and noise guess\n",
    "bounds_2 = np.empty(num, dtype = float) #Stores the error bounds for each experiment\n",
    "Sig_2 = np.empty(num, dtype = float) #Stores the singular values of B for each experiment\n",
    "\n",
    "c = 0\n",
    "\n",
    "for d_ in d_vec:\n",
    "    S = np.random.rand(d_,r)\n",
    "    S = np.linalg.qr(S)[0] #Orthogonalizing S\n",
    "    W = np.zeros((d_,d_-r))\n",
    "\n",
    "    #Uncomment for the first type of W matrix\n",
    "    \"\"\"\n",
    "    for i in range(W.shape[1]):\n",
    "        temp = 0\n",
    "        while temp!=r+1:\n",
    "            W[temp+i][i] = 1\n",
    "            temp+=1\n",
    "    \"\"\"\n",
    "\n",
    "    #Uncomment for the second type of W matrix\n",
    "\n",
    "    for i in range(W.shape[0]):\n",
    "        for j in range(W.shape[1]):\n",
    "            if i < r:\n",
    "                W[i][j] = 1\n",
    "            else:\n",
    "                if i-r == j:\n",
    "                    W[i][j] = 1\n",
    "\n",
    "\n",
    "    err_A_2[c], err_U_test_2[c], err_test_2[c], err_noise_test_2[c], bounds_2[c], Sig_2[c] = Errors(d_,r,S,W,lam)\n",
    "    c+=1"
   ]
  },
  {
   "cell_type": "code",
   "execution_count": null,
   "metadata": {},
   "outputs": [],
   "source": [
    "plt.scatter(d_vec, err_noise_test_2)\n",
    "plt.title(\"Difference in true subspace and noisy guess\")\n",
    "plt.xlabel(\"Ambient Dimension\")\n",
    "plt.ylabel(\"Error\")\n",
    "#plt.xscale('log')\n",
    "plt.yscale('log')\n",
    "plt.plot(d_vec,bounds_2, color = 'red')\n",
    "plt.plot(d_vec,Sig_2, color = 'green')\n",
    "plt.show()"
   ]
  },
  {
   "cell_type": "code",
   "execution_count": null,
   "metadata": {},
   "outputs": [],
   "source": []
  }
 ],
 "metadata": {
  "kernelspec": {
   "display_name": "Python 3",
   "language": "python",
   "name": "python3"
  },
  "language_info": {
   "codemirror_mode": {
    "name": "ipython",
    "version": 3
   },
   "file_extension": ".py",
   "mimetype": "text/x-python",
   "name": "python",
   "nbconvert_exporter": "python",
   "pygments_lexer": "ipython3",
   "version": "3.8.5"
  }
 },
 "nbformat": 4,
 "nbformat_minor": 4
}
